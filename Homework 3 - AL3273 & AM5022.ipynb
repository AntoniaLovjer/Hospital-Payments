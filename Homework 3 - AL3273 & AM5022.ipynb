{
 "cells": [
  {
   "cell_type": "markdown",
   "metadata": {},
   "source": [
    "## Introduction"
   ]
  },
  {
   "cell_type": "markdown",
   "metadata": {},
   "source": [
    "TEAMMATES: Akshat and Annie"
   ]
  },
  {
   "cell_type": "markdown",
   "metadata": {},
   "source": [
    "The overall goal is to predict whether a payment by a company to a medical doctor or facility\n",
    "was made as part of a research project or not."
   ]
  },
  {
   "cell_type": "markdown",
   "metadata": {},
   "source": [
    "### Imports"
   ]
  },
  {
   "cell_type": "code",
   "execution_count": 560,
   "metadata": {},
   "outputs": [],
   "source": [
    "# data loading and manipulation\n",
    "import pandas as pd\n",
    "import numpy as np\n",
    "import random\n",
    "# from dirty_cat import TargetEncoder\n",
    "from category_encoders import TargetEncoder\n",
    "\n",
    "# scikit learn\n",
    "from sklearn.impute import SimpleImputer\n",
    "from sklearn.model_selection import train_test_split, cross_val_score, GridSearchCV, cross_validate\n",
    "from sklearn.pipeline import Pipeline, make_pipeline\n",
    "from sklearn.preprocessing import OneHotEncoder, LabelEncoder, StandardScaler\n",
    "from sklearn.linear_model import LogisticRegression\n",
    "from sklearn.svm import LinearSVC\n",
    "from sklearn.compose import ColumnTransformer, make_column_transformer\n",
    "from sklearn.metrics import mean_squared_error, confusion_matrix, roc_auc_score, auc, average_precision_score, accuracy_score\n",
    "from sklearn.ensemble import RandomForestClassifier, GradientBoostingClassifier\n",
    "# unbalanced sets\n",
    "from imblearn.under_sampling import RandomUnderSampler\n",
    "\n",
    "# plotting\n",
    "import matplotlib.pyplot as plt\n",
    "from sklearn.tree import export_graphviz\n",
    "%matplotlib inline\n",
    "import warnings\n",
    "warnings.filterwarnings('ignore')"
   ]
  },
  {
   "cell_type": "markdown",
   "metadata": {},
   "source": [
    "### Load data"
   ]
  },
  {
   "cell_type": "markdown",
   "metadata": {},
   "source": [
    "The positive class corresponds to the payments that were made by a company to a doctor or facility that is part of the **research project**. The negative class on the other hand are the **general payments**. \n",
    "\n",
    "In the original data sets, the ratio of the positive class to the negative class is 1/20, making the positive class the minority class. \n",
    "\n",
    "Because the data sets are so large, we will subsample from the classes in order to maintain the same ratio. Thus we take 120K data points from Class 0, and 20K data points from Class 1. \n",
    "\n",
    "120K from the positive class turns out to be ~20% of the data, and 2M from the negative class is ~20% from the negative class. "
   ]
  },
  {
   "cell_type": "code",
   "execution_count": 2,
   "metadata": {},
   "outputs": [],
   "source": [
    "# # Import 20% data randomly\n",
    "# p = 0.2\n",
    "# df0 = pd.read_csv('../payments2017/d0.csv', skiprows=lambda i: i>0 and random.random() > p)\n",
    "# df1 = pd.read_csv('../payments2017/d1.csv', skiprows=lambda i: i>0 and random.random() > p)\n",
    "\n",
    "# # Write sampled data for future use\n",
    "# df0.to_csv('../payments2017/gen_payments_sampled.csv')\n",
    "# df1.to_csv('../payments2017/res_payments_sampled.csv')"
   ]
  },
  {
   "cell_type": "code",
   "execution_count": 3,
   "metadata": {},
   "outputs": [],
   "source": [
    "# Import from sampled files\n",
    "df0 = pd.read_csv('../payments2017/gen_payments_sampled.csv')\n",
    "df1 = pd.read_csv('../payments2017/res_payments_sampled.csv')"
   ]
  },
  {
   "cell_type": "code",
   "execution_count": 4,
   "metadata": {
    "scrolled": true
   },
   "outputs": [
    {
     "data": {
      "text/plain": [
       "(2132686, 76)"
      ]
     },
     "execution_count": 4,
     "metadata": {},
     "output_type": "execute_result"
    }
   ],
   "source": [
    "df0.shape"
   ]
  },
  {
   "cell_type": "code",
   "execution_count": 5,
   "metadata": {},
   "outputs": [
    {
     "data": {
      "text/plain": [
       "(120511, 177)"
      ]
     },
     "execution_count": 5,
     "metadata": {},
     "output_type": "execute_result"
    }
   ],
   "source": [
    "df1.shape"
   ]
  },
  {
   "cell_type": "markdown",
   "metadata": {},
   "source": [
    "## Feature Intersection"
   ]
  },
  {
   "cell_type": "markdown",
   "metadata": {},
   "source": [
    "What features should be excluded because they leak the target information?\n",
    "\n",
    "There are 75 features present in the negative class, and 176 in the positive class. Our approach to combining the data sets for both the positive and the negative classs it to take an intersection of the features. "
   ]
  },
  {
   "cell_type": "code",
   "execution_count": 6,
   "metadata": {
    "scrolled": true
   },
   "outputs": [
    {
     "name": "stdout",
     "output_type": "stream",
     "text": [
      "There are 64 features present in the intersection of the two dataframes.\n"
     ]
    }
   ],
   "source": [
    "notPrs = list(set(list(df1.columns)).difference(list(df0.columns)))\n",
    "featureIntersection = list(set(list(df1.columns)).difference(notPrs))\n",
    "print(\"There are {} features present in the intersection of the two dataframes.\".format(len(featureIntersection) - 1))\n",
    "\n",
    "df1 = df1[featureIntersection]\n",
    "df0 = df0[featureIntersection]"
   ]
  },
  {
   "cell_type": "markdown",
   "metadata": {},
   "source": [
    "Before we concatenate the two data sets, we add an indicator variable to each one specifying which class the data belongs to. We call this feature **target**, which is equal to 1 for the positive class and 0 for the negative class."
   ]
  },
  {
   "cell_type": "code",
   "execution_count": 7,
   "metadata": {},
   "outputs": [
    {
     "data": {
      "text/plain": [
       "(2253197, 66)"
      ]
     },
     "execution_count": 7,
     "metadata": {},
     "output_type": "execute_result"
    }
   ],
   "source": [
    "df1['Target'] = 1\n",
    "df0['Target'] = 0\n",
    "\n",
    "df = pd.concat([df1, df0], axis=0)\n",
    "df.shape"
   ]
  },
  {
   "cell_type": "markdown",
   "metadata": {},
   "source": [
    "## NA Columns"
   ]
  },
  {
   "cell_type": "markdown",
   "metadata": {},
   "source": [
    "We examine the missing values of the data and see that a lot of the features have the majority of their data missing."
   ]
  },
  {
   "cell_type": "code",
   "execution_count": 8,
   "metadata": {},
   "outputs": [],
   "source": [
    "NAs = df.isna().mean().sort_values(ascending=False)"
   ]
  },
  {
   "cell_type": "code",
   "execution_count": 9,
   "metadata": {
    "scrolled": true
   },
   "outputs": [
    {
     "data": {
      "text/plain": [
       "Recipient_Province                                                  0.999945\n",
       "Recipient_Postal_Code                                               0.999931\n",
       "Physician_License_State_code5                                       0.999826\n",
       "Physician_License_State_code4                                       0.999209\n",
       "Associated_Drug_or_Biological_NDC_5                                 0.997671\n",
       "Physician_License_State_code3                                       0.995469\n",
       "Product_Category_or_Therapeutic_Area_5                              0.993623\n",
       "Indicate_Drug_or_Biological_or_Device_or_Medical_Supply_5           0.993483\n",
       "Name_of_Drug_or_Biological_or_Device_or_Medical_Supply_5            0.993420\n",
       "Covered_or_Noncovered_Indicator_5                                   0.993296\n",
       "Teaching_Hospital_CCN                                               0.987752\n",
       "Teaching_Hospital_Name                                              0.987752\n",
       "Teaching_Hospital_ID                                                0.987752\n",
       "Associated_Drug_or_Biological_NDC_4                                 0.983768\n",
       "Physician_License_State_code2                                       0.980442\n",
       "Product_Category_or_Therapeutic_Area_4                              0.977459\n",
       "Indicate_Drug_or_Biological_or_Device_or_Medical_Supply_4           0.977279\n",
       "Name_of_Drug_or_Biological_or_Device_or_Medical_Supply_4            0.977121\n",
       "Covered_or_Noncovered_Indicator_4                                   0.976900\n",
       "Physician_Name_Suffix                                               0.975787\n",
       "Associated_Drug_or_Biological_NDC_3                                 0.934709\n",
       "Product_Category_or_Therapeutic_Area_3                              0.921423\n",
       "Indicate_Drug_or_Biological_or_Device_or_Medical_Supply_3           0.921151\n",
       "Name_of_Drug_or_Biological_or_Device_or_Medical_Supply_3            0.921004\n",
       "Covered_or_Noncovered_Indicator_3                                   0.919222\n",
       "Associated_Drug_or_Biological_NDC_2                                 0.827624\n",
       "Product_Category_or_Therapeutic_Area_2                              0.802161\n",
       "Indicate_Drug_or_Biological_or_Device_or_Medical_Supply_2           0.801846\n",
       "Name_of_Drug_or_Biological_or_Device_or_Medical_Supply_2            0.801756\n",
       "Covered_or_Noncovered_Indicator_2                                   0.797244\n",
       "                                                                      ...   \n",
       "Physician_Specialty                                                 0.056165\n",
       "Physician_Last_Name                                                 0.055002\n",
       "Physician_First_Name                                                0.054988\n",
       "Physician_License_State_code1                                       0.054983\n",
       "Physician_Profile_ID                                                0.054979\n",
       "Physician_Primary_Type                                              0.054979\n",
       "Covered_or_Noncovered_Indicator_1                                   0.054517\n",
       "Applicable_Manufacturer_or_Applicable_GPO_Making_Payment_State      0.014239\n",
       "Recipient_Zip_Code                                                  0.000122\n",
       "Recipient_State                                                     0.000122\n",
       "Recipient_Primary_Business_Street_Address_Line1                     0.000054\n",
       "Recipient_Country                                                   0.000053\n",
       "Recipient_City                                                      0.000053\n",
       "Related_Product_Indicator                                           0.000000\n",
       "Record_ID                                                           0.000000\n",
       "Applicable_Manufacturer_or_Applicable_GPO_Making_Payment_ID         0.000000\n",
       "Unnamed: 0                                                          0.000000\n",
       "Applicable_Manufacturer_or_Applicable_GPO_Making_Payment_Name       0.000000\n",
       "Delay_in_Publication_Indicator                                      0.000000\n",
       "Date_of_Payment                                                     0.000000\n",
       "Dispute_Status_for_Publication                                      0.000000\n",
       "Change_Type                                                         0.000000\n",
       "Payment_Publication_Date                                            0.000000\n",
       "Form_of_Payment_or_Transfer_of_Value                                0.000000\n",
       "Program_Year                                                        0.000000\n",
       "Submitting_Applicable_Manufacturer_or_Applicable_GPO_Name           0.000000\n",
       "Total_Amount_of_Payment_USDollars                                   0.000000\n",
       "Applicable_Manufacturer_or_Applicable_GPO_Making_Payment_Country    0.000000\n",
       "Covered_Recipient_Type                                              0.000000\n",
       "Target                                                              0.000000\n",
       "Length: 66, dtype: float64"
      ]
     },
     "execution_count": 9,
     "metadata": {},
     "output_type": "execute_result"
    }
   ],
   "source": [
    "NAs"
   ]
  },
  {
   "cell_type": "markdown",
   "metadata": {},
   "source": [
    "## Train-Test Split"
   ]
  },
  {
   "cell_type": "code",
   "execution_count": 119,
   "metadata": {},
   "outputs": [],
   "source": [
    "features = df.drop(columns='Target')\n",
    "target = df['Target']\n",
    "X_train, X_test, y_train, y_test = train_test_split(features, target, random_state=42)\n",
    "model_scores = dict()"
   ]
  },
  {
   "cell_type": "markdown",
   "metadata": {},
   "source": [
    "## Random Undersampling and Validation Split"
   ]
  },
  {
   "cell_type": "code",
   "execution_count": 121,
   "metadata": {},
   "outputs": [],
   "source": [
    "rus = RandomUnderSampler(random_state=42)\n",
    "X_train_rus, y_train_rus = rus.fit_resample(X_train, y_train)\n",
    "X_train_rus = pd.DataFrame(X_train_rus, columns = X_train.columns)\n",
    "\n",
    "X_train, X_val, y_train, y_val = train_test_split(X_train_rus, y_train_rus, random_state=42)"
   ]
  },
  {
   "cell_type": "code",
   "execution_count": 125,
   "metadata": {
    "collapsed": true
   },
   "outputs": [
    {
     "name": "stdout",
     "output_type": "stream",
     "text": [
      "<class 'pandas.core.frame.DataFrame'>\n",
      "Int64Index: 135904 entries, 38773 to 121958\n",
      "Data columns (total 65 columns):\n",
      "Associated_Drug_or_Biological_NDC_4                                 1143 non-null object\n",
      "Recipient_Primary_Business_Street_Address_Line1                     135834 non-null object\n",
      "Indicate_Drug_or_Biological_or_Device_or_Medical_Supply_5           640 non-null object\n",
      "Physician_Middle_Name                                               41194 non-null object\n",
      "Physician_License_State_code4                                       68 non-null object\n",
      "Physician_Specialty                                                 70418 non-null object\n",
      "Name_of_Drug_or_Biological_or_Device_or_Medical_Supply_3            6199 non-null object\n",
      "Covered_or_Noncovered_Indicator_3                                   6324 non-null object\n",
      "Associated_Drug_or_Biological_NDC_2                                 13627 non-null object\n",
      "Related_Product_Indicator                                           135904 non-null object\n",
      "Product_Category_or_Therapeutic_Area_5                              629 non-null object\n",
      "Covered_or_Noncovered_Indicator_4                                   1846 non-null object\n",
      "Applicable_Manufacturer_or_Applicable_GPO_Making_Payment_State      128194 non-null object\n",
      "Applicable_Manufacturer_or_Applicable_GPO_Making_Payment_Name       135904 non-null object\n",
      "Associated_Drug_or_Biological_NDC_3                                 4765 non-null object\n",
      "Delay_in_Publication_Indicator                                      135904 non-null object\n",
      "Date_of_Payment                                                     135904 non-null object\n",
      "Physician_License_State_code1                                       70493 non-null object\n",
      "Name_of_Drug_or_Biological_or_Device_or_Medical_Supply_4            1834 non-null object\n",
      "Recipient_Primary_Business_Street_Address_Line2                     42192 non-null object\n",
      "Recipient_Postal_Code                                               56 non-null object\n",
      "Teaching_Hospital_ID                                                11201 non-null object\n",
      "Indicate_Drug_or_Biological_or_Device_or_Medical_Supply_1           111061 non-null object\n",
      "Recipient_Province                                                  43 non-null object\n",
      "Physician_Profile_ID                                                70493 non-null object\n",
      "Physician_Last_Name                                                 70493 non-null object\n",
      "Name_of_Drug_or_Biological_or_Device_or_Medical_Supply_1            110555 non-null object\n",
      "Physician_Name_Suffix                                               1788 non-null object\n",
      "Indicate_Drug_or_Biological_or_Device_or_Medical_Supply_4           1825 non-null object\n",
      "Physician_License_State_code5                                       13 non-null object\n",
      "Change_Type                                                         135904 non-null object\n",
      "Payment_Publication_Date                                            135904 non-null object\n",
      "Teaching_Hospital_CCN                                               11201 non-null object\n",
      "Product_Category_or_Therapeutic_Area_2                              17424 non-null object\n",
      "Covered_or_Noncovered_Indicator_2                                   18288 non-null object\n",
      "Name_of_Drug_or_Biological_or_Device_or_Medical_Supply_2            17447 non-null object\n",
      "Recipient_Zip_Code                                                  135778 non-null object\n",
      "Form_of_Payment_or_Transfer_of_Value                                135904 non-null object\n",
      "Associated_Drug_or_Biological_NDC_1                                 82777 non-null object\n",
      "Name_of_Drug_or_Biological_or_Device_or_Medical_Supply_5            640 non-null object\n",
      "Physician_First_Name                                                70492 non-null object\n",
      "Covered_or_Noncovered_Indicator_5                                   649 non-null object\n",
      "Program_Year                                                        135904 non-null object\n",
      "Submitting_Applicable_Manufacturer_or_Applicable_GPO_Name           135904 non-null object\n",
      "Total_Amount_of_Payment_USDollars                                   135904 non-null float64\n",
      "Applicable_Manufacturer_or_Applicable_GPO_Making_Payment_Country    135904 non-null object\n",
      "Recipient_State                                                     135778 non-null object\n",
      "Product_Category_or_Therapeutic_Area_4                              1811 non-null object\n",
      "Covered_Recipient_Type                                              135904 non-null object\n",
      "Product_Category_or_Therapeutic_Area_1                              107772 non-null object\n",
      "Indicate_Drug_or_Biological_or_Device_or_Medical_Supply_3           6190 non-null object\n",
      "Teaching_Hospital_Name                                              11201 non-null object\n",
      "Unnamed: 0                                                          135904 non-null object\n",
      "Recipient_City                                                      135834 non-null object\n",
      "Indicate_Drug_or_Biological_or_Device_or_Medical_Supply_2           17444 non-null object\n",
      "Dispute_Status_for_Publication                                      135904 non-null object\n",
      "Physician_Primary_Type                                              70493 non-null object\n",
      "Associated_Drug_or_Biological_NDC_5                                 160 non-null object\n",
      "Recipient_Country                                                   135834 non-null object\n",
      "Product_Category_or_Therapeutic_Area_3                              6173 non-null object\n",
      "Physician_License_State_code3                                       340 non-null object\n",
      "Applicable_Manufacturer_or_Applicable_GPO_Making_Payment_ID         135904 non-null object\n",
      "Physician_License_State_code2                                       1391 non-null object\n",
      "Record_ID                                                           135904 non-null object\n",
      "Covered_or_Noncovered_Indicator_1                                   123459 non-null object\n",
      "dtypes: float64(1), object(64)\n",
      "memory usage: 68.4+ MB\n"
     ]
    }
   ],
   "source": [
    "# For some reason, the Total_Amount_of_Payment_USDollars column\n",
    "# gets converted to type 'object'\n",
    "# so changing that\n",
    "X_train.Total_Amount_of_Payment_USDollars = X_train.Total_Amount_of_Payment_USDollars.astype(float)\n",
    "X_train.info()"
   ]
  },
  {
   "cell_type": "markdown",
   "metadata": {},
   "source": [
    "## Feature Identification ~ Task 1"
   ]
  },
  {
   "cell_type": "markdown",
   "metadata": {},
   "source": [
    "We identifying possible irrelevant columns by looking at the features are Names or IDs, such as the hospial ID, record ID, postal codes or physcian names."
   ]
  },
  {
   "cell_type": "code",
   "execution_count": 126,
   "metadata": {},
   "outputs": [],
   "source": [
    "columns_to_drop = ['Recipient_Province', \n",
    "                    'Recipient_Postal_Code', \n",
    "                    'Recipient_Primary_Business_Street_Address_Line2',\n",
    "                    'Teaching_Hospital_Name', \n",
    "                    'Teaching_Hospital_CCN',\n",
    "                    'Teaching_Hospital_ID',\n",
    "                    'Physician_Name_Suffix',       \n",
    "                    'Program_Year', \n",
    "                    'Physician_Profile_ID', \n",
    "                    'Physician_Last_Name', \n",
    "                    'Physician_First_Name',\n",
    "                    'Record_ID',\n",
    "                    'Applicable_Manufacturer_or_Applicable_GPO_Making_Payment_ID',\n",
    "                    'Physician_Profile_ID',\n",
    "                    'Recipient_Zip_Code',\n",
    "                    'Date_of_Payment',\n",
    "                    'Physician_Middle_Name',\n",
    "                    'Payment_Publication_Date', \n",
    "                    'Unnamed: 0' # Index col from one of the DFs\n",
    "                    ]"
   ]
  },
  {
   "cell_type": "markdown",
   "metadata": {},
   "source": [
    "As part of out baseline estimate, we will aslo drop columns with any missing value at all. Later on we will not drop all of them and try to impute the missing values."
   ]
  },
  {
   "cell_type": "code",
   "execution_count": 127,
   "metadata": {
    "scrolled": true
   },
   "outputs": [],
   "source": [
    "nan_columns = NAs[NAs > 0] \n",
    "nan_columns = np.array(nan_columns.index)\n",
    "to_drop_baseline = list(set(nan_columns) | set(columns_to_drop))"
   ]
  },
  {
   "cell_type": "code",
   "execution_count": 128,
   "metadata": {},
   "outputs": [],
   "source": [
    "X_train_Baseline = X_train.drop(columns=to_drop_baseline, axis ='columns')"
   ]
  },
  {
   "cell_type": "markdown",
   "metadata": {},
   "source": [
    "Checking single variable performances to identify leakage issues"
   ]
  },
  {
   "cell_type": "code",
   "execution_count": 129,
   "metadata": {},
   "outputs": [
    {
     "data": {
      "text/plain": [
       "{'Covered_Recipient_Type': 0.9771750643134993,\n",
       " 'Submitting_Applicable_Manufacturer_or_Applicable_GPO_Name': 0.7654962361033314,\n",
       " 'Applicable_Manufacturer_or_Applicable_GPO_Making_Payment_Name': 0.8547504171677295,\n",
       " 'Form_of_Payment_or_Transfer_of_Value': 0.8156713240504022,\n",
       " 'Dispute_Status_for_Publication': 0.5002354610288497,\n",
       " 'Delay_in_Publication_Indicator': 0.5000956558653123,\n",
       " 'Related_Product_Indicator': 0.5418678041967537,\n",
       " 'Applicable_Manufacturer_or_Applicable_GPO_Making_Payment_Country': 0.5497777905556079,\n",
       " 'Change_Type': 0.5175417994092365,\n",
       " 'Total_Amount_of_Payment_USDollars': 0.7378737980278232}"
      ]
     },
     "execution_count": 129,
     "metadata": {},
     "output_type": "execute_result"
    }
   ],
   "source": [
    "objVars = ['Covered_Recipient_Type', # leaking target info\n",
    "            'Submitting_Applicable_Manufacturer_or_Applicable_GPO_Name', # leaking target info\n",
    "            'Applicable_Manufacturer_or_Applicable_GPO_Making_Payment_Name', # leaking target info\n",
    "           'Form_of_Payment_or_Transfer_of_Value',\n",
    "           'Dispute_Status_for_Publication', \n",
    "           'Delay_in_Publication_Indicator',\n",
    "           'Related_Product_Indicator',\n",
    "           'Applicable_Manufacturer_or_Applicable_GPO_Making_Payment_Country',\n",
    "           'Change_Type',\n",
    "           'Total_Amount_of_Payment_USDollars']\n",
    "\n",
    "single_var_auc = dict()\n",
    "single_var_acc = dict()\n",
    "\n",
    "for var in objVars:\n",
    "    \n",
    "    if var != 'Total_Amount_of_Payment_USDollars':\n",
    "        baseline_pipe = Pipeline([\n",
    "                                (\"dummies\", OneHotEncoder(handle_unknown='ignore')),\n",
    "                                (\"logreg\", LogisticRegression(solver='lbfgs'))])\n",
    "    else:\n",
    "        baseline_pipe = Pipeline([('scalar', StandardScaler()),\n",
    "                                   (\"logreg\", LogisticRegression(solver='lbfgs'))])\n",
    "\n",
    "    # Baseline Training and testing\n",
    "#     logreg = baseline_pipe.fit(X_train[[var]], y_train)\n",
    "#     y_score = logreg.predict_proba(X_val[[var]])\n",
    "    \n",
    "    # Store in dict\n",
    "#     single_var_auc[var] = roc_auc_score(y_val, y_score[:, 1])\n",
    "    \n",
    "    single_var_acc[var] = np.mean(cross_val_score(baseline_pipe, X_train[[var]], y_train, cv=5))\n",
    "    \n",
    "single_var_acc"
   ]
  },
  {
   "cell_type": "markdown",
   "metadata": {},
   "source": [
    "Variables with CV accuracy more than 0.8:"
   ]
  },
  {
   "cell_type": "code",
   "execution_count": 131,
   "metadata": {},
   "outputs": [
    {
     "data": {
      "text/plain": [
       "{'Covered_Recipient_Type': 0.9771750643134993,\n",
       " 'Applicable_Manufacturer_or_Applicable_GPO_Making_Payment_Name': 0.8547504171677295,\n",
       " 'Form_of_Payment_or_Transfer_of_Value': 0.8156713240504022}"
      ]
     },
     "execution_count": 131,
     "metadata": {},
     "output_type": "execute_result"
    }
   ],
   "source": [
    "{key: single_var_acc[key] for key in single_var_acc if single_var_acc[key] > 0.8}"
   ]
  },
  {
   "cell_type": "markdown",
   "metadata": {},
   "source": [
    "We see that three of the scores stand out: \n",
    "\n",
    "- Covered_Recipient_Type,\n",
    "- Form_of_Payment_or_Transfer_of_Value, and \n",
    "- Applicable_Manufacturer_or_Applicable_GPO_Making_Payment_Name\n",
    "\n",
    "It is likely that these features leak target information, and so we drop them from the sample. "
   ]
  },
  {
   "cell_type": "markdown",
   "metadata": {},
   "source": [
    "Looking at number of unique values in variables:"
   ]
  },
  {
   "cell_type": "code",
   "execution_count": 132,
   "metadata": {
    "scrolled": true
   },
   "outputs": [
    {
     "data": {
      "text/plain": [
       "Related_Product_Indicator                                               2\n",
       "Applicable_Manufacturer_or_Applicable_GPO_Making_Payment_Name         911\n",
       "Delay_in_Publication_Indicator                                          1\n",
       "Change_Type                                                             3\n",
       "Form_of_Payment_or_Transfer_of_Value                                    3\n",
       "Submitting_Applicable_Manufacturer_or_Applicable_GPO_Name             801\n",
       "Total_Amount_of_Payment_USDollars                                   35713\n",
       "Applicable_Manufacturer_or_Applicable_GPO_Making_Payment_Country       21\n",
       "Covered_Recipient_Type                                                  4\n",
       "Dispute_Status_for_Publication                                          2\n",
       "dtype: int64"
      ]
     },
     "execution_count": 132,
     "metadata": {},
     "output_type": "execute_result"
    }
   ],
   "source": [
    "X_train_Baseline.nunique()"
   ]
  },
  {
   "cell_type": "markdown",
   "metadata": {},
   "source": [
    "Additionally, we can remove the feature Delay_in_Publication_Indicator as it only has one unique value and would not add important information to the model."
   ]
  },
  {
   "cell_type": "code",
   "execution_count": 133,
   "metadata": {},
   "outputs": [],
   "source": [
    "# Augmenting columns to drop\n",
    "columns_to_drop += ['Covered_Recipient_Type', # leaking target info\n",
    "                    'Form_of_Payment_or_Transfer_of_Value', # leaking target info\n",
    "                    'Applicable_Manufacturer_or_Applicable_GPO_Making_Payment_Name', # leaking target info\n",
    "                    'Delay_in_Publication_Indicator' # single unique value\n",
    "                    ]"
   ]
  },
  {
   "cell_type": "code",
   "execution_count": 134,
   "metadata": {
    "scrolled": true
   },
   "outputs": [],
   "source": [
    "to_drop_baseline = list(set(nan_columns) | set(columns_to_drop))"
   ]
  },
  {
   "cell_type": "code",
   "execution_count": 135,
   "metadata": {},
   "outputs": [],
   "source": [
    "X_train_Baseline = X_train.drop(columns=to_drop_baseline, axis ='columns')"
   ]
  },
  {
   "cell_type": "markdown",
   "metadata": {},
   "source": [
    "Our new baseline model consists of 7 featues, 6 of which are categorical and 1 that is continuous."
   ]
  },
  {
   "cell_type": "code",
   "execution_count": 136,
   "metadata": {},
   "outputs": [
    {
     "data": {
      "text/plain": [
       "(135904, 6)"
      ]
     },
     "execution_count": 136,
     "metadata": {},
     "output_type": "execute_result"
    }
   ],
   "source": [
    "X_train_Baseline.shape"
   ]
  },
  {
   "cell_type": "code",
   "execution_count": 139,
   "metadata": {
    "scrolled": true
   },
   "outputs": [
    {
     "data": {
      "text/html": [
       "<div>\n",
       "<style scoped>\n",
       "    .dataframe tbody tr th:only-of-type {\n",
       "        vertical-align: middle;\n",
       "    }\n",
       "\n",
       "    .dataframe tbody tr th {\n",
       "        vertical-align: top;\n",
       "    }\n",
       "\n",
       "    .dataframe thead th {\n",
       "        text-align: right;\n",
       "    }\n",
       "</style>\n",
       "<table border=\"1\" class=\"dataframe\">\n",
       "  <thead>\n",
       "    <tr style=\"text-align: right;\">\n",
       "      <th></th>\n",
       "      <th>Related_Product_Indicator</th>\n",
       "      <th>Change_Type</th>\n",
       "      <th>Submitting_Applicable_Manufacturer_or_Applicable_GPO_Name</th>\n",
       "      <th>Total_Amount_of_Payment_USDollars</th>\n",
       "      <th>Applicable_Manufacturer_or_Applicable_GPO_Making_Payment_Country</th>\n",
       "      <th>Dispute_Status_for_Publication</th>\n",
       "    </tr>\n",
       "  </thead>\n",
       "  <tbody>\n",
       "    <tr>\n",
       "      <th>38773</th>\n",
       "      <td>Yes</td>\n",
       "      <td>UNCHANGED</td>\n",
       "      <td>Alcon Laboratories Inc</td>\n",
       "      <td>5.65</td>\n",
       "      <td>United States</td>\n",
       "      <td>No</td>\n",
       "    </tr>\n",
       "    <tr>\n",
       "      <th>37601</th>\n",
       "      <td>Yes</td>\n",
       "      <td>UNCHANGED</td>\n",
       "      <td>US WorldMeds, LLC</td>\n",
       "      <td>10.49</td>\n",
       "      <td>United States</td>\n",
       "      <td>No</td>\n",
       "    </tr>\n",
       "    <tr>\n",
       "      <th>119118</th>\n",
       "      <td>Yes</td>\n",
       "      <td>UNCHANGED</td>\n",
       "      <td>AbbVie, Inc.</td>\n",
       "      <td>9240.00</td>\n",
       "      <td>United States</td>\n",
       "      <td>No</td>\n",
       "    </tr>\n",
       "    <tr>\n",
       "      <th>70170</th>\n",
       "      <td>Yes</td>\n",
       "      <td>UNCHANGED</td>\n",
       "      <td>Janssen Pharmaceuticals, Inc</td>\n",
       "      <td>0.95</td>\n",
       "      <td>United States</td>\n",
       "      <td>No</td>\n",
       "    </tr>\n",
       "    <tr>\n",
       "      <th>24948</th>\n",
       "      <td>Yes</td>\n",
       "      <td>UNCHANGED</td>\n",
       "      <td>Allergan Inc.</td>\n",
       "      <td>4.84</td>\n",
       "      <td>United States</td>\n",
       "      <td>No</td>\n",
       "    </tr>\n",
       "  </tbody>\n",
       "</table>\n",
       "</div>"
      ],
      "text/plain": [
       "       Related_Product_Indicator Change_Type  \\\n",
       "38773                        Yes   UNCHANGED   \n",
       "37601                        Yes   UNCHANGED   \n",
       "119118                       Yes   UNCHANGED   \n",
       "70170                        Yes   UNCHANGED   \n",
       "24948                        Yes   UNCHANGED   \n",
       "\n",
       "       Submitting_Applicable_Manufacturer_or_Applicable_GPO_Name  \\\n",
       "38773                              Alcon Laboratories Inc          \n",
       "37601                                   US WorldMeds, LLC          \n",
       "119118                                       AbbVie, Inc.          \n",
       "70170                        Janssen Pharmaceuticals, Inc          \n",
       "24948                                       Allergan Inc.          \n",
       "\n",
       "        Total_Amount_of_Payment_USDollars  \\\n",
       "38773                                5.65   \n",
       "37601                               10.49   \n",
       "119118                            9240.00   \n",
       "70170                                0.95   \n",
       "24948                                4.84   \n",
       "\n",
       "       Applicable_Manufacturer_or_Applicable_GPO_Making_Payment_Country  \\\n",
       "38773                                       United States                 \n",
       "37601                                       United States                 \n",
       "119118                                      United States                 \n",
       "70170                                       United States                 \n",
       "24948                                       United States                 \n",
       "\n",
       "       Dispute_Status_for_Publication  \n",
       "38773                              No  \n",
       "37601                              No  \n",
       "119118                             No  \n",
       "70170                              No  \n",
       "24948                              No  "
      ]
     },
     "execution_count": 139,
     "metadata": {},
     "output_type": "execute_result"
    }
   ],
   "source": [
    "X_train_Baseline.head()"
   ]
  },
  {
   "cell_type": "markdown",
   "metadata": {},
   "source": [
    "## Baselining ~ Task 2"
   ]
  },
  {
   "cell_type": "code",
   "execution_count": 140,
   "metadata": {
    "scrolled": true
   },
   "outputs": [],
   "source": [
    "# Defining continuous and categorical variables\n",
    "objVars = ['Dispute_Status_for_Publication', \n",
    "           'Change_Type',\n",
    "           'Related_Product_Indicator',\n",
    "           'Applicable_Manufacturer_or_Applicable_GPO_Making_Payment_Country',\n",
    "           'Submitting_Applicable_Manufacturer_or_Applicable_GPO_Name']\n",
    "\n",
    "contVars = ['Total_Amount_of_Payment_USDollars']"
   ]
  },
  {
   "cell_type": "code",
   "execution_count": 141,
   "metadata": {},
   "outputs": [],
   "source": [
    "# Defining ColumnTransformer\n",
    "preprocessor = ColumnTransformer(transformers=[(\"dummies\", OneHotEncoder(handle_unknown='ignore'), objVars)],\n",
    "                                 remainder='passthrough')\n",
    "\n",
    "# Create pipeplines\n",
    "baseline_pipe = Pipeline(steps=[('preprocessor', preprocessor),\n",
    "                          (\"logreg\", LogisticRegression(C=1000000, solver='lbfgs', max_iter=1000))\n",
    "                         ])"
   ]
  },
  {
   "cell_type": "code",
   "execution_count": 142,
   "metadata": {},
   "outputs": [],
   "source": [
    "# Baseline Training and testing\n",
    "# logreg = baseline_pipe.fit(pd.DataFrame(X_train_rus, columns = X_train.columns), y_train_rus)\n",
    "# y_score = logreg.predict_proba(pd.DataFrame(X_train_rus, columns = X_train.columns))\n",
    "# baseline= roc_auc_score(y_train_rus, y_score[:, 1])\n",
    "\n",
    "baseline = cross_validate(baseline_pipe, X_train_Baseline, y_train, scoring=['accuracy','roc_auc'], cv=5)\n",
    "model_scores['baseline_cv_acc'] = np.mean(baseline['test_accuracy'])\n",
    "model_scores['baseline_cv_roc'] = np.mean(baseline['test_roc_auc'])"
   ]
  },
  {
   "cell_type": "code",
   "execution_count": 147,
   "metadata": {
    "scrolled": true
   },
   "outputs": [
    {
     "data": {
      "text/plain": [
       "{'baseline_cv_acc': 0.8667515190390075, 'baseline_cv_roc': 0.944150982940946}"
      ]
     },
     "execution_count": 147,
     "metadata": {},
     "output_type": "execute_result"
    }
   ],
   "source": [
    "model_scores"
   ]
  },
  {
   "cell_type": "markdown",
   "metadata": {},
   "source": [
    "## Feature engineering ~ Task 3"
   ]
  },
  {
   "cell_type": "markdown",
   "metadata": {},
   "source": [
    "**Handling the NAs:**"
   ]
  },
  {
   "cell_type": "markdown",
   "metadata": {},
   "source": [
    "Imputing NA with 'Missing' values --> I would still drop variables that have really high number of NAs - because some of them leak target info, but they have so many missing values that they don't actually leak. "
   ]
  },
  {
   "cell_type": "code",
   "execution_count": 148,
   "metadata": {},
   "outputs": [],
   "source": [
    "nan_columns = NAs[NAs > 0.5] \n",
    "nan_columns = np.array(nan_columns.index)\n",
    "columns_to_drop = list(set(nan_columns) | set(columns_to_drop))"
   ]
  },
  {
   "cell_type": "code",
   "execution_count": 149,
   "metadata": {},
   "outputs": [],
   "source": [
    "X_train_engineered = X_train.drop(columns=columns_to_drop)"
   ]
  },
  {
   "cell_type": "code",
   "execution_count": 150,
   "metadata": {},
   "outputs": [],
   "source": [
    "obj_vars = X_train_engineered.drop(columns=['Total_Amount_of_Payment_USDollars']).columns.values\n",
    "cont_vars = ['Total_Amount_of_Payment_USDollars']"
   ]
  },
  {
   "cell_type": "code",
   "execution_count": 153,
   "metadata": {},
   "outputs": [
    {
     "data": {
      "text/plain": [
       "Index(['Recipient_Primary_Business_Street_Address_Line1',\n",
       "       'Physician_Specialty', 'Related_Product_Indicator',\n",
       "       'Applicable_Manufacturer_or_Applicable_GPO_Making_Payment_State',\n",
       "       'Physician_License_State_code1',\n",
       "       'Indicate_Drug_or_Biological_or_Device_or_Medical_Supply_1',\n",
       "       'Name_of_Drug_or_Biological_or_Device_or_Medical_Supply_1',\n",
       "       'Change_Type', 'Associated_Drug_or_Biological_NDC_1',\n",
       "       'Submitting_Applicable_Manufacturer_or_Applicable_GPO_Name',\n",
       "       'Total_Amount_of_Payment_USDollars',\n",
       "       'Applicable_Manufacturer_or_Applicable_GPO_Making_Payment_Country',\n",
       "       'Recipient_State', 'Product_Category_or_Therapeutic_Area_1',\n",
       "       'Recipient_City', 'Dispute_Status_for_Publication',\n",
       "       'Physician_Primary_Type', 'Recipient_Country',\n",
       "       'Covered_or_Noncovered_Indicator_1'],\n",
       "      dtype='object')"
      ]
     },
     "execution_count": 153,
     "metadata": {},
     "output_type": "execute_result"
    }
   ],
   "source": [
    "X_train_engineered.columns"
   ]
  },
  {
   "cell_type": "code",
   "execution_count": 154,
   "metadata": {},
   "outputs": [],
   "source": [
    "### Identify high cardinality categorical variables"
   ]
  },
  {
   "cell_type": "code",
   "execution_count": 155,
   "metadata": {
    "scrolled": true
   },
   "outputs": [],
   "source": [
    "# # Identify which variables to target encode\n",
    "# target_based_encoding = []\n",
    "# for col in obj_vars:\n",
    "#     print(col, len(X_train_engineered[col].unique()))\n",
    "    \n",
    "#     if len(X_train_engineered[col].unique()) > 100:\n",
    "#         target_based_encoding.append(col)\n",
    "\n",
    "# len(target_based_encoding)"
   ]
  },
  {
   "cell_type": "code",
   "execution_count": 156,
   "metadata": {},
   "outputs": [],
   "source": [
    "# # Final categorical variables\n",
    "# categorical = [cols for cols in obj_vars if cols not in target_based_encoding]\n",
    "# len(categorical) + len(target_based_encoding)"
   ]
  },
  {
   "cell_type": "markdown",
   "metadata": {},
   "source": [
    "Checking for target leakage again since we've added features not used before"
   ]
  },
  {
   "cell_type": "markdown",
   "metadata": {},
   "source": [
    "Impute the missing values of the categorical data with the value \"Missing\""
   ]
  },
  {
   "cell_type": "code",
   "execution_count": 157,
   "metadata": {
    "scrolled": true
   },
   "outputs": [
    {
     "data": {
      "text/plain": [
       "{'Recipient_Primary_Business_Street_Address_Line1': 0.8825715269498922,\n",
       " 'Physician_Specialty': 0.9766452789612836,\n",
       " 'Related_Product_Indicator': 0.5418678041967537,\n",
       " 'Applicable_Manufacturer_or_Applicable_GPO_Making_Payment_State': 0.6236461015882437,\n",
       " 'Physician_License_State_code1': 0.9771309158274244,\n",
       " 'Indicate_Drug_or_Biological_or_Device_or_Medical_Supply_1': 0.6358900553261095,\n",
       " 'Name_of_Drug_or_Biological_or_Device_or_Medical_Supply_1': 0.8610342787222137,\n",
       " 'Change_Type': 0.5175417994092365,\n",
       " 'Associated_Drug_or_Biological_NDC_1': 0.7792117995464899,\n",
       " 'Submitting_Applicable_Manufacturer_or_Applicable_GPO_Name': 0.7660186625623843,\n",
       " 'Total_Amount_of_Payment_USDollars': 0.7443710325615659,\n",
       " 'Applicable_Manufacturer_or_Applicable_GPO_Making_Payment_Country': 0.5497777905556079,\n",
       " 'Recipient_State': 0.5676065445663779,\n",
       " 'Product_Category_or_Therapeutic_Area_1': 0.7931702129612191,\n",
       " 'Recipient_City': 0.7280727409926517,\n",
       " 'Dispute_Status_for_Publication': 0.5002354610288497,\n",
       " 'Physician_Primary_Type': 0.9771750643134993,\n",
       " 'Recipient_Country': 0.5009933490581859,\n",
       " 'Covered_or_Noncovered_Indicator_1': 0.6457867444035202}"
      ]
     },
     "execution_count": 157,
     "metadata": {},
     "output_type": "execute_result"
    }
   ],
   "source": [
    "single_var_acc = dict()\n",
    "cat_pipe = Pipeline([\n",
    "                        ('Impute', SimpleImputer(strategy='constant', fill_value=\"Missing\")),\n",
    "                        (\"dummies\", OneHotEncoder(handle_unknown='ignore')),\n",
    "                        (\"logreg\", LogisticRegression(C=1000000, solver='lbfgs', max_iter=1000))])\n",
    "\n",
    "cont_pipe = Pipeline([\n",
    "                        ('scalar', StandardScaler()),\n",
    "                        (\"logreg\", LogisticRegression(C=1000000, solver='lbfgs', max_iter=1000))])\n",
    "\n",
    "for var in [cols for cols in X_train_engineered.columns if cols not in columns_to_drop]:\n",
    "    \n",
    "    if var != 'Total_Amount_of_Payment_USDollars':\n",
    "        single_var_acc[var] = np.mean(cross_val_score(cat_pipe, X_train_engineered[[var]], y_train, cv=5))\n",
    "            \n",
    "    else:\n",
    "        single_var_acc[var] = np.mean(cross_val_score(cont_pipe, X_train_engineered[[var]], y_train, cv=5))\n",
    "    \n",
    "single_var_acc"
   ]
  },
  {
   "cell_type": "markdown",
   "metadata": {},
   "source": [
    "Adding leakage variables to list of variables to be removed."
   ]
  },
  {
   "cell_type": "code",
   "execution_count": 158,
   "metadata": {
    "scrolled": false
   },
   "outputs": [
    {
     "data": {
      "text/plain": [
       "{'Recipient_Primary_Business_Street_Address_Line1': 0.8825715269498922,\n",
       " 'Physician_Specialty': 0.9766452789612836,\n",
       " 'Physician_License_State_code1': 0.9771309158274244,\n",
       " 'Name_of_Drug_or_Biological_or_Device_or_Medical_Supply_1': 0.8610342787222137,\n",
       " 'Physician_Primary_Type': 0.9771750643134993}"
      ]
     },
     "execution_count": 158,
     "metadata": {},
     "output_type": "execute_result"
    }
   ],
   "source": [
    "{key: single_var_acc[key] for key in single_var_acc if single_var_acc[key] > 0.8}"
   ]
  },
  {
   "cell_type": "markdown",
   "metadata": {},
   "source": [
    "We see that five of the scores stand out: \n",
    "- Recipient_Primary_Business_Street_Address_Line1\n",
    "- Physician_Specialty\n",
    "- Physician_License_State_code1\n",
    "- Name_of_Drug_or_Biological_or_Device_or_Medical_Supply_1 and\n",
    "- Physician_Primary_Type\n",
    "\n",
    "It is likely that these features leak target information, and so we drop them from the sample. "
   ]
  },
  {
   "cell_type": "code",
   "execution_count": 159,
   "metadata": {},
   "outputs": [],
   "source": [
    "columns_to_drop += ['Recipient_Primary_Business_Street_Address_Line1',\n",
    "                    'Physician_Specialty',\n",
    "                    'Physician_License_State_code1',\n",
    "                    'Name_of_Drug_or_Biological_or_Device_or_Medical_Supply_1',\n",
    "                    'Physician_Primary_Type']"
   ]
  },
  {
   "cell_type": "code",
   "execution_count": 160,
   "metadata": {},
   "outputs": [],
   "source": [
    "X_train_engineered = X_train.drop(columns=columns_to_drop)"
   ]
  },
  {
   "cell_type": "code",
   "execution_count": 163,
   "metadata": {},
   "outputs": [
    {
     "data": {
      "text/plain": [
       "(135904, 14)"
      ]
     },
     "execution_count": 163,
     "metadata": {},
     "output_type": "execute_result"
    }
   ],
   "source": [
    "X_train_engineered.shape"
   ]
  },
  {
   "cell_type": "code",
   "execution_count": 164,
   "metadata": {},
   "outputs": [],
   "source": [
    "obj_vars = X_train_engineered.drop(columns=['Total_Amount_of_Payment_USDollars']).columns.values\n",
    "cont_vars = ['Total_Amount_of_Payment_USDollars']"
   ]
  },
  {
   "cell_type": "markdown",
   "metadata": {},
   "source": [
    "Some categorical columns have too many unique values. We can identify and remove them for the current model and use them for a later model employing Target Encoding. We are thresholding the number of categories as 100 for qualifying for target encoding"
   ]
  },
  {
   "cell_type": "code",
   "execution_count": 165,
   "metadata": {},
   "outputs": [
    {
     "name": "stdout",
     "output_type": "stream",
     "text": [
      "Related_Product_Indicator 2\n",
      "Applicable_Manufacturer_or_Applicable_GPO_Making_Payment_State 43\n",
      "Indicate_Drug_or_Biological_or_Device_or_Medical_Supply_1 5\n",
      "Change_Type 3\n",
      "Associated_Drug_or_Biological_NDC_1 949\n",
      "Submitting_Applicable_Manufacturer_or_Applicable_GPO_Name 801\n",
      "Applicable_Manufacturer_or_Applicable_GPO_Making_Payment_Country 21\n",
      "Recipient_State 55\n",
      "Product_Category_or_Therapeutic_Area_1 981\n",
      "Recipient_City 7252\n",
      "Dispute_Status_for_Publication 2\n",
      "Recipient_Country 7\n",
      "Covered_or_Noncovered_Indicator_1 3\n"
     ]
    },
    {
     "data": {
      "text/plain": [
       "4"
      ]
     },
     "execution_count": 165,
     "metadata": {},
     "output_type": "execute_result"
    }
   ],
   "source": [
    "# Identify which variables to target encode\n",
    "target_based_encoding = []\n",
    "for col in obj_vars:\n",
    "    print(col, len(X_train_engineered[col].unique()))\n",
    "    \n",
    "    if len(X_train_engineered[col].unique()) > 100:\n",
    "        target_based_encoding.append(col)\n",
    "\n",
    "len(target_based_encoding)"
   ]
  },
  {
   "cell_type": "code",
   "execution_count": 166,
   "metadata": {},
   "outputs": [
    {
     "data": {
      "text/plain": [
       "10"
      ]
     },
     "execution_count": 166,
     "metadata": {},
     "output_type": "execute_result"
    }
   ],
   "source": [
    "# Final categorical variables\n",
    "categorical = [cols for cols in obj_vars if cols not in target_based_encoding]\n",
    "# Columns used in current model\n",
    "len(categorical) + len(cont_vars)"
   ]
  },
  {
   "cell_type": "markdown",
   "metadata": {},
   "source": [
    "### Imputed Model 1:\n",
    "    1. without high cardinality categorical variables \n",
    "    2. with Continuous vars Scaled\n",
    "    3. Imputation = Constant"
   ]
  },
  {
   "cell_type": "code",
   "execution_count": 168,
   "metadata": {},
   "outputs": [],
   "source": [
    "# Model without high cardinality categorical variables\n",
    "# Defining ColumnTransformer\n",
    "preprocessor = ColumnTransformer(transformers=[(\"scalar\", StandardScaler(), cont_vars),\n",
    "                                              (\"dummies\", make_pipeline(SimpleImputer(strategy='constant', fill_value=\"Missing\"),\n",
    "                                                                        OneHotEncoder(handle_unknown='ignore')), categorical)\n",
    "                                             ])\n",
    "\n",
    "# Create pipeplines\n",
    "engineered_pipe = Pipeline(steps=[('preprocessor', preprocessor),\n",
    "                             (\"logreg\", LogisticRegression(C=1000000, solver='lbfgs', max_iter=1000))\n",
    "                            ])\n",
    "\n"
   ]
  },
  {
   "cell_type": "code",
   "execution_count": 170,
   "metadata": {
    "scrolled": true
   },
   "outputs": [],
   "source": [
    "# Baseline Training and testing\n",
    "imputed_model = cross_validate(engineered_pipe, X_train_engineered, y_train, scoring=['accuracy','roc_auc'], cv=5)\n",
    "model_scores['imputed_model_cv_score_acc'] = np.mean(imputed_model['test_accuracy'])\n",
    "model_scores['imputed_model_cv_score_roc'] = np.mean(imputed_model['test_roc_auc'])"
   ]
  },
  {
   "cell_type": "code",
   "execution_count": 172,
   "metadata": {
    "scrolled": true
   },
   "outputs": [
    {
     "data": {
      "text/plain": [
       "{'baseline_cv_acc': 0.8667515190390075,\n",
       " 'baseline_cv_roc': 0.944150982940946,\n",
       " 'imputed_model_cv_score_acc': 0.8311528813506189,\n",
       " 'imputed_model_cv_score_roc': 0.9114729386211978}"
      ]
     },
     "execution_count": 172,
     "metadata": {},
     "output_type": "execute_result"
    }
   ],
   "source": [
    "model_scores"
   ]
  },
  {
   "cell_type": "markdown",
   "metadata": {},
   "source": [
    "### Imputed Model 2:\n",
    "    1. without high cardinality categorical variables \n",
    "    2. with Continuous vars Scaled\n",
    "    3. Imputation = *most_frequent*"
   ]
  },
  {
   "cell_type": "code",
   "execution_count": 65,
   "metadata": {},
   "outputs": [],
   "source": [
    "# Model without high cardinality categorical variables\n",
    "# Defining ColumnTransformer\n",
    "preprocessor = ColumnTransformer(transformers=[(\"scalar\", StandardScaler(), cont_vars),\n",
    "                                              (\"dummies\", make_pipeline(SimpleImputer(strategy='most_frequent'),\n",
    "                                                                        OneHotEncoder(handle_unknown='ignore')), categorical)\n",
    "                                             ])\n",
    "\n",
    "# Create pipeplines\n",
    "engineered_pipe2 = Pipeline(steps=[('preprocessor', preprocessor),\n",
    "                             (\"logreg\", LogisticRegression(C=1000000, solver='lbfgs', max_iter=1000))\n",
    "                            ])\n",
    "\n"
   ]
  },
  {
   "cell_type": "code",
   "execution_count": 66,
   "metadata": {
    "scrolled": true
   },
   "outputs": [],
   "source": [
    "# Baseline Training and testing\n",
    "imputed_model2 = cross_validate(engineered_pipe2, X_train_engineered, y_train, scoring=['accuracy','roc_auc'], cv=5)\n",
    "model_scores['imputed_model2_cv_score_acc'] = np.mean(imputed_model2['test_accuracy'])\n",
    "model_scores['imputed_model2_cv_score_roc'] = np.mean(imputed_model2['test_roc_auc'])"
   ]
  },
  {
   "cell_type": "code",
   "execution_count": 68,
   "metadata": {
    "scrolled": true
   },
   "outputs": [
    {
     "data": {
      "text/plain": [
       "{'baseline_cv_acc': 0.8741511152010581,\n",
       " 'baseline_cv_roc': 0.9453738824143099,\n",
       " 'imputed_model_cv_score_acc': 0.8339383637784976,\n",
       " 'imputed_model_cv_score_roc': 0.9130853856006222,\n",
       " 'imputed_model2_cv_score_acc': 0.8343407098791186,\n",
       " 'imputed_model2_cv_score_roc': 0.912665753434333}"
      ]
     },
     "execution_count": 68,
     "metadata": {},
     "output_type": "execute_result"
    }
   ],
   "source": [
    "model_scores"
   ]
  },
  {
   "cell_type": "markdown",
   "metadata": {},
   "source": [
    "Constant encoding does a better job. This is what we use for any imputation done further (eg. for target encoded variables)"
   ]
  },
  {
   "cell_type": "markdown",
   "metadata": {},
   "source": [
    "### Imputed + Target Encoded Model 1:\n",
    "    1. With high cardinality categorical variables \n",
    "    2. With Continuous vars Scaled\n",
    "    3. Imputation = *max_frequency*"
   ]
  },
  {
   "cell_type": "code",
   "execution_count": 184,
   "metadata": {},
   "outputs": [
    {
     "data": {
      "text/html": [
       "<div>\n",
       "<style scoped>\n",
       "    .dataframe tbody tr th:only-of-type {\n",
       "        vertical-align: middle;\n",
       "    }\n",
       "\n",
       "    .dataframe tbody tr th {\n",
       "        vertical-align: top;\n",
       "    }\n",
       "\n",
       "    .dataframe thead th {\n",
       "        text-align: right;\n",
       "    }\n",
       "</style>\n",
       "<table border=\"1\" class=\"dataframe\">\n",
       "  <thead>\n",
       "    <tr style=\"text-align: right;\">\n",
       "      <th></th>\n",
       "      <th>index</th>\n",
       "      <th>Related_Product_Indicator</th>\n",
       "      <th>Applicable_Manufacturer_or_Applicable_GPO_Making_Payment_State</th>\n",
       "      <th>Indicate_Drug_or_Biological_or_Device_or_Medical_Supply_1</th>\n",
       "      <th>Change_Type</th>\n",
       "      <th>Associated_Drug_or_Biological_NDC_1</th>\n",
       "      <th>Submitting_Applicable_Manufacturer_or_Applicable_GPO_Name</th>\n",
       "      <th>Total_Amount_of_Payment_USDollars</th>\n",
       "      <th>Applicable_Manufacturer_or_Applicable_GPO_Making_Payment_Country</th>\n",
       "      <th>Recipient_State</th>\n",
       "      <th>Product_Category_or_Therapeutic_Area_1</th>\n",
       "      <th>Recipient_City</th>\n",
       "      <th>Dispute_Status_for_Publication</th>\n",
       "      <th>Recipient_Country</th>\n",
       "      <th>Covered_or_Noncovered_Indicator_1</th>\n",
       "    </tr>\n",
       "  </thead>\n",
       "  <tbody>\n",
       "    <tr>\n",
       "      <th>0</th>\n",
       "      <td>38773</td>\n",
       "      <td>Yes</td>\n",
       "      <td>TX</td>\n",
       "      <td>Device</td>\n",
       "      <td>UNCHANGED</td>\n",
       "      <td>NaN</td>\n",
       "      <td>Alcon Laboratories Inc</td>\n",
       "      <td>5.65</td>\n",
       "      <td>United States</td>\n",
       "      <td>CA</td>\n",
       "      <td>Ophthalmology</td>\n",
       "      <td>BURBANK</td>\n",
       "      <td>No</td>\n",
       "      <td>United States</td>\n",
       "      <td>Covered</td>\n",
       "    </tr>\n",
       "    <tr>\n",
       "      <th>1</th>\n",
       "      <td>37601</td>\n",
       "      <td>Yes</td>\n",
       "      <td>KY</td>\n",
       "      <td>Biological</td>\n",
       "      <td>UNCHANGED</td>\n",
       "      <td>10454-711-10</td>\n",
       "      <td>US WorldMeds, LLC</td>\n",
       "      <td>10.49</td>\n",
       "      <td>United States</td>\n",
       "      <td>MI</td>\n",
       "      <td>Neurology</td>\n",
       "      <td>SOUTHFIELD</td>\n",
       "      <td>No</td>\n",
       "      <td>United States</td>\n",
       "      <td>Covered</td>\n",
       "    </tr>\n",
       "    <tr>\n",
       "      <th>2</th>\n",
       "      <td>119118</td>\n",
       "      <td>Yes</td>\n",
       "      <td>IL</td>\n",
       "      <td>NaN</td>\n",
       "      <td>UNCHANGED</td>\n",
       "      <td>NaN</td>\n",
       "      <td>AbbVie, Inc.</td>\n",
       "      <td>9240.00</td>\n",
       "      <td>United States</td>\n",
       "      <td>CA</td>\n",
       "      <td>NaN</td>\n",
       "      <td>Simi Valley</td>\n",
       "      <td>No</td>\n",
       "      <td>United States</td>\n",
       "      <td>Non-Covered</td>\n",
       "    </tr>\n",
       "    <tr>\n",
       "      <th>3</th>\n",
       "      <td>70170</td>\n",
       "      <td>Yes</td>\n",
       "      <td>NJ</td>\n",
       "      <td>Drug</td>\n",
       "      <td>UNCHANGED</td>\n",
       "      <td>5045-8140-30</td>\n",
       "      <td>Janssen Pharmaceuticals, Inc</td>\n",
       "      <td>0.95</td>\n",
       "      <td>United States</td>\n",
       "      <td>TX</td>\n",
       "      <td>Cardiovascular &amp; Metabolism</td>\n",
       "      <td>HUNTSVILLE</td>\n",
       "      <td>No</td>\n",
       "      <td>United States</td>\n",
       "      <td>Covered</td>\n",
       "    </tr>\n",
       "    <tr>\n",
       "      <th>4</th>\n",
       "      <td>24948</td>\n",
       "      <td>Yes</td>\n",
       "      <td>NJ</td>\n",
       "      <td>Drug</td>\n",
       "      <td>UNCHANGED</td>\n",
       "      <td>61874-115-30</td>\n",
       "      <td>Allergan Inc.</td>\n",
       "      <td>4.84</td>\n",
       "      <td>United States</td>\n",
       "      <td>PA</td>\n",
       "      <td>NEUROSCIENCE</td>\n",
       "      <td>INDIANA</td>\n",
       "      <td>No</td>\n",
       "      <td>United States</td>\n",
       "      <td>Covered</td>\n",
       "    </tr>\n",
       "  </tbody>\n",
       "</table>\n",
       "</div>"
      ],
      "text/plain": [
       "    index Related_Product_Indicator  \\\n",
       "0   38773                       Yes   \n",
       "1   37601                       Yes   \n",
       "2  119118                       Yes   \n",
       "3   70170                       Yes   \n",
       "4   24948                       Yes   \n",
       "\n",
       "  Applicable_Manufacturer_or_Applicable_GPO_Making_Payment_State  \\\n",
       "0                                                 TX               \n",
       "1                                                 KY               \n",
       "2                                                 IL               \n",
       "3                                                 NJ               \n",
       "4                                                 NJ               \n",
       "\n",
       "  Indicate_Drug_or_Biological_or_Device_or_Medical_Supply_1 Change_Type  \\\n",
       "0                                             Device          UNCHANGED   \n",
       "1                                         Biological          UNCHANGED   \n",
       "2                                                NaN          UNCHANGED   \n",
       "3                                               Drug          UNCHANGED   \n",
       "4                                               Drug          UNCHANGED   \n",
       "\n",
       "  Associated_Drug_or_Biological_NDC_1  \\\n",
       "0                                 NaN   \n",
       "1                        10454-711-10   \n",
       "2                                 NaN   \n",
       "3                        5045-8140-30   \n",
       "4                        61874-115-30   \n",
       "\n",
       "  Submitting_Applicable_Manufacturer_or_Applicable_GPO_Name  \\\n",
       "0                             Alcon Laboratories Inc          \n",
       "1                                  US WorldMeds, LLC          \n",
       "2                                       AbbVie, Inc.          \n",
       "3                       Janssen Pharmaceuticals, Inc          \n",
       "4                                      Allergan Inc.          \n",
       "\n",
       "   Total_Amount_of_Payment_USDollars  \\\n",
       "0                               5.65   \n",
       "1                              10.49   \n",
       "2                            9240.00   \n",
       "3                               0.95   \n",
       "4                               4.84   \n",
       "\n",
       "  Applicable_Manufacturer_or_Applicable_GPO_Making_Payment_Country  \\\n",
       "0                                      United States                 \n",
       "1                                      United States                 \n",
       "2                                      United States                 \n",
       "3                                      United States                 \n",
       "4                                      United States                 \n",
       "\n",
       "  Recipient_State Product_Category_or_Therapeutic_Area_1 Recipient_City  \\\n",
       "0              CA                          Ophthalmology        BURBANK   \n",
       "1              MI                              Neurology     SOUTHFIELD   \n",
       "2              CA                                    NaN    Simi Valley   \n",
       "3              TX            Cardiovascular & Metabolism     HUNTSVILLE   \n",
       "4              PA                           NEUROSCIENCE        INDIANA   \n",
       "\n",
       "  Dispute_Status_for_Publication Recipient_Country  \\\n",
       "0                             No     United States   \n",
       "1                             No     United States   \n",
       "2                             No     United States   \n",
       "3                             No     United States   \n",
       "4                             No     United States   \n",
       "\n",
       "  Covered_or_Noncovered_Indicator_1  \n",
       "0                           Covered  \n",
       "1                           Covered  \n",
       "2                       Non-Covered  \n",
       "3                           Covered  \n",
       "4                           Covered  "
      ]
     },
     "execution_count": 184,
     "metadata": {},
     "output_type": "execute_result"
    }
   ],
   "source": [
    "X_train_engineered.reset_index().head()"
   ]
  },
  {
   "cell_type": "code",
   "execution_count": 187,
   "metadata": {},
   "outputs": [],
   "source": [
    "# Target Encoding\n",
    "# # Takes time (~10mins)\n",
    "# # but does the job\n",
    "\n",
    "# Convert NAs of categorical variables to None\n",
    "for col in target_based_encoding:\n",
    "    X_train_engineered[col].fillna(\"Missing\", inplace=True)\n",
    "\n",
    "# Fitting target encoder\n",
    "target_enc = TargetEncoder(verbose=1, cols=target_based_encoding, return_df=True, handle_unknown='ignore')\n",
    "targets_encoded = target_enc.fit_transform(X_train_engineered.reset_index(), y_train)"
   ]
  },
  {
   "cell_type": "code",
   "execution_count": 195,
   "metadata": {
    "scrolled": true
   },
   "outputs": [
    {
     "data": {
      "text/html": [
       "<div>\n",
       "<style scoped>\n",
       "    .dataframe tbody tr th:only-of-type {\n",
       "        vertical-align: middle;\n",
       "    }\n",
       "\n",
       "    .dataframe tbody tr th {\n",
       "        vertical-align: top;\n",
       "    }\n",
       "\n",
       "    .dataframe thead th {\n",
       "        text-align: right;\n",
       "    }\n",
       "</style>\n",
       "<table border=\"1\" class=\"dataframe\">\n",
       "  <thead>\n",
       "    <tr style=\"text-align: right;\">\n",
       "      <th></th>\n",
       "      <th>Related_Product_Indicator</th>\n",
       "      <th>Applicable_Manufacturer_or_Applicable_GPO_Making_Payment_State</th>\n",
       "      <th>Indicate_Drug_or_Biological_or_Device_or_Medical_Supply_1</th>\n",
       "      <th>Change_Type</th>\n",
       "      <th>Associated_Drug_or_Biological_NDC_1</th>\n",
       "      <th>Submitting_Applicable_Manufacturer_or_Applicable_GPO_Name</th>\n",
       "      <th>Total_Amount_of_Payment_USDollars</th>\n",
       "      <th>Applicable_Manufacturer_or_Applicable_GPO_Making_Payment_Country</th>\n",
       "      <th>Recipient_State</th>\n",
       "      <th>Product_Category_or_Therapeutic_Area_1</th>\n",
       "      <th>Recipient_City</th>\n",
       "      <th>Dispute_Status_for_Publication</th>\n",
       "      <th>Recipient_Country</th>\n",
       "      <th>Covered_or_Noncovered_Indicator_1</th>\n",
       "    </tr>\n",
       "  </thead>\n",
       "  <tbody>\n",
       "    <tr>\n",
       "      <th>0</th>\n",
       "      <td>Yes</td>\n",
       "      <td>TX</td>\n",
       "      <td>Device</td>\n",
       "      <td>UNCHANGED</td>\n",
       "      <td>6.429687e-01</td>\n",
       "      <td>0.000000</td>\n",
       "      <td>5.65</td>\n",
       "      <td>United States</td>\n",
       "      <td>CA</td>\n",
       "      <td>0.523640</td>\n",
       "      <td>0.229508</td>\n",
       "      <td>No</td>\n",
       "      <td>United States</td>\n",
       "      <td>Covered</td>\n",
       "    </tr>\n",
       "    <tr>\n",
       "      <th>1</th>\n",
       "      <td>Yes</td>\n",
       "      <td>KY</td>\n",
       "      <td>Biological</td>\n",
       "      <td>UNCHANGED</td>\n",
       "      <td>2.069573e-08</td>\n",
       "      <td>0.000000</td>\n",
       "      <td>10.49</td>\n",
       "      <td>United States</td>\n",
       "      <td>MI</td>\n",
       "      <td>0.220053</td>\n",
       "      <td>0.107527</td>\n",
       "      <td>No</td>\n",
       "      <td>United States</td>\n",
       "      <td>Covered</td>\n",
       "    </tr>\n",
       "    <tr>\n",
       "      <th>2</th>\n",
       "      <td>Yes</td>\n",
       "      <td>IL</td>\n",
       "      <td>NaN</td>\n",
       "      <td>UNCHANGED</td>\n",
       "      <td>6.429687e-01</td>\n",
       "      <td>0.592631</td>\n",
       "      <td>9240.00</td>\n",
       "      <td>United States</td>\n",
       "      <td>CA</td>\n",
       "      <td>0.822977</td>\n",
       "      <td>0.261852</td>\n",
       "      <td>No</td>\n",
       "      <td>United States</td>\n",
       "      <td>Non-Covered</td>\n",
       "    </tr>\n",
       "    <tr>\n",
       "      <th>3</th>\n",
       "      <td>Yes</td>\n",
       "      <td>NJ</td>\n",
       "      <td>Drug</td>\n",
       "      <td>UNCHANGED</td>\n",
       "      <td>9.533898e-03</td>\n",
       "      <td>0.004041</td>\n",
       "      <td>0.95</td>\n",
       "      <td>United States</td>\n",
       "      <td>TX</td>\n",
       "      <td>0.078244</td>\n",
       "      <td>0.225352</td>\n",
       "      <td>No</td>\n",
       "      <td>United States</td>\n",
       "      <td>Covered</td>\n",
       "    </tr>\n",
       "    <tr>\n",
       "      <th>4</th>\n",
       "      <td>Yes</td>\n",
       "      <td>NJ</td>\n",
       "      <td>Drug</td>\n",
       "      <td>UNCHANGED</td>\n",
       "      <td>1.444043e-02</td>\n",
       "      <td>0.186290</td>\n",
       "      <td>4.84</td>\n",
       "      <td>United States</td>\n",
       "      <td>PA</td>\n",
       "      <td>0.144172</td>\n",
       "      <td>0.050000</td>\n",
       "      <td>No</td>\n",
       "      <td>United States</td>\n",
       "      <td>Covered</td>\n",
       "    </tr>\n",
       "  </tbody>\n",
       "</table>\n",
       "</div>"
      ],
      "text/plain": [
       "  Related_Product_Indicator  \\\n",
       "0                       Yes   \n",
       "1                       Yes   \n",
       "2                       Yes   \n",
       "3                       Yes   \n",
       "4                       Yes   \n",
       "\n",
       "  Applicable_Manufacturer_or_Applicable_GPO_Making_Payment_State  \\\n",
       "0                                                 TX               \n",
       "1                                                 KY               \n",
       "2                                                 IL               \n",
       "3                                                 NJ               \n",
       "4                                                 NJ               \n",
       "\n",
       "  Indicate_Drug_or_Biological_or_Device_or_Medical_Supply_1 Change_Type  \\\n",
       "0                                             Device          UNCHANGED   \n",
       "1                                         Biological          UNCHANGED   \n",
       "2                                                NaN          UNCHANGED   \n",
       "3                                               Drug          UNCHANGED   \n",
       "4                                               Drug          UNCHANGED   \n",
       "\n",
       "   Associated_Drug_or_Biological_NDC_1  \\\n",
       "0                         6.429687e-01   \n",
       "1                         2.069573e-08   \n",
       "2                         6.429687e-01   \n",
       "3                         9.533898e-03   \n",
       "4                         1.444043e-02   \n",
       "\n",
       "   Submitting_Applicable_Manufacturer_or_Applicable_GPO_Name  \\\n",
       "0                                           0.000000           \n",
       "1                                           0.000000           \n",
       "2                                           0.592631           \n",
       "3                                           0.004041           \n",
       "4                                           0.186290           \n",
       "\n",
       "   Total_Amount_of_Payment_USDollars  \\\n",
       "0                               5.65   \n",
       "1                              10.49   \n",
       "2                            9240.00   \n",
       "3                               0.95   \n",
       "4                               4.84   \n",
       "\n",
       "  Applicable_Manufacturer_or_Applicable_GPO_Making_Payment_Country  \\\n",
       "0                                      United States                 \n",
       "1                                      United States                 \n",
       "2                                      United States                 \n",
       "3                                      United States                 \n",
       "4                                      United States                 \n",
       "\n",
       "  Recipient_State  Product_Category_or_Therapeutic_Area_1  Recipient_City  \\\n",
       "0              CA                                0.523640        0.229508   \n",
       "1              MI                                0.220053        0.107527   \n",
       "2              CA                                0.822977        0.261852   \n",
       "3              TX                                0.078244        0.225352   \n",
       "4              PA                                0.144172        0.050000   \n",
       "\n",
       "  Dispute_Status_for_Publication Recipient_Country  \\\n",
       "0                             No     United States   \n",
       "1                             No     United States   \n",
       "2                             No     United States   \n",
       "3                             No     United States   \n",
       "4                             No     United States   \n",
       "\n",
       "  Covered_or_Noncovered_Indicator_1  \n",
       "0                           Covered  \n",
       "1                           Covered  \n",
       "2                       Non-Covered  \n",
       "3                           Covered  \n",
       "4                           Covered  "
      ]
     },
     "execution_count": 195,
     "metadata": {},
     "output_type": "execute_result"
    }
   ],
   "source": [
    "targets_encoded.drop(columns=['index'], inplace=True)\n",
    "targets_encoded.head()"
   ]
  },
  {
   "cell_type": "code",
   "execution_count": 198,
   "metadata": {},
   "outputs": [],
   "source": [
    "# Defining ColumnTransformer\n",
    "preprocessor = ColumnTransformer(transformers=[(\"scalar\", StandardScaler(), cont_vars),\n",
    "                                              (\"dummies\", make_pipeline(SimpleImputer(strategy='most_frequent'),\n",
    "                                                                        OneHotEncoder(handle_unknown='ignore')), categorical)\n",
    "                                             ], remainder='passthrough')\n",
    "\n",
    "# Create pipeplines\n",
    "engineered_pipe3 = Pipeline(steps=[('preprocessor', preprocessor),\n",
    "                             (\"logreg\", LogisticRegression(C=1000000, solver='lbfgs', max_iter=1000))\n",
    "                            ])\n",
    "\n"
   ]
  },
  {
   "cell_type": "code",
   "execution_count": 199,
   "metadata": {
    "scrolled": true
   },
   "outputs": [],
   "source": [
    "# Baseline Training and testing\n",
    "target_enc_model = cross_validate(engineered_pipe3, targets_encoded, y_train, scoring=['accuracy','roc_auc'], cv=5)\n",
    "model_scores['target_enc_model_cv_score_acc'] = np.mean(target_enc_model['test_accuracy'])\n",
    "model_scores['target_enc_model_cv_score_roc'] = np.mean(target_enc_model['test_roc_auc'])"
   ]
  },
  {
   "cell_type": "code",
   "execution_count": 200,
   "metadata": {
    "scrolled": true
   },
   "outputs": [
    {
     "data": {
      "text/plain": [
       "{'baseline_cv_acc': 0.8667515190390075,\n",
       " 'baseline_cv_roc': 0.944150982940946,\n",
       " 'imputed_model_cv_score_acc': 0.8311528813506189,\n",
       " 'imputed_model_cv_score_roc': 0.9114729386211978,\n",
       " 'target_enc_model_cv_score_acc': 0.9257049227050917,\n",
       " 'target_enc_model_cv_score_roc': 0.9767201208979379}"
      ]
     },
     "execution_count": 200,
     "metadata": {},
     "output_type": "execute_result"
    }
   ],
   "source": [
    "model_scores"
   ]
  },
  {
   "cell_type": "markdown",
   "metadata": {},
   "source": [
    "Target encoding siginificantly improves the model performance."
   ]
  },
  {
   "cell_type": "code",
   "execution_count": null,
   "metadata": {},
   "outputs": [],
   "source": []
  },
  {
   "cell_type": "code",
   "execution_count": null,
   "metadata": {},
   "outputs": [],
   "source": []
  },
  {
   "cell_type": "markdown",
   "metadata": {},
   "source": [
    "## Any Model ~ Task 4"
   ]
  },
  {
   "cell_type": "markdown",
   "metadata": {},
   "source": [
    "## Logistic Regression"
   ]
  },
  {
   "cell_type": "code",
   "execution_count": 225,
   "metadata": {},
   "outputs": [],
   "source": [
    "# Defining ColumnTransformer\n",
    "preprocessor = ColumnTransformer(transformers=[(\"scalar\", StandardScaler(), cont_vars),\n",
    "                                              (\"dummies\", make_pipeline(SimpleImputer(strategy='most_frequent'),\n",
    "                                                                        OneHotEncoder(handle_unknown='ignore')), categorical)\n",
    "                                             ], remainder='passthrough')\n",
    "\n",
    "# Create pipeplines\n",
    "lr_pipe = Pipeline(steps=[('preprocessor', preprocessor),\n",
    "                             (\"logreg\", LogisticRegression(solver='lbfgs', max_iter=1000))\n",
    "                            ])"
   ]
  },
  {
   "cell_type": "code",
   "execution_count": 228,
   "metadata": {},
   "outputs": [],
   "source": [
    "# grid search params\n",
    "param_grid_lr = {'logreg__C': np.logspace(-4, 1, 6)}"
   ]
  },
  {
   "cell_type": "code",
   "execution_count": 229,
   "metadata": {
    "scrolled": true
   },
   "outputs": [],
   "source": [
    "# Baseline training and testing\n",
    "lr_model = GridSearchCV(lr_pipe, param_grid = param_grid_lr, cv=5).fit(targets_encoded, y_train)"
   ]
  },
  {
   "cell_type": "code",
   "execution_count": 231,
   "metadata": {},
   "outputs": [],
   "source": [
    "# print best params\n",
    "lr_best_params = lr_model.best_params_\n",
    "\n",
    "# Store best score\n",
    "lr_model_cv_score = max(lr_model.cv_results_['mean_test_score'])\n",
    "model_scores['lr_model_cv_score'] = lr_model_cv_score"
   ]
  },
  {
   "cell_type": "code",
   "execution_count": 233,
   "metadata": {},
   "outputs": [
    {
     "data": {
      "text/plain": [
       "({'baseline_cv_acc': 0.8667515190390075,\n",
       "  'baseline_cv_roc': 0.944150982940946,\n",
       "  'imputed_model_cv_score_acc': 0.8311528813506189,\n",
       "  'imputed_model_cv_score_roc': 0.9114729386211978,\n",
       "  'target_enc_model_cv_score_acc': 0.9257049227050917,\n",
       "  'target_enc_model_cv_score_roc': 0.9767201208979379,\n",
       "  'svc_model_cv_score': 0.915867082646574,\n",
       "  'lr_model_cv_score': 0.9255209559689193},\n",
       " {'logreg__C': 10.0})"
      ]
     },
     "execution_count": 233,
     "metadata": {},
     "output_type": "execute_result"
    }
   ],
   "source": [
    "model_scores, lr_best_params"
   ]
  },
  {
   "cell_type": "code",
   "execution_count": 228,
   "metadata": {},
   "outputs": [],
   "source": [
    "# grid search params\n",
    "param_grid_lr = {'logreg__C': np.logspace(-4, 1, 6)}"
   ]
  },
  {
   "cell_type": "code",
   "execution_count": 229,
   "metadata": {
    "scrolled": true
   },
   "outputs": [],
   "source": [
    "# Baseline training and testing\n",
    "lr_model = GridSearchCV(lr_pipe, param_grid = param_grid_lr, cv=5).fit(targets_encoded, y_train)"
   ]
  },
  {
   "cell_type": "code",
   "execution_count": 231,
   "metadata": {},
   "outputs": [],
   "source": [
    "# print best params\n",
    "lr_best_params = lr_model.best_params_\n",
    "\n",
    "# Store best score\n",
    "lr_model_cv_score = max(lr_model.cv_results_['mean_test_score'])\n",
    "model_scores['lr_model_cv_score'] = lr_model_cv_score"
   ]
  },
  {
   "cell_type": "markdown",
   "metadata": {},
   "source": [
    "## Linear SVC"
   ]
  },
  {
   "cell_type": "code",
   "execution_count": 218,
   "metadata": {},
   "outputs": [],
   "source": [
    "# Defining ColumnTransformer\n",
    "preprocessor = ColumnTransformer(transformers=[(\"scalar\", StandardScaler(), cont_vars),\n",
    "                                              (\"dummies\", make_pipeline(SimpleImputer(strategy='most_frequent'),\n",
    "                                                                        OneHotEncoder(handle_unknown='ignore')), categorical)\n",
    "                                             ], remainder='passthrough')\n",
    "\n",
    "# Create pipeplines\n",
    "svc_pipe = Pipeline(steps=[(\"preprocessor\", preprocessor),\n",
    "                           (\"SVC\", LinearSVC()) \n",
    "                          ])"
   ]
  },
  {
   "cell_type": "code",
   "execution_count": 219,
   "metadata": {},
   "outputs": [],
   "source": [
    "# grid search params\n",
    "param_grid_svc = {'SVC__C': np.logspace(-4, 1, 6)}"
   ]
  },
  {
   "cell_type": "code",
   "execution_count": 220,
   "metadata": {
    "scrolled": true
   },
   "outputs": [],
   "source": [
    "# Baseline training and testing\n",
    "svc_model = GridSearchCV(svc_pipe, param_grid = param_grid_svc, cv=5).fit(targets_encoded, y_train)"
   ]
  },
  {
   "cell_type": "code",
   "execution_count": 222,
   "metadata": {},
   "outputs": [],
   "source": [
    "# print best params\n",
    "svc_best_params = svc_model.best_params_\n",
    "\n",
    "# Store best score\n",
    "svc_model_cv_score = max(svc_model.cv_results_['mean_test_score'])\n",
    "model_scores['svc_model_cv_score'] = svc_model_cv_score"
   ]
  },
  {
   "cell_type": "code",
   "execution_count": 223,
   "metadata": {},
   "outputs": [
    {
     "data": {
      "text/plain": [
       "{'baseline_cv_acc': 0.8667515190390075,\n",
       " 'baseline_cv_roc': 0.944150982940946,\n",
       " 'imputed_model_cv_score_acc': 0.8311528813506189,\n",
       " 'imputed_model_cv_score_roc': 0.9114729386211978,\n",
       " 'target_enc_model_cv_score_acc': 0.9257049227050917,\n",
       " 'target_enc_model_cv_score_roc': 0.9767201208979379,\n",
       " 'svc_model_cv_score': 0.915867082646574}"
      ]
     },
     "execution_count": 223,
     "metadata": {},
     "output_type": "execute_result"
    }
   ],
   "source": [
    "model_scores"
   ]
  },
  {
   "cell_type": "markdown",
   "metadata": {},
   "source": [
    "## Random Forest Classifier"
   ]
  },
  {
   "cell_type": "markdown",
   "metadata": {},
   "source": [
    "Baseline Random Forest"
   ]
  },
  {
   "cell_type": "code",
   "execution_count": 234,
   "metadata": {},
   "outputs": [],
   "source": [
    "# Defining ColumnTransformer\n",
    "preprocessor = ColumnTransformer(transformers=[(\"scalar\", StandardScaler(), cont_vars),\n",
    "                                              (\"dummies\", make_pipeline(SimpleImputer(strategy='most_frequent'),\n",
    "                                                                        OneHotEncoder(handle_unknown='ignore')), categorical)\n",
    "                                             ], remainder='passthrough')\n",
    "\n",
    "# Create pipeplines\n",
    "rf_pipe = Pipeline(steps=[(\"preprocessor\", preprocessor),\n",
    "                           (\"rf\", RandomForestClassifier()) \n",
    "                          ])"
   ]
  },
  {
   "cell_type": "code",
   "execution_count": 235,
   "metadata": {
    "scrolled": true
   },
   "outputs": [],
   "source": [
    "param_grid_rf = {'rf__max_depth': [10, 50, 70, 100]}\n",
    "#                 'rf__min_samples_split ': [10, 50, 100]}"
   ]
  },
  {
   "cell_type": "code",
   "execution_count": 236,
   "metadata": {},
   "outputs": [],
   "source": [
    "# training and testing\n",
    "rf_model = GridSearchCV(rf_pipe, param_grid = param_grid_rf, cv=5).fit(targets_encoded, y_train)"
   ]
  },
  {
   "cell_type": "code",
   "execution_count": 237,
   "metadata": {},
   "outputs": [],
   "source": [
    "# print best params\n",
    "rf_best_params = rf_model.best_params_\n",
    "\n",
    "# Store best score\n",
    "rf_model_cv_score = max(rf_model.cv_results_['mean_test_score'])\n",
    "model_scores['rf_model_cv_score'] = rf_model_cv_score"
   ]
  },
  {
   "cell_type": "code",
   "execution_count": 239,
   "metadata": {},
   "outputs": [
    {
     "data": {
      "text/plain": [
       "({'baseline_cv_acc': 0.8667515190390075,\n",
       "  'baseline_cv_roc': 0.944150982940946,\n",
       "  'imputed_model_cv_score_acc': 0.8311528813506189,\n",
       "  'imputed_model_cv_score_roc': 0.9114729386211978,\n",
       "  'target_enc_model_cv_score_acc': 0.9257049227050917,\n",
       "  'target_enc_model_cv_score_roc': 0.9767201208979379,\n",
       "  'svc_model_cv_score': 0.915867082646574,\n",
       "  'lr_model_cv_score': 0.9255209559689193,\n",
       "  'rf_model_cv_score': 0.9723849187661879},\n",
       " {'rf__max_depth': 50})"
      ]
     },
     "execution_count": 239,
     "metadata": {},
     "output_type": "execute_result"
    }
   ],
   "source": [
    "model_scores, rf_best_params"
   ]
  },
  {
   "cell_type": "markdown",
   "metadata": {},
   "source": [
    "## XGB Classifier"
   ]
  },
  {
   "cell_type": "code",
   "execution_count": 249,
   "metadata": {},
   "outputs": [],
   "source": [
    "# Defining ColumnTransformer\n",
    "preprocessor = ColumnTransformer(transformers=[(\"scalar\", StandardScaler(), cont_vars),\n",
    "                                              (\"dummies\", make_pipeline(SimpleImputer(strategy='most_frequent'),\n",
    "                                                                        OneHotEncoder(handle_unknown='ignore')), categorical)\n",
    "                                             ], remainder='passthrough')\n",
    "\n",
    "# Create pipeplines\n",
    "xgb_pipe = Pipeline(steps=[(\"preprocessor\", preprocessor),\n",
    "                           (\"xgb\", GradientBoostingClassifier(subsample=0.8)) \n",
    "                          ])"
   ]
  },
  {
   "cell_type": "code",
   "execution_count": 250,
   "metadata": {
    "scrolled": true
   },
   "outputs": [],
   "source": [
    "param_grid_xgb = {'xgb__n_estimators': [10, 25, 50]}"
   ]
  },
  {
   "cell_type": "code",
   "execution_count": 251,
   "metadata": {},
   "outputs": [],
   "source": [
    "# training and testing\n",
    "xgb_model = GridSearchCV(xgb_pipe, param_grid = param_grid_xgb, cv=5).fit(targets_encoded, y_train)"
   ]
  },
  {
   "cell_type": "code",
   "execution_count": 252,
   "metadata": {},
   "outputs": [],
   "source": [
    "# print best params\n",
    "xgb_best_params = xgb_model.best_params_\n",
    "\n",
    "# Store best score\n",
    "xgb_model_cv_score = max(xgb_model.cv_results_['mean_test_score'])\n",
    "model_scores['xgb_model_cv_score'] = xgb_model_cv_score"
   ]
  },
  {
   "cell_type": "code",
   "execution_count": 253,
   "metadata": {},
   "outputs": [
    {
     "data": {
      "text/plain": [
       "({'baseline_cv_acc': 0.8667515190390075,\n",
       "  'baseline_cv_roc': 0.944150982940946,\n",
       "  'imputed_model_cv_score_acc': 0.8311528813506189,\n",
       "  'imputed_model_cv_score_roc': 0.9114729386211978,\n",
       "  'target_enc_model_cv_score_acc': 0.9257049227050917,\n",
       "  'target_enc_model_cv_score_roc': 0.9767201208979379,\n",
       "  'svc_model_cv_score': 0.915867082646574,\n",
       "  'lr_model_cv_score': 0.9255209559689193,\n",
       "  'rf_model_cv_score': 0.9723849187661879,\n",
       "  'xgb_model_cv_score': 0.9569181186720037},\n",
       " {'xgb__n_estimators': 50})"
      ]
     },
     "execution_count": 253,
     "metadata": {},
     "output_type": "execute_result"
    }
   ],
   "source": [
    "model_scores, xgb_best_params"
   ]
  },
  {
   "cell_type": "markdown",
   "metadata": {},
   "source": [
    "## Validation set statistics"
   ]
  },
  {
   "cell_type": "markdown",
   "metadata": {},
   "source": [
    "### Preprocessing"
   ]
  },
  {
   "cell_type": "code",
   "execution_count": 285,
   "metadata": {},
   "outputs": [],
   "source": [
    "# Remove columns to be removed\n",
    "X_val_dropped = X_val.drop(columns=columns_to_drop)\n",
    "\n",
    "# Target based encoding\n",
    "# # Manually fill in NA values\n",
    "for col in target_based_encoding:\n",
    "    X_val_dropped[col].fillna(\"Missing\", inplace=True)\n",
    "\n",
    "# Transforming using fitted target encoder\n",
    "# target_enc = TargetEncoder(verbose=1, cols=target_based_encoding, return_df=True, handle_unknown='ignore')\n",
    "targets_encoded_val = target_enc.transform(X_val_dropped.reset_index())\n",
    "targets_encoded_val.drop(columns='index', inplace=True)"
   ]
  },
  {
   "cell_type": "code",
   "execution_count": 259,
   "metadata": {
    "collapsed": true
   },
   "outputs": [
    {
     "name": "stdout",
     "output_type": "stream",
     "text": [
      "<class 'pandas.core.frame.DataFrame'>\n",
      "RangeIndex: 45302 entries, 0 to 45301\n",
      "Data columns (total 15 columns):\n",
      "index                                                               45302 non-null int64\n",
      "Related_Product_Indicator                                           45302 non-null object\n",
      "Applicable_Manufacturer_or_Applicable_GPO_Making_Payment_State      42686 non-null object\n",
      "Indicate_Drug_or_Biological_or_Device_or_Medical_Supply_1           37064 non-null object\n",
      "Change_Type                                                         45302 non-null object\n",
      "Associated_Drug_or_Biological_NDC_1                                 45265 non-null float64\n",
      "Submitting_Applicable_Manufacturer_or_Applicable_GPO_Name           45238 non-null float64\n",
      "Total_Amount_of_Payment_USDollars                                   45302 non-null float64\n",
      "Applicable_Manufacturer_or_Applicable_GPO_Making_Payment_Country    45302 non-null object\n",
      "Recipient_State                                                     45262 non-null object\n",
      "Product_Category_or_Therapeutic_Area_1                              45232 non-null float64\n",
      "Recipient_City                                                      44561 non-null float64\n",
      "Dispute_Status_for_Publication                                      45302 non-null object\n",
      "Recipient_Country                                                   45283 non-null object\n",
      "Covered_or_Noncovered_Indicator_1                                   41156 non-null object\n",
      "dtypes: float64(5), int64(1), object(9)\n",
      "memory usage: 5.2+ MB\n"
     ]
    }
   ],
   "source": [
    "# For some reason, the Total_Amount_of_Payment_USDollars column\n",
    "# gets converted to type 'object'\n",
    "# so changing that\n",
    "targets_encoded_val.Total_Amount_of_Payment_USDollars = targets_encoded_val.Total_Amount_of_Payment_USDollars.astype(float)\n",
    "targets_encoded_val.info()\n"
   ]
  },
  {
   "cell_type": "markdown",
   "metadata": {},
   "source": [
    "### Fitting models with best paramaters for each of the above models"
   ]
  },
  {
   "cell_type": "code",
   "execution_count": 261,
   "metadata": {},
   "outputs": [],
   "source": [
    "val_scores = dict()"
   ]
  },
  {
   "cell_type": "code",
   "execution_count": 408,
   "metadata": {},
   "outputs": [],
   "source": [
    "validation_set = targets_encoded_val"
   ]
  },
  {
   "cell_type": "code",
   "execution_count": 409,
   "metadata": {},
   "outputs": [],
   "source": [
    "# Remove nans from targets_encoded\n",
    "for col in target_based_encoding:\n",
    "    validation_set[col].fillna(0, inplace=True)"
   ]
  },
  {
   "cell_type": "code",
   "execution_count": 412,
   "metadata": {
    "scrolled": true
   },
   "outputs": [],
   "source": [
    "# Logistic Regression\n",
    "lr_val_predict = lr_model.predict(validation_set)\n",
    "val_scores['logreg_val'] = accuracy_score(y_val, lr_val_predict)"
   ]
  },
  {
   "cell_type": "code",
   "execution_count": 413,
   "metadata": {},
   "outputs": [
    {
     "data": {
      "text/plain": [
       "{'logreg_val': 0.9205774579488765}"
      ]
     },
     "execution_count": 413,
     "metadata": {},
     "output_type": "execute_result"
    }
   ],
   "source": [
    "val_scores"
   ]
  },
  {
   "cell_type": "code",
   "execution_count": 414,
   "metadata": {},
   "outputs": [],
   "source": [
    "# Linear SVC\n",
    "svc_val_predict = svc_model.predict(validation_set)\n",
    "val_scores['svc_val'] = accuracy_score(y_val, svc_val_predict)"
   ]
  },
  {
   "cell_type": "code",
   "execution_count": 415,
   "metadata": {},
   "outputs": [],
   "source": [
    "# Random Forest\n",
    "rf_val_predict = rf_model.predict(validation_set)\n",
    "val_scores['rf_val'] = accuracy_score(y_val, rf_val_predict)"
   ]
  },
  {
   "cell_type": "code",
   "execution_count": 416,
   "metadata": {},
   "outputs": [],
   "source": [
    "# Gradient Boosting\n",
    "xgb_val_predict = xgb_model.predict(validation_set)\n",
    "val_scores['gb_val'] = accuracy_score(y_val, xgb_val_predict)"
   ]
  },
  {
   "cell_type": "code",
   "execution_count": 418,
   "metadata": {},
   "outputs": [
    {
     "data": {
      "text/plain": [
       "{'logreg_val': 0.9205774579488765,\n",
       " 'svc_val': 0.9110414551233941,\n",
       " 'rf_val': 0.9719659176195311,\n",
       " 'gb_val': 0.9532250231777847}"
      ]
     },
     "execution_count": 418,
     "metadata": {},
     "output_type": "execute_result"
    }
   ],
   "source": [
    "val_scores"
   ]
  },
  {
   "cell_type": "markdown",
   "metadata": {},
   "source": [
    "## RF is the best model !"
   ]
  },
  {
   "cell_type": "markdown",
   "metadata": {},
   "source": [
    "## Feature Importance ~ Task 5 "
   ]
  },
  {
   "cell_type": "code",
   "execution_count": 482,
   "metadata": {},
   "outputs": [],
   "source": [
    "# Storing feature names for future reference\n",
    "fit1 = rf_pipe.fit(targets_encoded, y_train) \n"
   ]
  },
  {
   "cell_type": "code",
   "execution_count": 503,
   "metadata": {},
   "outputs": [
    {
     "data": {
      "text/plain": [
       "141"
      ]
     },
     "execution_count": 503,
     "metadata": {},
     "output_type": "execute_result"
    }
   ],
   "source": [
    "cat_features = fit1.steps[0][-1].named_transformers_['dummies'].steps[-1][-1].get_feature_names()\n",
    "cat_features = cat_features.tolist()\n",
    "feature_names = cont_vars + cat_features + target_based_encoding\n",
    "len(feature_names)"
   ]
  },
  {
   "cell_type": "code",
   "execution_count": 435,
   "metadata": {},
   "outputs": [],
   "source": [
    "feature_importances = rf_model.best_estimator_.steps[-1][1].feature_importances_"
   ]
  },
  {
   "cell_type": "code",
   "execution_count": 519,
   "metadata": {},
   "outputs": [
    {
     "data": {
      "text/plain": [
       "array([ 55,  71,  45, 134, 135, 140, 136, 139, 137, 138], dtype=int64)"
      ]
     },
     "execution_count": 519,
     "metadata": {},
     "output_type": "execute_result"
    }
   ],
   "source": [
    "indices"
   ]
  },
  {
   "cell_type": "code",
   "execution_count": 526,
   "metadata": {},
   "outputs": [],
   "source": [
    "top_feature_names = [feature_names[i] for i in indices]"
   ]
  },
  {
   "cell_type": "code",
   "execution_count": 527,
   "metadata": {},
   "outputs": [
    {
     "data": {
      "text/plain": [
       "Text(0.5, 0, 'Relative Importance')"
      ]
     },
     "execution_count": 527,
     "metadata": {},
     "output_type": "execute_result"
    },
    {
     "data": {
      "image/png": "[encoded data removed]",
      "text/plain": [
       "<Figure size 432x288 with 1 Axes>"
      ]
     },
     "metadata": {
      "needs_background": "light"
     },
     "output_type": "display_data"
    }
   ],
   "source": [
    "indices = np.argsort(feature_importances)[-10:]\n",
    "\n",
    "plt.figure(1)\n",
    "plt.title('Feature Importances')\n",
    "plt.barh(top_feature_names, feature_importances[indices], color='b', align='center')\n",
    "# plt.yticks(range(10), feature_names[indices])\n",
    "plt.xlabel('Relative Importance')"
   ]
  },
  {
   "cell_type": "markdown",
   "metadata": {},
   "source": [
    "## Keeping only top 10 variables by importance "
   ]
  },
  {
   "cell_type": "code",
   "execution_count": 562,
   "metadata": {},
   "outputs": [
    {
     "data": {
      "text/plain": [
       "['Related_Product_Indicator',\n",
       " 'Applicable_Manufacturer_or_Applicable_GPO_Making_Payment_State',\n",
       " 'Indicate_Drug_or_Biological_or_Device_or_Medical_Supply_1',\n",
       " 'Change_Type',\n",
       " 'Applicable_Manufacturer_or_Applicable_GPO_Making_Payment_Country',\n",
       " 'Recipient_State',\n",
       " 'Dispute_Status_for_Publication',\n",
       " 'Recipient_Country',\n",
       " 'Covered_or_Noncovered_Indicator_1']"
      ]
     },
     "execution_count": 562,
     "metadata": {},
     "output_type": "execute_result"
    }
   ],
   "source": [
    "categorical"
   ]
  },
  {
   "cell_type": "code",
   "execution_count": 536,
   "metadata": {},
   "outputs": [
    {
     "data": {
      "text/plain": [
       "['x4_Canada',\n",
       " 'x4_Switzerland',\n",
       " 'x2_Biological',\n",
       " 'x7_United States Minor Outlying Islands',\n",
       " 'x8_Covered',\n",
       " 'Recipient_City',\n",
       " 'x8_Non-Covered',\n",
       " 'Product_Category_or_Therapeutic_Area_1',\n",
       " 'Associated_Drug_or_Biological_NDC_1',\n",
       " 'Submitting_Applicable_Manufacturer_or_Applicable_GPO_Name']"
      ]
     },
     "execution_count": 536,
     "metadata": {},
     "output_type": "execute_result"
    }
   ],
   "source": [
    "top_feature_names"
   ]
  },
  {
   "cell_type": "code",
   "execution_count": 538,
   "metadata": {},
   "outputs": [],
   "source": [
    "vars_to_keep = ['Submitting_Applicable_Manufacturer_or_Applicable_GPO_Name',\n",
    "                'Associated_Drug_or_Biological_NDC_1',\n",
    "               'Product_Category_or_Therapeutic_Area_1',\n",
    "               'Recipient_City',\n",
    "               'Covered_or_Noncovered_Indicator_1']"
   ]
  },
  {
   "cell_type": "code",
   "execution_count": 539,
   "metadata": {},
   "outputs": [
    {
     "data": {
      "text/html": [
       "<div>\n",
       "<style scoped>\n",
       "    .dataframe tbody tr th:only-of-type {\n",
       "        vertical-align: middle;\n",
       "    }\n",
       "\n",
       "    .dataframe tbody tr th {\n",
       "        vertical-align: top;\n",
       "    }\n",
       "\n",
       "    .dataframe thead th {\n",
       "        text-align: right;\n",
       "    }\n",
       "</style>\n",
       "<table border=\"1\" class=\"dataframe\">\n",
       "  <thead>\n",
       "    <tr style=\"text-align: right;\">\n",
       "      <th></th>\n",
       "      <th>Submitting_Applicable_Manufacturer_or_Applicable_GPO_Name</th>\n",
       "      <th>Associated_Drug_or_Biological_NDC_1</th>\n",
       "      <th>Product_Category_or_Therapeutic_Area_1</th>\n",
       "      <th>Recipient_City</th>\n",
       "      <th>Covered_or_Noncovered_Indicator_1</th>\n",
       "    </tr>\n",
       "  </thead>\n",
       "  <tbody>\n",
       "    <tr>\n",
       "      <th>0</th>\n",
       "      <td>0.000000</td>\n",
       "      <td>6.429687e-01</td>\n",
       "      <td>0.523640</td>\n",
       "      <td>0.229508</td>\n",
       "      <td>Covered</td>\n",
       "    </tr>\n",
       "    <tr>\n",
       "      <th>1</th>\n",
       "      <td>0.000000</td>\n",
       "      <td>2.069573e-08</td>\n",
       "      <td>0.220053</td>\n",
       "      <td>0.107527</td>\n",
       "      <td>Covered</td>\n",
       "    </tr>\n",
       "    <tr>\n",
       "      <th>2</th>\n",
       "      <td>0.592631</td>\n",
       "      <td>6.429687e-01</td>\n",
       "      <td>0.822977</td>\n",
       "      <td>0.261852</td>\n",
       "      <td>Non-Covered</td>\n",
       "    </tr>\n",
       "    <tr>\n",
       "      <th>3</th>\n",
       "      <td>0.004041</td>\n",
       "      <td>9.533898e-03</td>\n",
       "      <td>0.078244</td>\n",
       "      <td>0.225352</td>\n",
       "      <td>Covered</td>\n",
       "    </tr>\n",
       "    <tr>\n",
       "      <th>4</th>\n",
       "      <td>0.186290</td>\n",
       "      <td>1.444043e-02</td>\n",
       "      <td>0.144172</td>\n",
       "      <td>0.050000</td>\n",
       "      <td>Covered</td>\n",
       "    </tr>\n",
       "  </tbody>\n",
       "</table>\n",
       "</div>"
      ],
      "text/plain": [
       "   Submitting_Applicable_Manufacturer_or_Applicable_GPO_Name  \\\n",
       "0                                           0.000000           \n",
       "1                                           0.000000           \n",
       "2                                           0.592631           \n",
       "3                                           0.004041           \n",
       "4                                           0.186290           \n",
       "\n",
       "   Associated_Drug_or_Biological_NDC_1  \\\n",
       "0                         6.429687e-01   \n",
       "1                         2.069573e-08   \n",
       "2                         6.429687e-01   \n",
       "3                         9.533898e-03   \n",
       "4                         1.444043e-02   \n",
       "\n",
       "   Product_Category_or_Therapeutic_Area_1  Recipient_City  \\\n",
       "0                                0.523640        0.229508   \n",
       "1                                0.220053        0.107527   \n",
       "2                                0.822977        0.261852   \n",
       "3                                0.078244        0.225352   \n",
       "4                                0.144172        0.050000   \n",
       "\n",
       "  Covered_or_Noncovered_Indicator_1  \n",
       "0                           Covered  \n",
       "1                           Covered  \n",
       "2                       Non-Covered  \n",
       "3                           Covered  \n",
       "4                           Covered  "
      ]
     },
     "execution_count": 539,
     "metadata": {},
     "output_type": "execute_result"
    }
   ],
   "source": [
    "reduced = targets_encoded[vars_to_keep]\n",
    "reduced.head()"
   ]
  },
  {
   "cell_type": "code",
   "execution_count": null,
   "metadata": {},
   "outputs": [],
   "source": []
  },
  {
   "cell_type": "code",
   "execution_count": null,
   "metadata": {},
   "outputs": [],
   "source": []
  },
  {
   "cell_type": "code",
   "execution_count": 567,
   "metadata": {},
   "outputs": [],
   "source": [
    "# Defining ColumnTransformer\n",
    "preprocessor = ColumnTransformer(transformers=[(\"dummies\", make_pipeline(SimpleImputer(strategy='most_frequent'),\n",
    "                                                                        OneHotEncoder(handle_unknown='ignore')), ['Covered_or_Noncovered_Indicator_1'])\n",
    "                                             ], remainder='passthrough')\n",
    "\n",
    "# Create pipeplines\n",
    "rf_pipe_reduced = Pipeline(steps=[(\"preprocessor\", preprocessor),\n",
    "                           (\"rf\", RandomForestClassifier(max_depth=50)) \n",
    "                          ])"
   ]
  },
  {
   "cell_type": "code",
   "execution_count": 568,
   "metadata": {
    "scrolled": true
   },
   "outputs": [],
   "source": [
    "# training and testing\n",
    "rf_model_reduced = rf_pipe_reduced.fit(reduced, y_train)"
   ]
  },
  {
   "cell_type": "code",
   "execution_count": 570,
   "metadata": {},
   "outputs": [],
   "source": [
    "reduced_val = targets_encoded_val[vars_to_keep]"
   ]
  },
  {
   "cell_type": "code",
   "execution_count": 571,
   "metadata": {},
   "outputs": [
    {
     "data": {
      "text/plain": [
       "0.9280384971965918"
      ]
     },
     "execution_count": 571,
     "metadata": {},
     "output_type": "execute_result"
    }
   ],
   "source": [
    "# Store best score\n",
    "reduced_predictions = rf_model_reduced.predict(reduced_val)\n",
    "reduced_accuracy = accuracy_score(reduced_predictions, y_val)\n",
    "reduced_accuracy"
   ]
  },
  {
   "cell_type": "code",
   "execution_count": null,
   "metadata": {},
   "outputs": [],
   "source": []
  },
  {
   "cell_type": "code",
   "execution_count": null,
   "metadata": {},
   "outputs": [],
   "source": []
  },
  {
   "cell_type": "markdown",
   "metadata": {},
   "source": [
    "# Code for drawing ROC curve"
   ]
  },
  {
   "cell_type": "code",
   "execution_count": null,
   "metadata": {},
   "outputs": [],
   "source": [
    "y_score = logreg.fit(pd.DataFrame(X_train_rus, columns = X_train.columns), \n",
    "                     pd.DataFrame(y_train_rus)).predict_proba(X_test)"
   ]
  },
  {
   "cell_type": "code",
   "execution_count": null,
   "metadata": {},
   "outputs": [],
   "source": [
    "preds = logreg.predict(X_test)\n",
    "tn, fp, fn, tp  = confusion_matrix(y_test, preds).ravel()\n",
    "print([tn, fp])\n",
    "print([fn, tp])"
   ]
  },
  {
   "cell_type": "code",
   "execution_count": null,
   "metadata": {
    "scrolled": false
   },
   "outputs": [],
   "source": [
    "roc_auc_score(y_test, y_score[:, 1])"
   ]
  },
  {
   "cell_type": "code",
   "execution_count": null,
   "metadata": {
    "scrolled": false
   },
   "outputs": [],
   "source": [
    "plot_roc(y_test, list(y_score[:, 1]))"
   ]
  },
  {
   "cell_type": "code",
   "execution_count": null,
   "metadata": {
    "scrolled": true
   },
   "outputs": [],
   "source": [
    "average_precision_score(y_test, y_score)"
   ]
  },
  {
   "cell_type": "code",
   "execution_count": null,
   "metadata": {},
   "outputs": [],
   "source": [
    "def plot_roc(y_test, y_score):\n",
    "    \n",
    "    fpr, tpr, thresholds = roc_curve(y_test, y_score)\n",
    "    \n",
    "    roc_auc = auc(fpr, tpr)\n",
    "    \n",
    "    lw = 2\n",
    "    plt.plot(fpr, tpr, color='darkorange',\n",
    "             lw=lw, label='ROC curve (area = %0.2f)' % roc_auc)\n",
    "    plt.plot([0, 1], [0, 1], color='navy', lw=lw, linestyle='--')\n",
    "    plt.xlim([0.0, 1.0])\n",
    "    plt.ylim([0.0, 1.05])\n",
    "    plt.xlabel('False Positive Rate')\n",
    "    plt.ylabel('True Positive Rate')\n",
    "    plt.title('Receiver operating characteristic')\n",
    "    plt.legend(loc=\"lower right\")\n",
    "    plt.show()"
   ]
  },
  {
   "cell_type": "code",
   "execution_count": null,
   "metadata": {},
   "outputs": [],
   "source": [
    "y_prob = logreg.predict_proba(X_test)"
   ]
  },
  {
   "cell_type": "code",
   "execution_count": null,
   "metadata": {},
   "outputs": [],
   "source": []
  }
 ],
 "metadata": {
  "kernelspec": {
   "display_name": "Python 3",
   "language": "python",
   "name": "python3"
  },
  "language_info": {
   "codemirror_mode": {
    "name": "ipython",
    "version": 3
   },
   "file_extension": ".py",
   "mimetype": "text/x-python",
   "name": "python",
   "nbconvert_exporter": "python",
   "pygments_lexer": "ipython3",
   "version": "3.7.2"
  }
 },
 "nbformat": 4,
 "nbformat_minor": 2
}
