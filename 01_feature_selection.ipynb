{
 "cells": [
  {
   "cell_type": "markdown",
   "metadata": {},
   "source": [
    "## Introduction"
   ]
  },
  {
   "cell_type": "markdown",
   "metadata": {},
   "source": [
    "TEAMMATES: Akshat and Annie"
   ]
  },
  {
   "cell_type": "markdown",
   "metadata": {},
   "source": [
    "The overall goal is to predict whether a payment by a company to a medical doctor or facility\n",
    "was made as part of a research project or not."
   ]
  },
  {
   "cell_type": "markdown",
   "metadata": {},
   "source": [
    "### Imports"
   ]
  },
  {
   "cell_type": "code",
   "execution_count": 111,
   "metadata": {},
   "outputs": [],
   "source": [
    "# data loading and manipulation\n",
    "import pandas as pd\n",
    "import numpy as np\n",
    "import random\n",
    "# from dirty_cat import TargetEncoder\n",
    "from category_encoders import TargetEncoder\n",
    "\n",
    "# scikit learn\n",
    "from sklearn.impute import SimpleImputer\n",
    "from sklearn.model_selection import train_test_split, cross_val_score, GridSearchCV\n",
    "from sklearn.pipeline import Pipeline, make_pipeline\n",
    "from sklearn.preprocessing import OneHotEncoder, LabelEncoder, StandardScaler\n",
    "from sklearn.linear_model import LogisticRegression\n",
    "from sklearn.svm import LinearSVC\n",
    "from sklearn.compose import ColumnTransformer\n",
    "from sklearn.metrics import mean_squared_error, confusion_matrix, roc_auc_score, auc, average_precision_score\n",
    "\n",
    "# unbalanced sets\n",
    "from imblearn.under_sampling import RandomUnderSampler\n",
    "\n",
    "# plotting\n",
    "import matplotlib.pyplot as plt\n",
    "\n",
    "%matplotlib inline\n",
    "import warnings\n",
    "warnings.filterwarnings('ignore')"
   ]
  },
  {
   "cell_type": "markdown",
   "metadata": {},
   "source": [
    "### Load data"
   ]
  },
  {
   "cell_type": "markdown",
   "metadata": {},
   "source": [
    "The positive class corresponds to the payments that were made by a company to a doctor or facility that is part of the **research project**. The negative class on the other hand are the **general payments**. \n",
    "\n",
    "In the original data sets, the ratio of the positive class to the negative class is 1/20, making the positive class the minority class. \n",
    "\n",
    "Because the data sets are so large, we will subsample from the classes in order to maintain the same ratio. Thus we take 120K data points from Class 0, and 20K data points from Class 1. \n",
    "\n",
    "120K from the positive class turns out to be ~20% of the data, and 2M from the negative class is ~20% from the negative class. "
   ]
  },
  {
   "cell_type": "code",
   "execution_count": 2,
   "metadata": {},
   "outputs": [],
   "source": [
    "# Import 20% data randomly\n",
    "# p = 0.2\n",
    "# df0 = pd.read_csv('../payments2017/d0.csv', skiprows=lambda i: i>0 and random.random() > p)\n",
    "# df1 = pd.read_csv('../payments2017/d1.csv', skiprows=lambda i: i>0 and random.random() > p)\n",
    "\n",
    "# Write sampled data for future use\n",
    "# df0.to_csv('../payments2017/gen_payments_sampled.csv')\n",
    "# df1.to_csv('../payments2017/res_payments_sampled.csv')"
   ]
  },
  {
   "cell_type": "code",
   "execution_count": 3,
   "metadata": {},
   "outputs": [],
   "source": [
    "# Import from sampled files\n",
    "df0 = pd.read_csv('../payments2017/gen_payments_sampled.csv')\n",
    "df1 = pd.read_csv('../payments2017/res_payments_sampled.csv')"
   ]
  },
  {
   "cell_type": "code",
   "execution_count": 4,
   "metadata": {
    "scrolled": true
   },
   "outputs": [
    {
     "data": {
      "text/plain": [
       "(2132686, 76)"
      ]
     },
     "execution_count": 4,
     "metadata": {},
     "output_type": "execute_result"
    }
   ],
   "source": [
    "df0.shape"
   ]
  },
  {
   "cell_type": "code",
   "execution_count": 5,
   "metadata": {},
   "outputs": [
    {
     "data": {
      "text/plain": [
       "(120511, 177)"
      ]
     },
     "execution_count": 5,
     "metadata": {},
     "output_type": "execute_result"
    }
   ],
   "source": [
    "df1.shape"
   ]
  },
  {
   "cell_type": "markdown",
   "metadata": {},
   "source": [
    "## Feature Intersection"
   ]
  },
  {
   "cell_type": "markdown",
   "metadata": {},
   "source": [
    "What features should be excluded because they leak the target information?\n",
    "\n",
    "There are 75 features present in the negative class, and 176 in the positive class. Our approach to combining the data sets for both the positive and the negative classs it to take an intersection of the features. "
   ]
  },
  {
   "cell_type": "code",
   "execution_count": 6,
   "metadata": {
    "scrolled": true
   },
   "outputs": [
    {
     "name": "stdout",
     "output_type": "stream",
     "text": [
      "There are 64 features present in the intersection of the two dataframes.\n"
     ]
    }
   ],
   "source": [
    "notPrs = list(set(list(df1.columns)).difference(list(df0.columns)))\n",
    "featureIntersection = list(set(list(df1.columns)).difference(notPrs))\n",
    "print(\"There are {} features present in the intersection of the two dataframes.\".format(len(featureIntersection) - 1))\n",
    "\n",
    "df1 = df1[featureIntersection]\n",
    "df0 = df0[featureIntersection]"
   ]
  },
  {
   "cell_type": "markdown",
   "metadata": {},
   "source": [
    "Before we concatenate the two data sets, we add an indicator variable to each one specifying which class the data belongs to. We call this feature **target**, which is equal to 1 for the positive class and 0 for the negative class."
   ]
  },
  {
   "cell_type": "code",
   "execution_count": 7,
   "metadata": {},
   "outputs": [
    {
     "data": {
      "text/plain": [
       "(2253197, 66)"
      ]
     },
     "execution_count": 7,
     "metadata": {},
     "output_type": "execute_result"
    }
   ],
   "source": [
    "df1['Target'] = 1\n",
    "df0['Target'] = 0\n",
    "\n",
    "df = pd.concat([df1, df0], axis=0)\n",
    "df.shape"
   ]
  },
  {
   "cell_type": "markdown",
   "metadata": {},
   "source": [
    "## NA Columns"
   ]
  },
  {
   "cell_type": "code",
   "execution_count": 8,
   "metadata": {},
   "outputs": [],
   "source": [
    "NAs = df.isna().mean().sort_values(ascending=False)"
   ]
  },
  {
   "cell_type": "code",
   "execution_count": 9,
   "metadata": {
    "scrolled": true
   },
   "outputs": [
    {
     "data": {
      "text/plain": [
       "Recipient_Province                                                  0.999945\n",
       "Recipient_Postal_Code                                               0.999931\n",
       "Physician_License_State_code5                                       0.999826\n",
       "Physician_License_State_code4                                       0.999209\n",
       "Associated_Drug_or_Biological_NDC_5                                 0.997671\n",
       "Physician_License_State_code3                                       0.995469\n",
       "Product_Category_or_Therapeutic_Area_5                              0.993623\n",
       "Indicate_Drug_or_Biological_or_Device_or_Medical_Supply_5           0.993483\n",
       "Name_of_Drug_or_Biological_or_Device_or_Medical_Supply_5            0.993420\n",
       "Covered_or_Noncovered_Indicator_5                                   0.993296\n",
       "Teaching_Hospital_CCN                                               0.987752\n",
       "Teaching_Hospital_ID                                                0.987752\n",
       "Teaching_Hospital_Name                                              0.987752\n",
       "Associated_Drug_or_Biological_NDC_4                                 0.983768\n",
       "Physician_License_State_code2                                       0.980442\n",
       "Product_Category_or_Therapeutic_Area_4                              0.977459\n",
       "Indicate_Drug_or_Biological_or_Device_or_Medical_Supply_4           0.977279\n",
       "Name_of_Drug_or_Biological_or_Device_or_Medical_Supply_4            0.977121\n",
       "Covered_or_Noncovered_Indicator_4                                   0.976900\n",
       "Physician_Name_Suffix                                               0.975787\n",
       "Associated_Drug_or_Biological_NDC_3                                 0.934709\n",
       "Product_Category_or_Therapeutic_Area_3                              0.921423\n",
       "Indicate_Drug_or_Biological_or_Device_or_Medical_Supply_3           0.921151\n",
       "Name_of_Drug_or_Biological_or_Device_or_Medical_Supply_3            0.921004\n",
       "Covered_or_Noncovered_Indicator_3                                   0.919222\n",
       "Associated_Drug_or_Biological_NDC_2                                 0.827624\n",
       "Product_Category_or_Therapeutic_Area_2                              0.802161\n",
       "Indicate_Drug_or_Biological_or_Device_or_Medical_Supply_2           0.801846\n",
       "Name_of_Drug_or_Biological_or_Device_or_Medical_Supply_2            0.801756\n",
       "Covered_or_Noncovered_Indicator_2                                   0.797244\n",
       "                                                                      ...   \n",
       "Physician_Specialty                                                 0.056165\n",
       "Physician_Last_Name                                                 0.055002\n",
       "Physician_First_Name                                                0.054988\n",
       "Physician_License_State_code1                                       0.054983\n",
       "Physician_Profile_ID                                                0.054979\n",
       "Physician_Primary_Type                                              0.054979\n",
       "Covered_or_Noncovered_Indicator_1                                   0.054517\n",
       "Applicable_Manufacturer_or_Applicable_GPO_Making_Payment_State      0.014239\n",
       "Recipient_State                                                     0.000122\n",
       "Recipient_Zip_Code                                                  0.000122\n",
       "Recipient_Primary_Business_Street_Address_Line1                     0.000054\n",
       "Recipient_City                                                      0.000053\n",
       "Recipient_Country                                                   0.000053\n",
       "Total_Amount_of_Payment_USDollars                                   0.000000\n",
       "Unnamed: 0                                                          0.000000\n",
       "Covered_Recipient_Type                                              0.000000\n",
       "Program_Year                                                        0.000000\n",
       "Applicable_Manufacturer_or_Applicable_GPO_Making_Payment_ID         0.000000\n",
       "Date_of_Payment                                                     0.000000\n",
       "Record_ID                                                           0.000000\n",
       "Applicable_Manufacturer_or_Applicable_GPO_Making_Payment_Country    0.000000\n",
       "Dispute_Status_for_Publication                                      0.000000\n",
       "Applicable_Manufacturer_or_Applicable_GPO_Making_Payment_Name       0.000000\n",
       "Payment_Publication_Date                                            0.000000\n",
       "Delay_in_Publication_Indicator                                      0.000000\n",
       "Form_of_Payment_or_Transfer_of_Value                                0.000000\n",
       "Related_Product_Indicator                                           0.000000\n",
       "Change_Type                                                         0.000000\n",
       "Submitting_Applicable_Manufacturer_or_Applicable_GPO_Name           0.000000\n",
       "Target                                                              0.000000\n",
       "Length: 66, dtype: float64"
      ]
     },
     "execution_count": 9,
     "metadata": {},
     "output_type": "execute_result"
    }
   ],
   "source": [
    "NAs"
   ]
  },
  {
   "cell_type": "markdown",
   "metadata": {},
   "source": [
    "## Train-Test Split"
   ]
  },
  {
   "cell_type": "code",
   "execution_count": 78,
   "metadata": {},
   "outputs": [],
   "source": [
    "features = df.drop(columns='Target')\n",
    "target = df['Target']\n",
    "X_train, X_test, y_train, y_test = train_test_split(features, target, random_state=42)\n",
    "model_scores = dict()"
   ]
  },
  {
   "cell_type": "markdown",
   "metadata": {},
   "source": [
    "**Baseline**"
   ]
  },
  {
   "cell_type": "markdown",
   "metadata": {},
   "source": [
    "Identifying possible irrelevant columns"
   ]
  },
  {
   "cell_type": "code",
   "execution_count": 79,
   "metadata": {},
   "outputs": [],
   "source": [
    "columns_to_drop = ['Recipient_Province', \n",
    "'Recipient_Postal_Code', \n",
    "'Recipient_Primary_Business_Street_Address_Line2',\n",
    "'Teaching_Hospital_Name', \n",
    "'Teaching_Hospital_CCN',\n",
    "'Teaching_Hospital_ID',\n",
    "'Physician_Name_Suffix',       \n",
    "'Program_Year', \n",
    "'Physician_Profile_ID', \n",
    "'Physician_Last_Name', \n",
    "'Physician_First_Name',\n",
    "'Record_ID',\n",
    "'Applicable_Manufacturer_or_Applicable_GPO_Making_Payment_ID',\n",
    "'Physician_Profile_ID',\n",
    "'Recipient_Zip_Code',\n",
    "'Date_of_Payment',\n",
    "'Physician_Middle_Name',\n",
    "# 'Covered_Recipient_Type', # leaking target info\n",
    "'Payment_Publication_Date', \n",
    "# 'Submitting_Applicable_Manufacturer_or_Applicable_GPO_Name', # leaking target info\n",
    "# 'Applicable_Manufacturer_or_Applicable_GPO_Making_Payment_Name', # leaking target info\n",
    "'Unnamed: 0' # Index col from one of the DFs\n",
    "]"
   ]
  },
  {
   "cell_type": "markdown",
   "metadata": {},
   "source": [
    "Dropping Columns with any missing value at all"
   ]
  },
  {
   "cell_type": "code",
   "execution_count": 80,
   "metadata": {
    "scrolled": true
   },
   "outputs": [],
   "source": [
    "nan_columns = NAs[NAs > 0] \n",
    "nan_columns = np.array(nan_columns.index)\n",
    "to_drop_baseline = list(set(nan_columns) | set(columns_to_drop))"
   ]
  },
  {
   "cell_type": "code",
   "execution_count": 81,
   "metadata": {},
   "outputs": [],
   "source": [
    "X_train_Baseline = X_train.drop(columns=to_drop_baseline, axis ='columns')"
   ]
  },
  {
   "cell_type": "markdown",
   "metadata": {},
   "source": [
    "Checking single variable performances to identify leakage issues"
   ]
  },
  {
   "cell_type": "code",
   "execution_count": 83,
   "metadata": {
    "collapsed": true
   },
   "outputs": [
    {
     "ename": "KeyboardInterrupt",
     "evalue": "",
     "output_type": "error",
     "traceback": [
      "\u001b[1;31m---------------------------------------------------------------------------\u001b[0m",
      "\u001b[1;31mKeyboardInterrupt\u001b[0m                         Traceback (most recent call last)",
      "\u001b[1;32m<ipython-input-83-24b99d9adc1d>\u001b[0m in \u001b[0;36m<module>\u001b[1;34m\u001b[0m\n\u001b[0;32m     28\u001b[0m \u001b[1;33m\u001b[0m\u001b[0m\n\u001b[0;32m     29\u001b[0m     \u001b[1;31m# Baseline Training and testing\u001b[0m\u001b[1;33m\u001b[0m\u001b[1;33m\u001b[0m\u001b[1;33m\u001b[0m\u001b[0m\n\u001b[1;32m---> 30\u001b[1;33m     \u001b[0mlogreg\u001b[0m \u001b[1;33m=\u001b[0m \u001b[0mbaseline_pipe\u001b[0m\u001b[1;33m.\u001b[0m\u001b[0mfit\u001b[0m\u001b[1;33m(\u001b[0m\u001b[0mX_train_rus\u001b[0m\u001b[1;33m[\u001b[0m\u001b[1;33m[\u001b[0m\u001b[0mvar\u001b[0m\u001b[1;33m]\u001b[0m\u001b[1;33m]\u001b[0m\u001b[1;33m,\u001b[0m \u001b[0my_train_rus\u001b[0m\u001b[1;33m)\u001b[0m\u001b[1;33m\u001b[0m\u001b[1;33m\u001b[0m\u001b[0m\n\u001b[0m\u001b[0;32m     31\u001b[0m     \u001b[0my_score\u001b[0m \u001b[1;33m=\u001b[0m \u001b[0mlogreg\u001b[0m\u001b[1;33m.\u001b[0m\u001b[0mpredict_proba\u001b[0m\u001b[1;33m(\u001b[0m\u001b[0mX_train_rus\u001b[0m\u001b[1;33m[\u001b[0m\u001b[1;33m[\u001b[0m\u001b[0mvar\u001b[0m\u001b[1;33m]\u001b[0m\u001b[1;33m]\u001b[0m\u001b[1;33m)\u001b[0m\u001b[1;33m\u001b[0m\u001b[1;33m\u001b[0m\u001b[0m\n\u001b[0;32m     32\u001b[0m \u001b[1;33m\u001b[0m\u001b[0m\n",
      "\u001b[1;32m~\\Miniconda3\\envs\\aml_spring_19\\lib\\site-packages\\sklearn\\pipeline.py\u001b[0m in \u001b[0;36mfit\u001b[1;34m(self, X, y, **fit_params)\u001b[0m\n\u001b[0;32m    265\u001b[0m         \u001b[0mXt\u001b[0m\u001b[1;33m,\u001b[0m \u001b[0mfit_params\u001b[0m \u001b[1;33m=\u001b[0m \u001b[0mself\u001b[0m\u001b[1;33m.\u001b[0m\u001b[0m_fit\u001b[0m\u001b[1;33m(\u001b[0m\u001b[0mX\u001b[0m\u001b[1;33m,\u001b[0m \u001b[0my\u001b[0m\u001b[1;33m,\u001b[0m \u001b[1;33m**\u001b[0m\u001b[0mfit_params\u001b[0m\u001b[1;33m)\u001b[0m\u001b[1;33m\u001b[0m\u001b[1;33m\u001b[0m\u001b[0m\n\u001b[0;32m    266\u001b[0m         \u001b[1;32mif\u001b[0m \u001b[0mself\u001b[0m\u001b[1;33m.\u001b[0m\u001b[0m_final_estimator\u001b[0m \u001b[1;32mis\u001b[0m \u001b[1;32mnot\u001b[0m \u001b[1;32mNone\u001b[0m\u001b[1;33m:\u001b[0m\u001b[1;33m\u001b[0m\u001b[1;33m\u001b[0m\u001b[0m\n\u001b[1;32m--> 267\u001b[1;33m             \u001b[0mself\u001b[0m\u001b[1;33m.\u001b[0m\u001b[0m_final_estimator\u001b[0m\u001b[1;33m.\u001b[0m\u001b[0mfit\u001b[0m\u001b[1;33m(\u001b[0m\u001b[0mXt\u001b[0m\u001b[1;33m,\u001b[0m \u001b[0my\u001b[0m\u001b[1;33m,\u001b[0m \u001b[1;33m**\u001b[0m\u001b[0mfit_params\u001b[0m\u001b[1;33m)\u001b[0m\u001b[1;33m\u001b[0m\u001b[1;33m\u001b[0m\u001b[0m\n\u001b[0m\u001b[0;32m    268\u001b[0m         \u001b[1;32mreturn\u001b[0m \u001b[0mself\u001b[0m\u001b[1;33m\u001b[0m\u001b[1;33m\u001b[0m\u001b[0m\n\u001b[0;32m    269\u001b[0m \u001b[1;33m\u001b[0m\u001b[0m\n",
      "\u001b[1;32m~\\Miniconda3\\envs\\aml_spring_19\\lib\\site-packages\\sklearn\\linear_model\\logistic.py\u001b[0m in \u001b[0;36mfit\u001b[1;34m(self, X, y, sample_weight)\u001b[0m\n\u001b[0;32m   1361\u001b[0m                       \u001b[0mmax_squared_sum\u001b[0m\u001b[1;33m=\u001b[0m\u001b[0mmax_squared_sum\u001b[0m\u001b[1;33m,\u001b[0m\u001b[1;33m\u001b[0m\u001b[1;33m\u001b[0m\u001b[0m\n\u001b[0;32m   1362\u001b[0m                       sample_weight=sample_weight)\n\u001b[1;32m-> 1363\u001b[1;33m             for class_, warm_start_coef_ in zip(classes_, warm_start_coef))\n\u001b[0m\u001b[0;32m   1364\u001b[0m \u001b[1;33m\u001b[0m\u001b[0m\n\u001b[0;32m   1365\u001b[0m         \u001b[0mfold_coefs_\u001b[0m\u001b[1;33m,\u001b[0m \u001b[0m_\u001b[0m\u001b[1;33m,\u001b[0m \u001b[0mn_iter_\u001b[0m \u001b[1;33m=\u001b[0m \u001b[0mzip\u001b[0m\u001b[1;33m(\u001b[0m\u001b[1;33m*\u001b[0m\u001b[0mfold_coefs_\u001b[0m\u001b[1;33m)\u001b[0m\u001b[1;33m\u001b[0m\u001b[1;33m\u001b[0m\u001b[0m\n",
      "\u001b[1;32m~\\Miniconda3\\envs\\aml_spring_19\\lib\\site-packages\\sklearn\\externals\\joblib\\parallel.py\u001b[0m in \u001b[0;36m__call__\u001b[1;34m(self, iterable)\u001b[0m\n\u001b[0;32m    915\u001b[0m             \u001b[1;31m# remaining jobs.\u001b[0m\u001b[1;33m\u001b[0m\u001b[1;33m\u001b[0m\u001b[1;33m\u001b[0m\u001b[0m\n\u001b[0;32m    916\u001b[0m             \u001b[0mself\u001b[0m\u001b[1;33m.\u001b[0m\u001b[0m_iterating\u001b[0m \u001b[1;33m=\u001b[0m \u001b[1;32mFalse\u001b[0m\u001b[1;33m\u001b[0m\u001b[1;33m\u001b[0m\u001b[0m\n\u001b[1;32m--> 917\u001b[1;33m             \u001b[1;32mif\u001b[0m \u001b[0mself\u001b[0m\u001b[1;33m.\u001b[0m\u001b[0mdispatch_one_batch\u001b[0m\u001b[1;33m(\u001b[0m\u001b[0miterator\u001b[0m\u001b[1;33m)\u001b[0m\u001b[1;33m:\u001b[0m\u001b[1;33m\u001b[0m\u001b[1;33m\u001b[0m\u001b[0m\n\u001b[0m\u001b[0;32m    918\u001b[0m                 \u001b[0mself\u001b[0m\u001b[1;33m.\u001b[0m\u001b[0m_iterating\u001b[0m \u001b[1;33m=\u001b[0m \u001b[0mself\u001b[0m\u001b[1;33m.\u001b[0m\u001b[0m_original_iterator\u001b[0m \u001b[1;32mis\u001b[0m \u001b[1;32mnot\u001b[0m \u001b[1;32mNone\u001b[0m\u001b[1;33m\u001b[0m\u001b[1;33m\u001b[0m\u001b[0m\n\u001b[0;32m    919\u001b[0m \u001b[1;33m\u001b[0m\u001b[0m\n",
      "\u001b[1;32m~\\Miniconda3\\envs\\aml_spring_19\\lib\\site-packages\\sklearn\\externals\\joblib\\parallel.py\u001b[0m in \u001b[0;36mdispatch_one_batch\u001b[1;34m(self, iterator)\u001b[0m\n\u001b[0;32m    757\u001b[0m                 \u001b[1;32mreturn\u001b[0m \u001b[1;32mFalse\u001b[0m\u001b[1;33m\u001b[0m\u001b[1;33m\u001b[0m\u001b[0m\n\u001b[0;32m    758\u001b[0m             \u001b[1;32melse\u001b[0m\u001b[1;33m:\u001b[0m\u001b[1;33m\u001b[0m\u001b[1;33m\u001b[0m\u001b[0m\n\u001b[1;32m--> 759\u001b[1;33m                 \u001b[0mself\u001b[0m\u001b[1;33m.\u001b[0m\u001b[0m_dispatch\u001b[0m\u001b[1;33m(\u001b[0m\u001b[0mtasks\u001b[0m\u001b[1;33m)\u001b[0m\u001b[1;33m\u001b[0m\u001b[1;33m\u001b[0m\u001b[0m\n\u001b[0m\u001b[0;32m    760\u001b[0m                 \u001b[1;32mreturn\u001b[0m \u001b[1;32mTrue\u001b[0m\u001b[1;33m\u001b[0m\u001b[1;33m\u001b[0m\u001b[0m\n\u001b[0;32m    761\u001b[0m \u001b[1;33m\u001b[0m\u001b[0m\n",
      "\u001b[1;32m~\\Miniconda3\\envs\\aml_spring_19\\lib\\site-packages\\sklearn\\externals\\joblib\\parallel.py\u001b[0m in \u001b[0;36m_dispatch\u001b[1;34m(self, batch)\u001b[0m\n\u001b[0;32m    714\u001b[0m         \u001b[1;32mwith\u001b[0m \u001b[0mself\u001b[0m\u001b[1;33m.\u001b[0m\u001b[0m_lock\u001b[0m\u001b[1;33m:\u001b[0m\u001b[1;33m\u001b[0m\u001b[1;33m\u001b[0m\u001b[0m\n\u001b[0;32m    715\u001b[0m             \u001b[0mjob_idx\u001b[0m \u001b[1;33m=\u001b[0m \u001b[0mlen\u001b[0m\u001b[1;33m(\u001b[0m\u001b[0mself\u001b[0m\u001b[1;33m.\u001b[0m\u001b[0m_jobs\u001b[0m\u001b[1;33m)\u001b[0m\u001b[1;33m\u001b[0m\u001b[1;33m\u001b[0m\u001b[0m\n\u001b[1;32m--> 716\u001b[1;33m             \u001b[0mjob\u001b[0m \u001b[1;33m=\u001b[0m \u001b[0mself\u001b[0m\u001b[1;33m.\u001b[0m\u001b[0m_backend\u001b[0m\u001b[1;33m.\u001b[0m\u001b[0mapply_async\u001b[0m\u001b[1;33m(\u001b[0m\u001b[0mbatch\u001b[0m\u001b[1;33m,\u001b[0m \u001b[0mcallback\u001b[0m\u001b[1;33m=\u001b[0m\u001b[0mcb\u001b[0m\u001b[1;33m)\u001b[0m\u001b[1;33m\u001b[0m\u001b[1;33m\u001b[0m\u001b[0m\n\u001b[0m\u001b[0;32m    717\u001b[0m             \u001b[1;31m# A job can complete so quickly than its callback is\u001b[0m\u001b[1;33m\u001b[0m\u001b[1;33m\u001b[0m\u001b[1;33m\u001b[0m\u001b[0m\n\u001b[0;32m    718\u001b[0m             \u001b[1;31m# called before we get here, causing self._jobs to\u001b[0m\u001b[1;33m\u001b[0m\u001b[1;33m\u001b[0m\u001b[1;33m\u001b[0m\u001b[0m\n",
      "\u001b[1;32m~\\Miniconda3\\envs\\aml_spring_19\\lib\\site-packages\\sklearn\\externals\\joblib\\_parallel_backends.py\u001b[0m in \u001b[0;36mapply_async\u001b[1;34m(self, func, callback)\u001b[0m\n\u001b[0;32m    180\u001b[0m     \u001b[1;32mdef\u001b[0m \u001b[0mapply_async\u001b[0m\u001b[1;33m(\u001b[0m\u001b[0mself\u001b[0m\u001b[1;33m,\u001b[0m \u001b[0mfunc\u001b[0m\u001b[1;33m,\u001b[0m \u001b[0mcallback\u001b[0m\u001b[1;33m=\u001b[0m\u001b[1;32mNone\u001b[0m\u001b[1;33m)\u001b[0m\u001b[1;33m:\u001b[0m\u001b[1;33m\u001b[0m\u001b[1;33m\u001b[0m\u001b[0m\n\u001b[0;32m    181\u001b[0m         \u001b[1;34m\"\"\"Schedule a func to be run\"\"\"\u001b[0m\u001b[1;33m\u001b[0m\u001b[1;33m\u001b[0m\u001b[0m\n\u001b[1;32m--> 182\u001b[1;33m         \u001b[0mresult\u001b[0m \u001b[1;33m=\u001b[0m \u001b[0mImmediateResult\u001b[0m\u001b[1;33m(\u001b[0m\u001b[0mfunc\u001b[0m\u001b[1;33m)\u001b[0m\u001b[1;33m\u001b[0m\u001b[1;33m\u001b[0m\u001b[0m\n\u001b[0m\u001b[0;32m    183\u001b[0m         \u001b[1;32mif\u001b[0m \u001b[0mcallback\u001b[0m\u001b[1;33m:\u001b[0m\u001b[1;33m\u001b[0m\u001b[1;33m\u001b[0m\u001b[0m\n\u001b[0;32m    184\u001b[0m             \u001b[0mcallback\u001b[0m\u001b[1;33m(\u001b[0m\u001b[0mresult\u001b[0m\u001b[1;33m)\u001b[0m\u001b[1;33m\u001b[0m\u001b[1;33m\u001b[0m\u001b[0m\n",
      "\u001b[1;32m~\\Miniconda3\\envs\\aml_spring_19\\lib\\site-packages\\sklearn\\externals\\joblib\\_parallel_backends.py\u001b[0m in \u001b[0;36m__init__\u001b[1;34m(self, batch)\u001b[0m\n\u001b[0;32m    547\u001b[0m         \u001b[1;31m# Don't delay the application, to avoid keeping the input\u001b[0m\u001b[1;33m\u001b[0m\u001b[1;33m\u001b[0m\u001b[1;33m\u001b[0m\u001b[0m\n\u001b[0;32m    548\u001b[0m         \u001b[1;31m# arguments in memory\u001b[0m\u001b[1;33m\u001b[0m\u001b[1;33m\u001b[0m\u001b[1;33m\u001b[0m\u001b[0m\n\u001b[1;32m--> 549\u001b[1;33m         \u001b[0mself\u001b[0m\u001b[1;33m.\u001b[0m\u001b[0mresults\u001b[0m \u001b[1;33m=\u001b[0m \u001b[0mbatch\u001b[0m\u001b[1;33m(\u001b[0m\u001b[1;33m)\u001b[0m\u001b[1;33m\u001b[0m\u001b[1;33m\u001b[0m\u001b[0m\n\u001b[0m\u001b[0;32m    550\u001b[0m \u001b[1;33m\u001b[0m\u001b[0m\n\u001b[0;32m    551\u001b[0m     \u001b[1;32mdef\u001b[0m \u001b[0mget\u001b[0m\u001b[1;33m(\u001b[0m\u001b[0mself\u001b[0m\u001b[1;33m)\u001b[0m\u001b[1;33m:\u001b[0m\u001b[1;33m\u001b[0m\u001b[1;33m\u001b[0m\u001b[0m\n",
      "\u001b[1;32m~\\Miniconda3\\envs\\aml_spring_19\\lib\\site-packages\\sklearn\\externals\\joblib\\parallel.py\u001b[0m in \u001b[0;36m__call__\u001b[1;34m(self)\u001b[0m\n\u001b[0;32m    223\u001b[0m         \u001b[1;32mwith\u001b[0m \u001b[0mparallel_backend\u001b[0m\u001b[1;33m(\u001b[0m\u001b[0mself\u001b[0m\u001b[1;33m.\u001b[0m\u001b[0m_backend\u001b[0m\u001b[1;33m,\u001b[0m \u001b[0mn_jobs\u001b[0m\u001b[1;33m=\u001b[0m\u001b[0mself\u001b[0m\u001b[1;33m.\u001b[0m\u001b[0m_n_jobs\u001b[0m\u001b[1;33m)\u001b[0m\u001b[1;33m:\u001b[0m\u001b[1;33m\u001b[0m\u001b[1;33m\u001b[0m\u001b[0m\n\u001b[0;32m    224\u001b[0m             return [func(*args, **kwargs)\n\u001b[1;32m--> 225\u001b[1;33m                     for func, args, kwargs in self.items]\n\u001b[0m\u001b[0;32m    226\u001b[0m \u001b[1;33m\u001b[0m\u001b[0m\n\u001b[0;32m    227\u001b[0m     \u001b[1;32mdef\u001b[0m \u001b[0m__len__\u001b[0m\u001b[1;33m(\u001b[0m\u001b[0mself\u001b[0m\u001b[1;33m)\u001b[0m\u001b[1;33m:\u001b[0m\u001b[1;33m\u001b[0m\u001b[1;33m\u001b[0m\u001b[0m\n",
      "\u001b[1;32m~\\Miniconda3\\envs\\aml_spring_19\\lib\\site-packages\\sklearn\\externals\\joblib\\parallel.py\u001b[0m in \u001b[0;36m<listcomp>\u001b[1;34m(.0)\u001b[0m\n\u001b[0;32m    223\u001b[0m         \u001b[1;32mwith\u001b[0m \u001b[0mparallel_backend\u001b[0m\u001b[1;33m(\u001b[0m\u001b[0mself\u001b[0m\u001b[1;33m.\u001b[0m\u001b[0m_backend\u001b[0m\u001b[1;33m,\u001b[0m \u001b[0mn_jobs\u001b[0m\u001b[1;33m=\u001b[0m\u001b[0mself\u001b[0m\u001b[1;33m.\u001b[0m\u001b[0m_n_jobs\u001b[0m\u001b[1;33m)\u001b[0m\u001b[1;33m:\u001b[0m\u001b[1;33m\u001b[0m\u001b[1;33m\u001b[0m\u001b[0m\n\u001b[0;32m    224\u001b[0m             return [func(*args, **kwargs)\n\u001b[1;32m--> 225\u001b[1;33m                     for func, args, kwargs in self.items]\n\u001b[0m\u001b[0;32m    226\u001b[0m \u001b[1;33m\u001b[0m\u001b[0m\n\u001b[0;32m    227\u001b[0m     \u001b[1;32mdef\u001b[0m \u001b[0m__len__\u001b[0m\u001b[1;33m(\u001b[0m\u001b[0mself\u001b[0m\u001b[1;33m)\u001b[0m\u001b[1;33m:\u001b[0m\u001b[1;33m\u001b[0m\u001b[1;33m\u001b[0m\u001b[0m\n",
      "\u001b[1;32m~\\Miniconda3\\envs\\aml_spring_19\\lib\\site-packages\\sklearn\\linear_model\\logistic.py\u001b[0m in \u001b[0;36mlogistic_regression_path\u001b[1;34m(X, y, pos_class, Cs, fit_intercept, max_iter, tol, verbose, solver, coef, class_weight, dual, penalty, intercept_scaling, multi_class, random_state, check_input, max_squared_sum, sample_weight)\u001b[0m\n\u001b[0;32m    753\u001b[0m                 \u001b[0mfunc\u001b[0m\u001b[1;33m,\u001b[0m \u001b[0mw0\u001b[0m\u001b[1;33m,\u001b[0m \u001b[0mfprime\u001b[0m\u001b[1;33m=\u001b[0m\u001b[1;32mNone\u001b[0m\u001b[1;33m,\u001b[0m\u001b[1;33m\u001b[0m\u001b[1;33m\u001b[0m\u001b[0m\n\u001b[0;32m    754\u001b[0m                 \u001b[0margs\u001b[0m\u001b[1;33m=\u001b[0m\u001b[1;33m(\u001b[0m\u001b[0mX\u001b[0m\u001b[1;33m,\u001b[0m \u001b[0mtarget\u001b[0m\u001b[1;33m,\u001b[0m \u001b[1;36m1.\u001b[0m \u001b[1;33m/\u001b[0m \u001b[0mC\u001b[0m\u001b[1;33m,\u001b[0m \u001b[0msample_weight\u001b[0m\u001b[1;33m)\u001b[0m\u001b[1;33m,\u001b[0m\u001b[1;33m\u001b[0m\u001b[1;33m\u001b[0m\u001b[0m\n\u001b[1;32m--> 755\u001b[1;33m                 iprint=iprint, pgtol=tol, maxiter=max_iter)\n\u001b[0m\u001b[0;32m    756\u001b[0m             \u001b[1;32mif\u001b[0m \u001b[0minfo\u001b[0m\u001b[1;33m[\u001b[0m\u001b[1;34m\"warnflag\"\u001b[0m\u001b[1;33m]\u001b[0m \u001b[1;33m==\u001b[0m \u001b[1;36m1\u001b[0m\u001b[1;33m:\u001b[0m\u001b[1;33m\u001b[0m\u001b[1;33m\u001b[0m\u001b[0m\n\u001b[0;32m    757\u001b[0m                 warnings.warn(\"lbfgs failed to converge. Increase the number \"\n",
      "\u001b[1;32m~\\Miniconda3\\envs\\aml_spring_19\\lib\\site-packages\\scipy\\optimize\\lbfgsb.py\u001b[0m in \u001b[0;36mfmin_l_bfgs_b\u001b[1;34m(func, x0, fprime, args, approx_grad, bounds, m, factr, pgtol, epsilon, iprint, maxfun, maxiter, disp, callback, maxls)\u001b[0m\n\u001b[0;32m    197\u001b[0m \u001b[1;33m\u001b[0m\u001b[0m\n\u001b[0;32m    198\u001b[0m     res = _minimize_lbfgsb(fun, x0, args=args, jac=jac, bounds=bounds,\n\u001b[1;32m--> 199\u001b[1;33m                            **opts)\n\u001b[0m\u001b[0;32m    200\u001b[0m     d = {'grad': res['jac'],\n\u001b[0;32m    201\u001b[0m          \u001b[1;34m'task'\u001b[0m\u001b[1;33m:\u001b[0m \u001b[0mres\u001b[0m\u001b[1;33m[\u001b[0m\u001b[1;34m'message'\u001b[0m\u001b[1;33m]\u001b[0m\u001b[1;33m,\u001b[0m\u001b[1;33m\u001b[0m\u001b[1;33m\u001b[0m\u001b[0m\n",
      "\u001b[1;32m~\\Miniconda3\\envs\\aml_spring_19\\lib\\site-packages\\scipy\\optimize\\lbfgsb.py\u001b[0m in \u001b[0;36m_minimize_lbfgsb\u001b[1;34m(fun, x0, args, jac, bounds, disp, maxcor, ftol, gtol, eps, maxfun, maxiter, iprint, callback, maxls, **unknown_options)\u001b[0m\n\u001b[0;32m    333\u001b[0m             \u001b[1;31m# until the completion of the current minimization iteration.\u001b[0m\u001b[1;33m\u001b[0m\u001b[1;33m\u001b[0m\u001b[1;33m\u001b[0m\u001b[0m\n\u001b[0;32m    334\u001b[0m             \u001b[1;31m# Overwrite f and g:\u001b[0m\u001b[1;33m\u001b[0m\u001b[1;33m\u001b[0m\u001b[1;33m\u001b[0m\u001b[0m\n\u001b[1;32m--> 335\u001b[1;33m             \u001b[0mf\u001b[0m\u001b[1;33m,\u001b[0m \u001b[0mg\u001b[0m \u001b[1;33m=\u001b[0m \u001b[0mfunc_and_grad\u001b[0m\u001b[1;33m(\u001b[0m\u001b[0mx\u001b[0m\u001b[1;33m)\u001b[0m\u001b[1;33m\u001b[0m\u001b[1;33m\u001b[0m\u001b[0m\n\u001b[0m\u001b[0;32m    336\u001b[0m         \u001b[1;32melif\u001b[0m \u001b[0mtask_str\u001b[0m\u001b[1;33m.\u001b[0m\u001b[0mstartswith\u001b[0m\u001b[1;33m(\u001b[0m\u001b[1;34mb'NEW_X'\u001b[0m\u001b[1;33m)\u001b[0m\u001b[1;33m:\u001b[0m\u001b[1;33m\u001b[0m\u001b[1;33m\u001b[0m\u001b[0m\n\u001b[0;32m    337\u001b[0m             \u001b[1;31m# new iteration\u001b[0m\u001b[1;33m\u001b[0m\u001b[1;33m\u001b[0m\u001b[1;33m\u001b[0m\u001b[0m\n",
      "\u001b[1;32m~\\Miniconda3\\envs\\aml_spring_19\\lib\\site-packages\\scipy\\optimize\\lbfgsb.py\u001b[0m in \u001b[0;36mfunc_and_grad\u001b[1;34m(x)\u001b[0m\n\u001b[0;32m    283\u001b[0m     \u001b[1;32melse\u001b[0m\u001b[1;33m:\u001b[0m\u001b[1;33m\u001b[0m\u001b[1;33m\u001b[0m\u001b[0m\n\u001b[0;32m    284\u001b[0m         \u001b[1;32mdef\u001b[0m \u001b[0mfunc_and_grad\u001b[0m\u001b[1;33m(\u001b[0m\u001b[0mx\u001b[0m\u001b[1;33m)\u001b[0m\u001b[1;33m:\u001b[0m\u001b[1;33m\u001b[0m\u001b[1;33m\u001b[0m\u001b[0m\n\u001b[1;32m--> 285\u001b[1;33m             \u001b[0mf\u001b[0m \u001b[1;33m=\u001b[0m \u001b[0mfun\u001b[0m\u001b[1;33m(\u001b[0m\u001b[0mx\u001b[0m\u001b[1;33m,\u001b[0m \u001b[1;33m*\u001b[0m\u001b[0margs\u001b[0m\u001b[1;33m)\u001b[0m\u001b[1;33m\u001b[0m\u001b[1;33m\u001b[0m\u001b[0m\n\u001b[0m\u001b[0;32m    286\u001b[0m             \u001b[0mg\u001b[0m \u001b[1;33m=\u001b[0m \u001b[0mjac\u001b[0m\u001b[1;33m(\u001b[0m\u001b[0mx\u001b[0m\u001b[1;33m,\u001b[0m \u001b[1;33m*\u001b[0m\u001b[0margs\u001b[0m\u001b[1;33m)\u001b[0m\u001b[1;33m\u001b[0m\u001b[1;33m\u001b[0m\u001b[0m\n\u001b[0;32m    287\u001b[0m             \u001b[1;32mreturn\u001b[0m \u001b[0mf\u001b[0m\u001b[1;33m,\u001b[0m \u001b[0mg\u001b[0m\u001b[1;33m\u001b[0m\u001b[1;33m\u001b[0m\u001b[0m\n",
      "\u001b[1;32m~\\Miniconda3\\envs\\aml_spring_19\\lib\\site-packages\\scipy\\optimize\\optimize.py\u001b[0m in \u001b[0;36mfunction_wrapper\u001b[1;34m(*wrapper_args)\u001b[0m\n\u001b[0;32m    298\u001b[0m     \u001b[1;32mdef\u001b[0m \u001b[0mfunction_wrapper\u001b[0m\u001b[1;33m(\u001b[0m\u001b[1;33m*\u001b[0m\u001b[0mwrapper_args\u001b[0m\u001b[1;33m)\u001b[0m\u001b[1;33m:\u001b[0m\u001b[1;33m\u001b[0m\u001b[1;33m\u001b[0m\u001b[0m\n\u001b[0;32m    299\u001b[0m         \u001b[0mncalls\u001b[0m\u001b[1;33m[\u001b[0m\u001b[1;36m0\u001b[0m\u001b[1;33m]\u001b[0m \u001b[1;33m+=\u001b[0m \u001b[1;36m1\u001b[0m\u001b[1;33m\u001b[0m\u001b[1;33m\u001b[0m\u001b[0m\n\u001b[1;32m--> 300\u001b[1;33m         \u001b[1;32mreturn\u001b[0m \u001b[0mfunction\u001b[0m\u001b[1;33m(\u001b[0m\u001b[1;33m*\u001b[0m\u001b[1;33m(\u001b[0m\u001b[0mwrapper_args\u001b[0m \u001b[1;33m+\u001b[0m \u001b[0margs\u001b[0m\u001b[1;33m)\u001b[0m\u001b[1;33m)\u001b[0m\u001b[1;33m\u001b[0m\u001b[1;33m\u001b[0m\u001b[0m\n\u001b[0m\u001b[0;32m    301\u001b[0m \u001b[1;33m\u001b[0m\u001b[0m\n\u001b[0;32m    302\u001b[0m     \u001b[1;32mreturn\u001b[0m \u001b[0mncalls\u001b[0m\u001b[1;33m,\u001b[0m \u001b[0mfunction_wrapper\u001b[0m\u001b[1;33m\u001b[0m\u001b[1;33m\u001b[0m\u001b[0m\n",
      "\u001b[1;32m~\\Miniconda3\\envs\\aml_spring_19\\lib\\site-packages\\scipy\\optimize\\optimize.py\u001b[0m in \u001b[0;36m__call__\u001b[1;34m(self, x, *args)\u001b[0m\n\u001b[0;32m     61\u001b[0m     \u001b[1;32mdef\u001b[0m \u001b[0m__call__\u001b[0m\u001b[1;33m(\u001b[0m\u001b[0mself\u001b[0m\u001b[1;33m,\u001b[0m \u001b[0mx\u001b[0m\u001b[1;33m,\u001b[0m \u001b[1;33m*\u001b[0m\u001b[0margs\u001b[0m\u001b[1;33m)\u001b[0m\u001b[1;33m:\u001b[0m\u001b[1;33m\u001b[0m\u001b[1;33m\u001b[0m\u001b[0m\n\u001b[0;32m     62\u001b[0m         \u001b[0mself\u001b[0m\u001b[1;33m.\u001b[0m\u001b[0mx\u001b[0m \u001b[1;33m=\u001b[0m \u001b[0mnumpy\u001b[0m\u001b[1;33m.\u001b[0m\u001b[0masarray\u001b[0m\u001b[1;33m(\u001b[0m\u001b[0mx\u001b[0m\u001b[1;33m)\u001b[0m\u001b[1;33m.\u001b[0m\u001b[0mcopy\u001b[0m\u001b[1;33m(\u001b[0m\u001b[1;33m)\u001b[0m\u001b[1;33m\u001b[0m\u001b[1;33m\u001b[0m\u001b[0m\n\u001b[1;32m---> 63\u001b[1;33m         \u001b[0mfg\u001b[0m \u001b[1;33m=\u001b[0m \u001b[0mself\u001b[0m\u001b[1;33m.\u001b[0m\u001b[0mfun\u001b[0m\u001b[1;33m(\u001b[0m\u001b[0mx\u001b[0m\u001b[1;33m,\u001b[0m \u001b[1;33m*\u001b[0m\u001b[0margs\u001b[0m\u001b[1;33m)\u001b[0m\u001b[1;33m\u001b[0m\u001b[1;33m\u001b[0m\u001b[0m\n\u001b[0m\u001b[0;32m     64\u001b[0m         \u001b[0mself\u001b[0m\u001b[1;33m.\u001b[0m\u001b[0mjac\u001b[0m \u001b[1;33m=\u001b[0m \u001b[0mfg\u001b[0m\u001b[1;33m[\u001b[0m\u001b[1;36m1\u001b[0m\u001b[1;33m]\u001b[0m\u001b[1;33m\u001b[0m\u001b[1;33m\u001b[0m\u001b[0m\n\u001b[0;32m     65\u001b[0m         \u001b[1;32mreturn\u001b[0m \u001b[0mfg\u001b[0m\u001b[1;33m[\u001b[0m\u001b[1;36m0\u001b[0m\u001b[1;33m]\u001b[0m\u001b[1;33m\u001b[0m\u001b[1;33m\u001b[0m\u001b[0m\n",
      "\u001b[1;32m~\\Miniconda3\\envs\\aml_spring_19\\lib\\site-packages\\sklearn\\linear_model\\logistic.py\u001b[0m in \u001b[0;36m_logistic_loss_and_grad\u001b[1;34m(w, X, y, alpha, sample_weight)\u001b[0m\n\u001b[0;32m    117\u001b[0m \u001b[1;33m\u001b[0m\u001b[0m\n\u001b[0;32m    118\u001b[0m     \u001b[1;31m# Logistic loss is the negative of the log of the logistic function.\u001b[0m\u001b[1;33m\u001b[0m\u001b[1;33m\u001b[0m\u001b[1;33m\u001b[0m\u001b[0m\n\u001b[1;32m--> 119\u001b[1;33m     \u001b[0mout\u001b[0m \u001b[1;33m=\u001b[0m \u001b[1;33m-\u001b[0m\u001b[0mnp\u001b[0m\u001b[1;33m.\u001b[0m\u001b[0msum\u001b[0m\u001b[1;33m(\u001b[0m\u001b[0msample_weight\u001b[0m \u001b[1;33m*\u001b[0m \u001b[0mlog_logistic\u001b[0m\u001b[1;33m(\u001b[0m\u001b[0myz\u001b[0m\u001b[1;33m)\u001b[0m\u001b[1;33m)\u001b[0m \u001b[1;33m+\u001b[0m \u001b[1;36m.5\u001b[0m \u001b[1;33m*\u001b[0m \u001b[0malpha\u001b[0m \u001b[1;33m*\u001b[0m \u001b[0mnp\u001b[0m\u001b[1;33m.\u001b[0m\u001b[0mdot\u001b[0m\u001b[1;33m(\u001b[0m\u001b[0mw\u001b[0m\u001b[1;33m,\u001b[0m \u001b[0mw\u001b[0m\u001b[1;33m)\u001b[0m\u001b[1;33m\u001b[0m\u001b[1;33m\u001b[0m\u001b[0m\n\u001b[0m\u001b[0;32m    120\u001b[0m \u001b[1;33m\u001b[0m\u001b[0m\n\u001b[0;32m    121\u001b[0m     \u001b[0mz\u001b[0m \u001b[1;33m=\u001b[0m \u001b[0mexpit\u001b[0m\u001b[1;33m(\u001b[0m\u001b[0myz\u001b[0m\u001b[1;33m)\u001b[0m\u001b[1;33m\u001b[0m\u001b[1;33m\u001b[0m\u001b[0m\n",
      "\u001b[1;32m~\\Miniconda3\\envs\\aml_spring_19\\lib\\site-packages\\sklearn\\utils\\extmath.py\u001b[0m in \u001b[0;36mlog_logistic\u001b[1;34m(X, out)\u001b[0m\n\u001b[0;32m    621\u001b[0m \u001b[1;33m\u001b[0m\u001b[0m\n\u001b[0;32m    622\u001b[0m     \u001b[1;32mif\u001b[0m \u001b[0mis_1d\u001b[0m\u001b[1;33m:\u001b[0m\u001b[1;33m\u001b[0m\u001b[1;33m\u001b[0m\u001b[0m\n\u001b[1;32m--> 623\u001b[1;33m         \u001b[1;32mreturn\u001b[0m \u001b[0mnp\u001b[0m\u001b[1;33m.\u001b[0m\u001b[0msqueeze\u001b[0m\u001b[1;33m(\u001b[0m\u001b[0mout\u001b[0m\u001b[1;33m)\u001b[0m\u001b[1;33m\u001b[0m\u001b[1;33m\u001b[0m\u001b[0m\n\u001b[0m\u001b[0;32m    624\u001b[0m     \u001b[1;32mreturn\u001b[0m \u001b[0mout\u001b[0m\u001b[1;33m\u001b[0m\u001b[1;33m\u001b[0m\u001b[0m\n\u001b[0;32m    625\u001b[0m \u001b[1;33m\u001b[0m\u001b[0m\n",
      "\u001b[1;31mKeyboardInterrupt\u001b[0m: "
     ]
    }
   ],
   "source": [
    "objVars = ['Covered_Recipient_Type', # leaking target info\n",
    "            'Submitting_Applicable_Manufacturer_or_Applicable_GPO_Name', # leaking target info\n",
    "            'Applicable_Manufacturer_or_Applicable_GPO_Making_Payment_Name', # leaking target info\n",
    "           'Form_of_Payment_or_Transfer_of_Value',\n",
    "           'Dispute_Status_for_Publication', \n",
    "           'Delay_in_Publication_Indicator',\n",
    "           'Related_Product_Indicator',\n",
    "           'Applicable_Manufacturer_or_Applicable_GPO_Making_Payment_Country',\n",
    "           'Change_Type',\n",
    "           'Total_Amount_of_Payment_USDollars']\n",
    "\n",
    "single_var = dict()\n",
    "\n",
    "rus = RandomUnderSampler(random_state=42)\n",
    "X_train_rus, y_train_rus = rus.fit_resample(X_train_Baseline, y_train)    \n",
    "\n",
    "X_train_rus = pd.DataFrame(X_train_rus, columns=X_train_Baseline.columns)\n",
    "\n",
    "for var in objVars:\n",
    "    \n",
    "    if var != 'Total_Amount_of_Payment_USDollars':\n",
    "        baseline_pipe = Pipeline([\n",
    "                                (\"dummies\", OneHotEncoder(handle_unknown='ignore')),\n",
    "                                (\"logreg\", LogisticRegression(C=1000000, solver='lbfgs', max_iter=1000))])\n",
    "    else:\n",
    "        baseline_pipe = Pipeline([\n",
    "                                   (\"logreg\", LogisticRegression(C=1000000, solver='lbfgs', max_iter=1000))])\n",
    "\n",
    "    # Baseline Training and testing\n",
    "    logreg = baseline_pipe.fit(X_train_rus[[var]], y_train_rus)\n",
    "    y_score = logreg.predict_proba(X_train_rus[[var]])\n",
    "    \n",
    "    # Store in dict\n",
    "    single_var[var] = roc_auc_score(y_train_rus, y_score[:, 1])\n",
    "    \n",
    "single_var    "
   ]
  },
  {
   "cell_type": "markdown",
   "metadata": {},
   "source": [
    "Modifying column to drop list"
   ]
  },
  {
   "cell_type": "code",
   "execution_count": 84,
   "metadata": {},
   "outputs": [],
   "source": [
    "columns_to_drop += ['Covered_Recipient_Type', # leaking target info\n",
    "                    'Submitting_Applicable_Manufacturer_or_Applicable_GPO_Name', # leaking target info\n",
    "                    'Applicable_Manufacturer_or_Applicable_GPO_Making_Payment_Name' # leaking target info\n",
    "                    ]"
   ]
  },
  {
   "cell_type": "code",
   "execution_count": 85,
   "metadata": {
    "scrolled": true
   },
   "outputs": [],
   "source": [
    "to_drop_baseline = list(set(nan_columns) | set(columns_to_drop))"
   ]
  },
  {
   "cell_type": "code",
   "execution_count": 86,
   "metadata": {},
   "outputs": [],
   "source": [
    "X_train_Baseline = X_train.drop(columns=to_drop_baseline, axis ='columns')"
   ]
  },
  {
   "cell_type": "code",
   "execution_count": 87,
   "metadata": {},
   "outputs": [
    {
     "data": {
      "text/plain": [
       "(1689897, 7)"
      ]
     },
     "execution_count": 87,
     "metadata": {},
     "output_type": "execute_result"
    }
   ],
   "source": [
    "X_train_Baseline.shape"
   ]
  },
  {
   "cell_type": "code",
   "execution_count": 88,
   "metadata": {
    "scrolled": true
   },
   "outputs": [
    {
     "data": {
      "text/html": [
       "<div>\n",
       "<style scoped>\n",
       "    .dataframe tbody tr th:only-of-type {\n",
       "        vertical-align: middle;\n",
       "    }\n",
       "\n",
       "    .dataframe tbody tr th {\n",
       "        vertical-align: top;\n",
       "    }\n",
       "\n",
       "    .dataframe thead th {\n",
       "        text-align: right;\n",
       "    }\n",
       "</style>\n",
       "<table border=\"1\" class=\"dataframe\">\n",
       "  <thead>\n",
       "    <tr style=\"text-align: right;\">\n",
       "      <th></th>\n",
       "      <th>Applicable_Manufacturer_or_Applicable_GPO_Making_Payment_Country</th>\n",
       "      <th>Dispute_Status_for_Publication</th>\n",
       "      <th>Form_of_Payment_or_Transfer_of_Value</th>\n",
       "      <th>Related_Product_Indicator</th>\n",
       "      <th>Total_Amount_of_Payment_USDollars</th>\n",
       "      <th>Change_Type</th>\n",
       "      <th>Delay_in_Publication_Indicator</th>\n",
       "    </tr>\n",
       "  </thead>\n",
       "  <tbody>\n",
       "    <tr>\n",
       "      <th>1633449</th>\n",
       "      <td>United States</td>\n",
       "      <td>No</td>\n",
       "      <td>In-kind items and services</td>\n",
       "      <td>Yes</td>\n",
       "      <td>12.97</td>\n",
       "      <td>UNCHANGED</td>\n",
       "      <td>No</td>\n",
       "    </tr>\n",
       "    <tr>\n",
       "      <th>282643</th>\n",
       "      <td>United States</td>\n",
       "      <td>No</td>\n",
       "      <td>In-kind items and services</td>\n",
       "      <td>Yes</td>\n",
       "      <td>15.89</td>\n",
       "      <td>UNCHANGED</td>\n",
       "      <td>No</td>\n",
       "    </tr>\n",
       "    <tr>\n",
       "      <th>374929</th>\n",
       "      <td>United States</td>\n",
       "      <td>No</td>\n",
       "      <td>In-kind items and services</td>\n",
       "      <td>Yes</td>\n",
       "      <td>12.32</td>\n",
       "      <td>UNCHANGED</td>\n",
       "      <td>No</td>\n",
       "    </tr>\n",
       "    <tr>\n",
       "      <th>547899</th>\n",
       "      <td>United States</td>\n",
       "      <td>No</td>\n",
       "      <td>In-kind items and services</td>\n",
       "      <td>Yes</td>\n",
       "      <td>0.75</td>\n",
       "      <td>UNCHANGED</td>\n",
       "      <td>No</td>\n",
       "    </tr>\n",
       "    <tr>\n",
       "      <th>250491</th>\n",
       "      <td>Switzerland</td>\n",
       "      <td>No</td>\n",
       "      <td>Cash or cash equivalent</td>\n",
       "      <td>No</td>\n",
       "      <td>864.86</td>\n",
       "      <td>UNCHANGED</td>\n",
       "      <td>No</td>\n",
       "    </tr>\n",
       "  </tbody>\n",
       "</table>\n",
       "</div>"
      ],
      "text/plain": [
       "        Applicable_Manufacturer_or_Applicable_GPO_Making_Payment_Country  \\\n",
       "1633449                                      United States                 \n",
       "282643                                       United States                 \n",
       "374929                                       United States                 \n",
       "547899                                       United States                 \n",
       "250491                                         Switzerland                 \n",
       "\n",
       "        Dispute_Status_for_Publication Form_of_Payment_or_Transfer_of_Value  \\\n",
       "1633449                             No           In-kind items and services   \n",
       "282643                              No           In-kind items and services   \n",
       "374929                              No           In-kind items and services   \n",
       "547899                              No           In-kind items and services   \n",
       "250491                              No              Cash or cash equivalent   \n",
       "\n",
       "        Related_Product_Indicator  Total_Amount_of_Payment_USDollars  \\\n",
       "1633449                       Yes                              12.97   \n",
       "282643                        Yes                              15.89   \n",
       "374929                        Yes                              12.32   \n",
       "547899                        Yes                               0.75   \n",
       "250491                         No                             864.86   \n",
       "\n",
       "        Change_Type Delay_in_Publication_Indicator  \n",
       "1633449   UNCHANGED                             No  \n",
       "282643    UNCHANGED                             No  \n",
       "374929    UNCHANGED                             No  \n",
       "547899    UNCHANGED                             No  \n",
       "250491    UNCHANGED                             No  "
      ]
     },
     "execution_count": 88,
     "metadata": {},
     "output_type": "execute_result"
    }
   ],
   "source": [
    "X_train_Baseline.head()"
   ]
  },
  {
   "cell_type": "code",
   "execution_count": null,
   "metadata": {},
   "outputs": [],
   "source": []
  },
  {
   "cell_type": "code",
   "execution_count": null,
   "metadata": {},
   "outputs": [],
   "source": []
  },
  {
   "cell_type": "markdown",
   "metadata": {},
   "source": [
    "## Baselining"
   ]
  },
  {
   "cell_type": "markdown",
   "metadata": {},
   "source": [
    "Without target encoding"
   ]
  },
  {
   "cell_type": "code",
   "execution_count": 89,
   "metadata": {
    "scrolled": true
   },
   "outputs": [],
   "source": [
    "# Defining continuous and categorical variables\n",
    "objVars = ['Form_of_Payment_or_Transfer_of_Value',\n",
    "           'Dispute_Status_for_Publication', \n",
    "           'Delay_in_Publication_Indicator',\n",
    "           'Related_Product_Indicator',\n",
    "           'Applicable_Manufacturer_or_Applicable_GPO_Making_Payment_Country',\n",
    "           'Change_Type']\n",
    "\n",
    "contVars = ['Total_Amount_of_Payment_USDollars']\n",
    "\n",
    "# Random Undersampling\n",
    "rus = RandomUnderSampler(random_state=42)\n",
    "X_train_rus, y_train_rus = rus.fit_resample(X_train_Baseline, y_train)    \n",
    "X_train_rus = pd.DataFrame(X_train_rus, columns = X_train_Baseline.columns)\n",
    "X_train_rus = X_train_rus[objVars + contVars]"
   ]
  },
  {
   "cell_type": "code",
   "execution_count": 90,
   "metadata": {},
   "outputs": [],
   "source": [
    "# Defining ColumnTransformer\n",
    "preprocessor = ColumnTransformer(transformers=[(\"dummies\", OneHotEncoder(handle_unknown='ignore'), objVars)],\n",
    "                                 remainder='passthrough')\n",
    "\n",
    "# Create pipeplines\n",
    "baseline_pipe = Pipeline(steps=[('preprocessor', preprocessor),\n",
    "                          (\"logreg\", LogisticRegression(C=1000000, solver='lbfgs', max_iter=1000))\n",
    "                         ])"
   ]
  },
  {
   "cell_type": "code",
   "execution_count": 92,
   "metadata": {},
   "outputs": [],
   "source": [
    "# Baseline Training and testing\n",
    "# logreg = baseline_pipe.fit(pd.DataFrame(X_train_rus, columns = X_train.columns), y_train_rus)\n",
    "# y_score = logreg.predict_proba(pd.DataFrame(X_train_rus, columns = X_train.columns))\n",
    "# baseline= roc_auc_score(y_train_rus, y_score[:, 1])\n",
    "\n",
    "baseline = cross_val_score(baseline_pipe, X_train_rus, y_train_rus, scoring='roc_auc', cv=5)\n",
    "baseline_cv_score = np.mean(baseline)\n",
    "model_scores['baseline_cv'] = baseline_cv_score"
   ]
  },
  {
   "cell_type": "code",
   "execution_count": 93,
   "metadata": {},
   "outputs": [
    {
     "data": {
      "text/plain": [
       "{'baseline_cv': 0.9362845959438688}"
      ]
     },
     "execution_count": 93,
     "metadata": {},
     "output_type": "execute_result"
    }
   ],
   "source": [
    "model_scores"
   ]
  },
  {
   "cell_type": "code",
   "execution_count": null,
   "metadata": {},
   "outputs": [],
   "source": []
  },
  {
   "cell_type": "code",
   "execution_count": null,
   "metadata": {},
   "outputs": [],
   "source": []
  },
  {
   "cell_type": "markdown",
   "metadata": {},
   "source": [
    "## Feature engineering ~ Task 3"
   ]
  },
  {
   "cell_type": "markdown",
   "metadata": {},
   "source": [
    "Imputing NA with 'Missing' values"
   ]
  },
  {
   "cell_type": "code",
   "execution_count": 94,
   "metadata": {},
   "outputs": [],
   "source": [
    "X_train_engineered = X_train.drop(columns=columns_to_drop)"
   ]
  },
  {
   "cell_type": "code",
   "execution_count": 95,
   "metadata": {},
   "outputs": [],
   "source": [
    "obj_vars = X_train_engineered.drop(columns=['Total_Amount_of_Payment_USDollars']).columns.values\n",
    "cont_vars = ['Total_Amount_of_Payment_USDollars']"
   ]
  },
  {
   "cell_type": "markdown",
   "metadata": {},
   "source": [
    "### Identify high cardinality categorical variables"
   ]
  },
  {
   "cell_type": "code",
   "execution_count": 34,
   "metadata": {
    "scrolled": true
   },
   "outputs": [
    {
     "name": "stdout",
     "output_type": "stream",
     "text": [
      "Physician_License_State_code2 55\n",
      "Product_Category_or_Therapeutic_Area_1 1613\n",
      "Product_Category_or_Therapeutic_Area_3 399\n",
      "Product_Category_or_Therapeutic_Area_5 186\n",
      "Recipient_City 15123\n",
      "Associated_Drug_or_Biological_NDC_2 537\n",
      "Covered_or_Noncovered_Indicator_3 3\n",
      "Recipient_Primary_Business_Street_Address_Line1 299622\n",
      "Applicable_Manufacturer_or_Applicable_GPO_Making_Payment_State 46\n",
      "Name_of_Drug_or_Biological_or_Device_or_Medical_Supply_3 1780\n",
      "Recipient_State 61\n",
      "Associated_Drug_or_Biological_NDC_5 86\n",
      "Applicable_Manufacturer_or_Applicable_GPO_Making_Payment_Country 33\n",
      "Covered_or_Noncovered_Indicator_5 3\n",
      "Dispute_Status_for_Publication 2\n",
      "Physician_License_State_code3 50\n",
      "Associated_Drug_or_Biological_NDC_1 1216\n",
      "Form_of_Payment_or_Transfer_of_Value 6\n",
      "Related_Product_Indicator 2\n",
      "Physician_Primary_Type 7\n",
      "Indicate_Drug_or_Biological_or_Device_or_Medical_Supply_4 5\n",
      "Product_Category_or_Therapeutic_Area_4 297\n",
      "Product_Category_or_Therapeutic_Area_2 530\n",
      "Change_Type 3\n",
      "Associated_Drug_or_Biological_NDC_4 206\n",
      "Delay_in_Publication_Indicator 1\n",
      "Name_of_Drug_or_Biological_or_Device_or_Medical_Supply_5 536\n",
      "Indicate_Drug_or_Biological_or_Device_or_Medical_Supply_5 5\n",
      "Recipient_Country 17\n",
      "Covered_or_Noncovered_Indicator_4 3\n",
      "Physician_License_State_code5 32\n",
      "Indicate_Drug_or_Biological_or_Device_or_Medical_Supply_1 5\n",
      "Physician_License_State_code4 45\n",
      "Indicate_Drug_or_Biological_or_Device_or_Medical_Supply_2 5\n",
      "Name_of_Drug_or_Biological_or_Device_or_Medical_Supply_2 2568\n",
      "Covered_or_Noncovered_Indicator_1 3\n",
      "Physician_Specialty 373\n",
      "Name_of_Drug_or_Biological_or_Device_or_Medical_Supply_1 8264\n",
      "Name_of_Drug_or_Biological_or_Device_or_Medical_Supply_4 1032\n",
      "Associated_Drug_or_Biological_NDC_3 375\n",
      "Physician_License_State_code1 59\n",
      "Covered_or_Noncovered_Indicator_2 3\n",
      "Indicate_Drug_or_Biological_or_Device_or_Medical_Supply_3 5\n"
     ]
    },
    {
     "data": {
      "text/plain": [
       "17"
      ]
     },
     "execution_count": 34,
     "metadata": {},
     "output_type": "execute_result"
    }
   ],
   "source": [
    "# Identify which variables to target encode\n",
    "target_based_encoding = []\n",
    "for col in obj_vars:\n",
    "    print(col, len(X_train_engineered[col].unique()))\n",
    "    \n",
    "    if len(X_train_engineered[col].unique()) > 100:\n",
    "        target_based_encoding.append(col)\n",
    "\n",
    "len(target_based_encoding)"
   ]
  },
  {
   "cell_type": "code",
   "execution_count": 35,
   "metadata": {},
   "outputs": [
    {
     "data": {
      "text/plain": [
       "43"
      ]
     },
     "execution_count": 35,
     "metadata": {},
     "output_type": "execute_result"
    }
   ],
   "source": [
    "# Final categorical variables\n",
    "categorical = [cols for cols in obj_vars if cols not in target_based_encoding]\n",
    "len(categorical) + len(target_based_encoding)"
   ]
  },
  {
   "cell_type": "code",
   "execution_count": 96,
   "metadata": {},
   "outputs": [],
   "source": [
    "# # Train-Test split\n",
    "# target = X_train_engineered['Target']\n",
    "# features = X_train_engineered.drop(columns='Target')\n",
    "# X_train, X_test, y_train, y_test = train_test_split(features, target, random_state=42)\n",
    "\n",
    "# Random undersampling\n",
    "rus = RandomUnderSampler(random_state=42)\n",
    "X_train_rus, y_train_rus = rus.fit_resample(X_train_engineered, y_train)\n",
    "X_train_rus = pd.DataFrame(X_train_rus, columns = X_train_engineered.columns)"
   ]
  },
  {
   "cell_type": "markdown",
   "metadata": {},
   "source": [
    "Checking for target leakage again since we've added features not used before (for all variables except target encoded ones)"
   ]
  },
  {
   "cell_type": "code",
   "execution_count": 97,
   "metadata": {
    "collapsed": true
   },
   "outputs": [
    {
     "data": {
      "text/plain": [
       "{'Physician_License_State_code2': 0.5095186927782087,\n",
       " 'Product_Category_or_Therapeutic_Area_1': 0.8672293096723582,\n",
       " 'Product_Category_or_Therapeutic_Area_3': 0.5425065143434552,\n",
       " 'Product_Category_or_Therapeutic_Area_5': 0.5034577969668057,\n",
       " 'Recipient_City': 0.8290565025076542,\n",
       " 'Associated_Drug_or_Biological_NDC_2': 0.5961812852369675,\n",
       " 'Covered_or_Noncovered_Indicator_3': 0.5384249443682315,\n",
       " 'Recipient_Primary_Business_Street_Address_Line1': 0.9934478274978122,\n",
       " 'Applicable_Manufacturer_or_Applicable_GPO_Making_Payment_State': 0.6808334293111322,\n",
       " 'Name_of_Drug_or_Biological_or_Device_or_Medical_Supply_3': 0.544160652904068,\n",
       " 'Recipient_State': 0.5971740055670084,\n",
       " 'Associated_Drug_or_Biological_NDC_5': 0.5011862789434296,\n",
       " 'Applicable_Manufacturer_or_Applicable_GPO_Making_Payment_Country': 0.5523730320732043,\n",
       " 'Covered_or_Noncovered_Indicator_5': 0.5020367967875355,\n",
       " 'Dispute_Status_for_Publication': 0.5001931503371853,\n",
       " 'Physician_License_State_code3': 0.5023068004452188,\n",
       " 'Associated_Drug_or_Biological_NDC_1': 0.8542529810938118,\n",
       " 'Form_of_Payment_or_Transfer_of_Value': 0.8162083073620362,\n",
       " 'Related_Product_Indicator': 0.5420791806010838,\n",
       " 'Physician_Primary_Type': 0.9791364291557488,\n",
       " 'Indicate_Drug_or_Biological_or_Device_or_Medical_Supply_4': 0.5102936742255515,\n",
       " 'Product_Category_or_Therapeutic_Area_4': 0.5120719887478459,\n",
       " 'Product_Category_or_Therapeutic_Area_2': 0.614867609599678,\n",
       " 'Total_Amount_of_Payment_USDollars': 0.8981009622182787,\n",
       " 'Change_Type': 0.530587273338758,\n",
       " 'Associated_Drug_or_Biological_NDC_4': 0.508535483584334,\n",
       " 'Delay_in_Publication_Indicator': 0.5,\n",
       " 'Name_of_Drug_or_Biological_or_Device_or_Medical_Supply_5': 0.5035350144041386,\n",
       " 'Indicate_Drug_or_Biological_or_Device_or_Medical_Supply_5': 0.5019605290507193,\n",
       " 'Recipient_Country': 0.5009160354242381,\n",
       " 'Covered_or_Noncovered_Indicator_4': 0.5104366149343099,\n",
       " 'Physician_License_State_code5': 0.5000938158780615,\n",
       " 'Indicate_Drug_or_Biological_or_Device_or_Medical_Supply_1': 0.6540673001219547,\n",
       " 'Physician_License_State_code4': 0.500480112958773,\n",
       " 'Indicate_Drug_or_Biological_or_Device_or_Medical_Supply_2': 0.5771201672176927,\n",
       " 'Name_of_Drug_or_Biological_or_Device_or_Medical_Supply_2': 0.6195855671789994,\n",
       " 'Covered_or_Noncovered_Indicator_1': 0.6500410834584085,\n",
       " 'Physician_Specialty': 0.9862872420774212,\n",
       " 'Name_of_Drug_or_Biological_or_Device_or_Medical_Supply_1': 0.9355350301080627,\n",
       " 'Name_of_Drug_or_Biological_or_Device_or_Medical_Supply_4': 0.5123509608382831,\n",
       " 'Associated_Drug_or_Biological_NDC_3': 0.5352920661880316,\n",
       " 'Physician_License_State_code1': 0.9819505839564793,\n",
       " 'Covered_or_Noncovered_Indicator_2': 0.5771757553963014,\n",
       " 'Indicate_Drug_or_Biological_or_Device_or_Medical_Supply_3': 0.53750851918427}"
      ]
     },
     "execution_count": 97,
     "metadata": {},
     "output_type": "execute_result"
    }
   ],
   "source": [
    "single_var = dict()\n",
    "\n",
    "cat_pipe = Pipeline([\n",
    "                        ('Impute', SimpleImputer(strategy='constant', fill_value=\"Missing\")),\n",
    "                        (\"dummies\", OneHotEncoder(handle_unknown='ignore')),\n",
    "                        (\"logreg\", LogisticRegression(C=1000000, solver='lbfgs', max_iter=1000))])\n",
    "\n",
    "cont_pipe = Pipeline([\n",
    "                        ('scalar', StandardScaler()),\n",
    "                        (\"logreg\", LogisticRegression(C=1000000, solver='lbfgs', max_iter=1000))])\n",
    "\n",
    "for var in X_train_rus.columns:\n",
    "    \n",
    "    if var != 'Total_Amount_of_Payment_USDollars':\n",
    "        # Baseline Training and testing\n",
    "        logreg = cat_pipe.fit(X_train_rus[[var]], y_train_rus)\n",
    "        y_score = logreg.predict_proba(X_train_rus[[var]])\n",
    "            \n",
    "    else:\n",
    "        # Baseline Training and testing\n",
    "        logreg = cont_pipe.fit(X_train_rus[[var]], y_train_rus)\n",
    "        y_score = logreg.predict_proba(X_train_rus[[var]])\n",
    "    \n",
    "    # Store in dict\n",
    "    single_var[var] = roc_auc_score(y_train_rus, y_score[:, 1])\n",
    "    \n",
    "single_var    "
   ]
  },
  {
   "cell_type": "markdown",
   "metadata": {},
   "source": [
    "Adding leakage variables to list of variables to be removed"
   ]
  },
  {
   "cell_type": "code",
   "execution_count": 98,
   "metadata": {},
   "outputs": [],
   "source": [
    "columns_to_drop += ['Name_of_Drug_or_Biological_or_Device_or_Medical_Supply_1', \n",
    "                   'Physician_Primary_Type',\n",
    "                   'Recipient_Primary_Business_Street_Address_Line1',\n",
    "                   'Physician_Specialty',\n",
    "                   'Physician_License_State_code1']"
   ]
  },
  {
   "cell_type": "code",
   "execution_count": 99,
   "metadata": {},
   "outputs": [],
   "source": [
    "X_train_engineered = X_train.drop(columns=columns_to_drop)"
   ]
  },
  {
   "cell_type": "code",
   "execution_count": 100,
   "metadata": {},
   "outputs": [],
   "source": [
    "obj_vars = X_train_engineered.drop(columns=['Total_Amount_of_Payment_USDollars']).columns.values\n",
    "cont_vars = ['Total_Amount_of_Payment_USDollars']"
   ]
  },
  {
   "cell_type": "code",
   "execution_count": 101,
   "metadata": {
    "collapsed": true
   },
   "outputs": [
    {
     "name": "stdout",
     "output_type": "stream",
     "text": [
      "Physician_License_State_code2 55\n",
      "Product_Category_or_Therapeutic_Area_1 1613\n",
      "Product_Category_or_Therapeutic_Area_3 399\n",
      "Product_Category_or_Therapeutic_Area_5 186\n",
      "Recipient_City 15123\n",
      "Associated_Drug_or_Biological_NDC_2 537\n",
      "Covered_or_Noncovered_Indicator_3 3\n",
      "Applicable_Manufacturer_or_Applicable_GPO_Making_Payment_State 46\n",
      "Name_of_Drug_or_Biological_or_Device_or_Medical_Supply_3 1780\n",
      "Recipient_State 61\n",
      "Associated_Drug_or_Biological_NDC_5 86\n",
      "Applicable_Manufacturer_or_Applicable_GPO_Making_Payment_Country 33\n",
      "Covered_or_Noncovered_Indicator_5 3\n",
      "Dispute_Status_for_Publication 2\n",
      "Physician_License_State_code3 50\n",
      "Associated_Drug_or_Biological_NDC_1 1216\n",
      "Form_of_Payment_or_Transfer_of_Value 6\n",
      "Related_Product_Indicator 2\n",
      "Indicate_Drug_or_Biological_or_Device_or_Medical_Supply_4 5\n",
      "Product_Category_or_Therapeutic_Area_4 297\n",
      "Product_Category_or_Therapeutic_Area_2 530\n",
      "Change_Type 3\n",
      "Associated_Drug_or_Biological_NDC_4 206\n",
      "Delay_in_Publication_Indicator 1\n",
      "Name_of_Drug_or_Biological_or_Device_or_Medical_Supply_5 536\n",
      "Indicate_Drug_or_Biological_or_Device_or_Medical_Supply_5 5\n",
      "Recipient_Country 17\n",
      "Covered_or_Noncovered_Indicator_4 3\n",
      "Physician_License_State_code5 32\n",
      "Indicate_Drug_or_Biological_or_Device_or_Medical_Supply_1 5\n",
      "Physician_License_State_code4 45\n",
      "Indicate_Drug_or_Biological_or_Device_or_Medical_Supply_2 5\n",
      "Name_of_Drug_or_Biological_or_Device_or_Medical_Supply_2 2568\n",
      "Covered_or_Noncovered_Indicator_1 3\n",
      "Name_of_Drug_or_Biological_or_Device_or_Medical_Supply_4 1032\n",
      "Associated_Drug_or_Biological_NDC_3 375\n",
      "Covered_or_Noncovered_Indicator_2 3\n",
      "Indicate_Drug_or_Biological_or_Device_or_Medical_Supply_3 5\n"
     ]
    },
    {
     "data": {
      "text/plain": [
       "14"
      ]
     },
     "execution_count": 101,
     "metadata": {},
     "output_type": "execute_result"
    }
   ],
   "source": [
    "# Identify which variables to target encode\n",
    "target_based_encoding = []\n",
    "for col in obj_vars:\n",
    "    print(col, len(X_train_engineered[col].unique()))\n",
    "    \n",
    "    if len(X_train_engineered[col].unique()) > 100:\n",
    "        target_based_encoding.append(col)\n",
    "\n",
    "len(target_based_encoding)"
   ]
  },
  {
   "cell_type": "code",
   "execution_count": 102,
   "metadata": {},
   "outputs": [
    {
     "data": {
      "text/plain": [
       "38"
      ]
     },
     "execution_count": 102,
     "metadata": {},
     "output_type": "execute_result"
    }
   ],
   "source": [
    "# Final categorical variables\n",
    "categorical = [cols for cols in obj_vars if cols not in target_based_encoding]\n",
    "len(categorical) + len(target_based_encoding)"
   ]
  },
  {
   "cell_type": "code",
   "execution_count": 103,
   "metadata": {},
   "outputs": [],
   "source": [
    "# Random undersampling\n",
    "rus = RandomUnderSampler(random_state=42)\n",
    "X_train_rus, y_train_rus = rus.fit_resample(X_train_engineered, y_train)\n",
    "X_train_rus = pd.DataFrame(X_train_rus, columns = X_train_engineered.columns)\n",
    "X_train_rus = X_train_rus[categorical + cont_vars]"
   ]
  },
  {
   "cell_type": "code",
   "execution_count": 59,
   "metadata": {
    "collapsed": true
   },
   "outputs": [
    {
     "data": {
      "text/html": [
       "<div>\n",
       "<style scoped>\n",
       "    .dataframe tbody tr th:only-of-type {\n",
       "        vertical-align: middle;\n",
       "    }\n",
       "\n",
       "    .dataframe tbody tr th {\n",
       "        vertical-align: top;\n",
       "    }\n",
       "\n",
       "    .dataframe thead th {\n",
       "        text-align: right;\n",
       "    }\n",
       "</style>\n",
       "<table border=\"1\" class=\"dataframe\">\n",
       "  <thead>\n",
       "    <tr style=\"text-align: right;\">\n",
       "      <th></th>\n",
       "      <th>0</th>\n",
       "    </tr>\n",
       "  </thead>\n",
       "  <tbody>\n",
       "    <tr>\n",
       "      <th>0</th>\n",
       "      <td>Physician_License_State_code2</td>\n",
       "    </tr>\n",
       "    <tr>\n",
       "      <th>1</th>\n",
       "      <td>Covered_or_Noncovered_Indicator_3</td>\n",
       "    </tr>\n",
       "    <tr>\n",
       "      <th>2</th>\n",
       "      <td>Applicable_Manufacturer_or_Applicable_GPO_Maki...</td>\n",
       "    </tr>\n",
       "    <tr>\n",
       "      <th>3</th>\n",
       "      <td>Recipient_State</td>\n",
       "    </tr>\n",
       "    <tr>\n",
       "      <th>4</th>\n",
       "      <td>Associated_Drug_or_Biological_NDC_5</td>\n",
       "    </tr>\n",
       "    <tr>\n",
       "      <th>5</th>\n",
       "      <td>Applicable_Manufacturer_or_Applicable_GPO_Maki...</td>\n",
       "    </tr>\n",
       "    <tr>\n",
       "      <th>6</th>\n",
       "      <td>Covered_or_Noncovered_Indicator_5</td>\n",
       "    </tr>\n",
       "    <tr>\n",
       "      <th>7</th>\n",
       "      <td>Dispute_Status_for_Publication</td>\n",
       "    </tr>\n",
       "    <tr>\n",
       "      <th>8</th>\n",
       "      <td>Physician_License_State_code3</td>\n",
       "    </tr>\n",
       "    <tr>\n",
       "      <th>9</th>\n",
       "      <td>Form_of_Payment_or_Transfer_of_Value</td>\n",
       "    </tr>\n",
       "    <tr>\n",
       "      <th>10</th>\n",
       "      <td>Related_Product_Indicator</td>\n",
       "    </tr>\n",
       "    <tr>\n",
       "      <th>11</th>\n",
       "      <td>Indicate_Drug_or_Biological_or_Device_or_Medic...</td>\n",
       "    </tr>\n",
       "    <tr>\n",
       "      <th>12</th>\n",
       "      <td>Change_Type</td>\n",
       "    </tr>\n",
       "    <tr>\n",
       "      <th>13</th>\n",
       "      <td>Delay_in_Publication_Indicator</td>\n",
       "    </tr>\n",
       "    <tr>\n",
       "      <th>14</th>\n",
       "      <td>Indicate_Drug_or_Biological_or_Device_or_Medic...</td>\n",
       "    </tr>\n",
       "    <tr>\n",
       "      <th>15</th>\n",
       "      <td>Recipient_Country</td>\n",
       "    </tr>\n",
       "    <tr>\n",
       "      <th>16</th>\n",
       "      <td>Covered_or_Noncovered_Indicator_4</td>\n",
       "    </tr>\n",
       "    <tr>\n",
       "      <th>17</th>\n",
       "      <td>Physician_License_State_code5</td>\n",
       "    </tr>\n",
       "    <tr>\n",
       "      <th>18</th>\n",
       "      <td>Indicate_Drug_or_Biological_or_Device_or_Medic...</td>\n",
       "    </tr>\n",
       "    <tr>\n",
       "      <th>19</th>\n",
       "      <td>Physician_License_State_code4</td>\n",
       "    </tr>\n",
       "    <tr>\n",
       "      <th>20</th>\n",
       "      <td>Indicate_Drug_or_Biological_or_Device_or_Medic...</td>\n",
       "    </tr>\n",
       "    <tr>\n",
       "      <th>21</th>\n",
       "      <td>Covered_or_Noncovered_Indicator_1</td>\n",
       "    </tr>\n",
       "    <tr>\n",
       "      <th>22</th>\n",
       "      <td>Covered_or_Noncovered_Indicator_2</td>\n",
       "    </tr>\n",
       "    <tr>\n",
       "      <th>23</th>\n",
       "      <td>Indicate_Drug_or_Biological_or_Device_or_Medic...</td>\n",
       "    </tr>\n",
       "    <tr>\n",
       "      <th>24</th>\n",
       "      <td>Total_Amount_of_Payment_USDollars</td>\n",
       "    </tr>\n",
       "  </tbody>\n",
       "</table>\n",
       "</div>"
      ],
      "text/plain": [
       "                                                    0\n",
       "0                       Physician_License_State_code2\n",
       "1                   Covered_or_Noncovered_Indicator_3\n",
       "2   Applicable_Manufacturer_or_Applicable_GPO_Maki...\n",
       "3                                     Recipient_State\n",
       "4                 Associated_Drug_or_Biological_NDC_5\n",
       "5   Applicable_Manufacturer_or_Applicable_GPO_Maki...\n",
       "6                   Covered_or_Noncovered_Indicator_5\n",
       "7                      Dispute_Status_for_Publication\n",
       "8                       Physician_License_State_code3\n",
       "9                Form_of_Payment_or_Transfer_of_Value\n",
       "10                          Related_Product_Indicator\n",
       "11  Indicate_Drug_or_Biological_or_Device_or_Medic...\n",
       "12                                        Change_Type\n",
       "13                     Delay_in_Publication_Indicator\n",
       "14  Indicate_Drug_or_Biological_or_Device_or_Medic...\n",
       "15                                  Recipient_Country\n",
       "16                  Covered_or_Noncovered_Indicator_4\n",
       "17                      Physician_License_State_code5\n",
       "18  Indicate_Drug_or_Biological_or_Device_or_Medic...\n",
       "19                      Physician_License_State_code4\n",
       "20  Indicate_Drug_or_Biological_or_Device_or_Medic...\n",
       "21                  Covered_or_Noncovered_Indicator_1\n",
       "22                  Covered_or_Noncovered_Indicator_2\n",
       "23  Indicate_Drug_or_Biological_or_Device_or_Medic...\n",
       "24                  Total_Amount_of_Payment_USDollars"
      ]
     },
     "execution_count": 59,
     "metadata": {},
     "output_type": "execute_result"
    }
   ],
   "source": [
    "pd.DataFrame(X_train_rus.columns)"
   ]
  },
  {
   "cell_type": "markdown",
   "metadata": {},
   "source": [
    "### Model without high cardinality categorical variables"
   ]
  },
  {
   "cell_type": "code",
   "execution_count": 104,
   "metadata": {},
   "outputs": [],
   "source": [
    "# Model without high cardinality categorical variables\n",
    "# Defining ColumnTransformer\n",
    "preprocessor = ColumnTransformer(transformers=[(\"scalar\", StandardScaler(), cont_vars),\n",
    "                                              (\"dummies\", make_pipeline(SimpleImputer(strategy='constant', fill_value=\"Missing\"),\n",
    "                                                                        OneHotEncoder(handle_unknown='ignore')), categorical)\n",
    "                                             ])\n",
    "\n",
    "# Create pipeplines\n",
    "take2_pipe = Pipeline(steps=[('preprocessor', preprocessor),\n",
    "                             (\"logreg\", LogisticRegression(C=1000000, solver='lbfgs', max_iter=500))\n",
    "                            ])\n",
    "\n"
   ]
  },
  {
   "cell_type": "code",
   "execution_count": 105,
   "metadata": {
    "scrolled": true
   },
   "outputs": [],
   "source": [
    "# Baseline Training and testing\n",
    "imputed_model = cross_val_score(take2_pipe, X_train_rus, y_train_rus, scoring='roc_auc', cv=5)\n",
    "imputed_model_cv_score = np.mean(imputed_model)\n",
    "model_scores['imputed_model_cv_score'] = imputed_model_cv_score"
   ]
  },
  {
   "cell_type": "code",
   "execution_count": 106,
   "metadata": {},
   "outputs": [
    {
     "data": {
      "text/plain": [
       "{'baseline_cv': 0.9362845959438688,\n",
       " 'imputed_model_cv_score': 0.9535514508509628}"
      ]
     },
     "execution_count": 106,
     "metadata": {},
     "output_type": "execute_result"
    }
   ],
   "source": [
    "model_scores"
   ]
  },
  {
   "cell_type": "code",
   "execution_count": null,
   "metadata": {},
   "outputs": [],
   "source": []
  },
  {
   "cell_type": "code",
   "execution_count": null,
   "metadata": {},
   "outputs": [],
   "source": []
  },
  {
   "cell_type": "markdown",
   "metadata": {},
   "source": [
    "### Including Categorical Columns with high cardinality with Target Encoding"
   ]
  },
  {
   "cell_type": "markdown",
   "metadata": {},
   "source": [
    "Encoding separately as takes a lot of time"
   ]
  },
  {
   "cell_type": "code",
   "execution_count": 65,
   "metadata": {},
   "outputs": [],
   "source": [
    "# Random undersampling\n",
    "rus = RandomUnderSampler(random_state=42)\n",
    "X_train_rus, y_train_rus = rus.fit_resample(X_train_engineered, y_train)\n",
    "X_train_rus = pd.DataFrame(X_train_rus, columns = X_train_engineered.columns)"
   ]
  },
  {
   "cell_type": "code",
   "execution_count": 66,
   "metadata": {},
   "outputs": [],
   "source": [
    "# Target Encoding\n",
    "# # Takes hell lot of time (~10mins)\n",
    "# # but does the job\n",
    "\n",
    "# Convert NAs of categorical variables to None\n",
    "for col in target_based_encoding:\n",
    "    X_train_rus[col].fillna(\"None\", inplace=True)\n",
    "\n",
    "# Fitting target encoder\n",
    "target_enc = TargetEncoder(verbose=1, cols=target_based_encoding, return_df=True, handle_unknown='ignore')\n",
    "targets_encoded = target_enc.fit_transform(X_train_rus, y_train_rus)\n"
   ]
  },
  {
   "cell_type": "code",
   "execution_count": 107,
   "metadata": {},
   "outputs": [],
   "source": [
    "# Defining ColumnTransformer\n",
    "preprocessor = ColumnTransformer(transformers=[(\"scalar\", StandardScaler(), cont_vars),\n",
    "                                              (\"dummies\", make_pipeline(SimpleImputer(strategy='constant', fill_value=\"Missing\"),\n",
    "                                                                        OneHotEncoder(handle_unknown='ignore')), categorical)\n",
    "                                             ], remainder='passthrough')\n",
    "\n",
    "# Create pipeplines\n",
    "take3_pipe = Pipeline(steps=[('preprocessor', preprocessor),\n",
    "                             (\"logreg\", LogisticRegression(C=1000000, solver='lbfgs', max_iter=500))\n",
    "                            ])\n",
    "\n"
   ]
  },
  {
   "cell_type": "code",
   "execution_count": 108,
   "metadata": {
    "scrolled": true
   },
   "outputs": [],
   "source": [
    "# Baseline Training and testing\n",
    "target_enc_model = cross_val_score(take3_pipe, targets_encoded, y_train_rus, scoring='roc_auc', cv=5)\n",
    "target_enc_model_cv_score = np.mean(target_enc_model)\n",
    "model_scores['target_enc_model'] = target_enc_model_cv_score\n"
   ]
  },
  {
   "cell_type": "code",
   "execution_count": 109,
   "metadata": {},
   "outputs": [
    {
     "data": {
      "text/plain": [
       "{'baseline_cv': 0.9362845959438688,\n",
       " 'imputed_model_cv_score': 0.9535514508509628,\n",
       " 'target_enc_model': 0.9829174974299428}"
      ]
     },
     "execution_count": 109,
     "metadata": {},
     "output_type": "execute_result"
    }
   ],
   "source": [
    "model_scores"
   ]
  },
  {
   "cell_type": "code",
   "execution_count": null,
   "metadata": {},
   "outputs": [],
   "source": []
  },
  {
   "cell_type": "code",
   "execution_count": null,
   "metadata": {},
   "outputs": [],
   "source": []
  },
  {
   "cell_type": "markdown",
   "metadata": {},
   "source": [
    "## Trying linear SVC"
   ]
  },
  {
   "cell_type": "code",
   "execution_count": 112,
   "metadata": {},
   "outputs": [],
   "source": [
    "# Defining ColumnTransformer\n",
    "preprocessor = ColumnTransformer(transformers=[(\"scalar\", StandardScaler(), cont_vars),\n",
    "                                              (\"dummies\", make_pipeline(SimpleImputer(strategy='constant', fill_value=\"Missing\"),\n",
    "                                                                        OneHotEncoder(handle_unknown='ignore')), categorical)\n",
    "                                             ], remainder='passthrough')\n",
    "\n",
    "# Create pipeplines\n",
    "svc_pipe = Pipeline(steps=[('preprocessor', preprocessor),\n",
    "                                 (\"SVC\", LinearSVC())\n",
    "                                ])\n",
    "\n"
   ]
  },
  {
   "cell_type": "code",
   "execution_count": 115,
   "metadata": {
    "scrolled": true
   },
   "outputs": [],
   "source": [
    "# Baseline Training and testing\n",
    "svc_model = cross_val_score(svc_pipe, targets_encoded, y_train_rus, scoring='roc_auc', cv=5)\n",
    "svc_model_cv_score = np.mean(svc_model)\n",
    "model_scores['svc_model'] = svc_model_cv_score\n"
   ]
  },
  {
   "cell_type": "code",
   "execution_count": 116,
   "metadata": {},
   "outputs": [
    {
     "data": {
      "text/plain": [
       "{'baseline_cv': 0.9362845959438688,\n",
       " 'imputed_model_cv_score': 0.9535514508509628,\n",
       " 'target_enc_model': 0.9829174974299428,\n",
       " 'svc_model': 0.9811154450064498}"
      ]
     },
     "execution_count": 116,
     "metadata": {},
     "output_type": "execute_result"
    }
   ],
   "source": [
    "model_scores"
   ]
  },
  {
   "cell_type": "code",
   "execution_count": null,
   "metadata": {},
   "outputs": [],
   "source": []
  },
  {
   "cell_type": "code",
   "execution_count": null,
   "metadata": {},
   "outputs": [],
   "source": []
  },
  {
   "cell_type": "code",
   "execution_count": null,
   "metadata": {},
   "outputs": [],
   "source": []
  },
  {
   "cell_type": "code",
   "execution_count": null,
   "metadata": {},
   "outputs": [],
   "source": []
  },
  {
   "cell_type": "code",
   "execution_count": null,
   "metadata": {},
   "outputs": [],
   "source": []
  },
  {
   "cell_type": "code",
   "execution_count": null,
   "metadata": {},
   "outputs": [],
   "source": []
  },
  {
   "cell_type": "code",
   "execution_count": null,
   "metadata": {},
   "outputs": [],
   "source": []
  },
  {
   "cell_type": "markdown",
   "metadata": {},
   "source": [
    "## Code for drawing ROC curve"
   ]
  },
  {
   "cell_type": "code",
   "execution_count": null,
   "metadata": {},
   "outputs": [],
   "source": [
    "y_score = logreg.fit(pd.DataFrame(X_train_rus, columns = X_train.columns), \n",
    "                     pd.DataFrame(y_train_rus)).predict_proba(X_test)"
   ]
  },
  {
   "cell_type": "code",
   "execution_count": null,
   "metadata": {},
   "outputs": [],
   "source": [
    "preds = logreg.predict(X_test)\n",
    "tn, fp, fn, tp  = confusion_matrix(y_test, preds).ravel()\n",
    "print([tn, fp])\n",
    "print([fn, tp])"
   ]
  },
  {
   "cell_type": "code",
   "execution_count": null,
   "metadata": {
    "scrolled": false
   },
   "outputs": [],
   "source": [
    "roc_auc_score(y_test, y_score[:, 1])"
   ]
  },
  {
   "cell_type": "code",
   "execution_count": null,
   "metadata": {
    "scrolled": false
   },
   "outputs": [],
   "source": [
    "plot_roc(y_test, list(y_score[:, 1]))"
   ]
  },
  {
   "cell_type": "code",
   "execution_count": null,
   "metadata": {
    "scrolled": true
   },
   "outputs": [],
   "source": [
    "average_precision_score(y_test, y_score)"
   ]
  },
  {
   "cell_type": "code",
   "execution_count": null,
   "metadata": {},
   "outputs": [],
   "source": [
    "def plot_roc(y_test, y_score):\n",
    "    \n",
    "    fpr, tpr, thresholds = roc_curve(y_test, y_score)\n",
    "    \n",
    "    roc_auc = auc(fpr, tpr)\n",
    "    \n",
    "    lw = 2\n",
    "    plt.plot(fpr, tpr, color='darkorange',\n",
    "             lw=lw, label='ROC curve (area = %0.2f)' % roc_auc)\n",
    "    plt.plot([0, 1], [0, 1], color='navy', lw=lw, linestyle='--')\n",
    "    plt.xlim([0.0, 1.0])\n",
    "    plt.ylim([0.0, 1.05])\n",
    "    plt.xlabel('False Positive Rate')\n",
    "    plt.ylabel('True Positive Rate')\n",
    "    plt.title('Receiver operating characteristic')\n",
    "    plt.legend(loc=\"lower right\")\n",
    "    plt.show()"
   ]
  },
  {
   "cell_type": "code",
   "execution_count": null,
   "metadata": {},
   "outputs": [],
   "source": [
    "y_prob = logreg.predict_proba(X_test)"
   ]
  },
  {
   "cell_type": "code",
   "execution_count": null,
   "metadata": {},
   "outputs": [],
   "source": []
  }
 ],
 "metadata": {
  "kernelspec": {
   "display_name": "Python 3",
   "language": "python",
   "name": "python3"
  },
  "language_info": {
   "codemirror_mode": {
    "name": "ipython",
    "version": 3
   },
   "file_extension": ".py",
   "mimetype": "text/x-python",
   "name": "python",
   "nbconvert_exporter": "python",
   "pygments_lexer": "ipython3",
   "version": "3.7.2"
  }
 },
 "nbformat": 4,
 "nbformat_minor": 2
}
